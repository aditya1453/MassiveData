{
 "cells": [
  {
   "cell_type": "markdown",
   "metadata": {},
   "source": [
    "### Masive Data Lab Activities\n",
    "\n",
    "Description : Read and Cleaning Data Sensor BMP280 \n",
    "File        : T-BMP280-measures.csv \n",
    "              P-BMP280-measures.csv\n",
    "              \n",
    "Name        : Yudi Aditya"
   ]
  },
  {
   "cell_type": "code",
   "execution_count": 1,
   "metadata": {},
   "outputs": [],
   "source": [
    "import pandas as pd\n",
    "import numpy as np"
   ]
  },
  {
   "cell_type": "markdown",
   "metadata": {},
   "source": [
    "### 1. Temperature File (T-BMP280)"
   ]
  },
  {
   "cell_type": "code",
   "execution_count": 2,
   "metadata": {
    "scrolled": false
   },
   "outputs": [
    {
     "data": {
      "text/html": [
       "<div>\n",
       "<style scoped>\n",
       "    .dataframe tbody tr th:only-of-type {\n",
       "        vertical-align: middle;\n",
       "    }\n",
       "\n",
       "    .dataframe tbody tr th {\n",
       "        vertical-align: top;\n",
       "    }\n",
       "\n",
       "    .dataframe thead th {\n",
       "        text-align: right;\n",
       "    }\n",
       "</style>\n",
       "<table border=\"1\" class=\"dataframe\">\n",
       "  <thead>\n",
       "    <tr style=\"text-align: right;\">\n",
       "      <th></th>\n",
       "      <th>sensor</th>\n",
       "      <th>value</th>\n",
       "      <th>time</th>\n",
       "    </tr>\n",
       "  </thead>\n",
       "  <tbody>\n",
       "    <tr>\n",
       "      <th>0</th>\n",
       "      <td>T-BMP280</td>\n",
       "      <td>26.43</td>\n",
       "      <td>2017-12-22 10:52:59</td>\n",
       "    </tr>\n",
       "    <tr>\n",
       "      <th>1</th>\n",
       "      <td>T-BMP280</td>\n",
       "      <td>26.43</td>\n",
       "      <td>2017-12-22 10:53:02</td>\n",
       "    </tr>\n",
       "    <tr>\n",
       "      <th>2</th>\n",
       "      <td>T-BMP280</td>\n",
       "      <td>26.44</td>\n",
       "      <td>2017-12-22 10:53:05</td>\n",
       "    </tr>\n",
       "    <tr>\n",
       "      <th>3</th>\n",
       "      <td>T-BMP280</td>\n",
       "      <td>26.44</td>\n",
       "      <td>2017-12-22 10:53:08</td>\n",
       "    </tr>\n",
       "    <tr>\n",
       "      <th>4</th>\n",
       "      <td>T-BMP280</td>\n",
       "      <td>26.42</td>\n",
       "      <td>2017-12-22 10:53:11</td>\n",
       "    </tr>\n",
       "  </tbody>\n",
       "</table>\n",
       "</div>"
      ],
      "text/plain": [
       "     sensor  value                time\n",
       "0  T-BMP280  26.43 2017-12-22 10:52:59\n",
       "1  T-BMP280  26.43 2017-12-22 10:53:02\n",
       "2  T-BMP280  26.44 2017-12-22 10:53:05\n",
       "3  T-BMP280  26.44 2017-12-22 10:53:08\n",
       "4  T-BMP280  26.42 2017-12-22 10:53:11"
      ]
     },
     "execution_count": 2,
     "metadata": {},
     "output_type": "execute_result"
    }
   ],
   "source": [
    "# Reading T-DHT22 file\n",
    "df1 = pd.read_csv('../data/raw/measures/T-BMP280-measures.csv', parse_dates = ['time'])\n",
    "df1.head()"
   ]
  },
  {
   "cell_type": "code",
   "execution_count": 3,
   "metadata": {},
   "outputs": [
    {
     "data": {
      "text/plain": [
       "pandas._libs.tslibs.timestamps.Timestamp"
      ]
     },
     "execution_count": 3,
     "metadata": {},
     "output_type": "execute_result"
    }
   ],
   "source": [
    "type(df1.time[0])"
   ]
  },
  {
   "cell_type": "code",
   "execution_count": 4,
   "metadata": {
    "scrolled": false
   },
   "outputs": [
    {
     "name": "stdout",
     "output_type": "stream",
     "text": [
      "<class 'pandas.core.frame.DataFrame'>\n",
      "RangeIndex: 1422795 entries, 0 to 1422794\n",
      "Data columns (total 3 columns):\n",
      "sensor    1422795 non-null object\n",
      "value     1422795 non-null float64\n",
      "time      1422795 non-null datetime64[ns]\n",
      "dtypes: datetime64[ns](1), float64(1), object(1)\n",
      "memory usage: 32.6+ MB\n"
     ]
    }
   ],
   "source": [
    "# Get General Information regarding data frame\n",
    "df1.info()"
   ]
  },
  {
   "cell_type": "markdown",
   "metadata": {},
   "source": [
    "From information above, the data frame has 1422795 rows and 3 columns. Each column has 1422795 data, there is no missing data. "
   ]
  },
  {
   "cell_type": "code",
   "execution_count": 5,
   "metadata": {
    "scrolled": false
   },
   "outputs": [
    {
     "data": {
      "text/plain": [
       "T-BMP280    1422795\n",
       "Name: sensor, dtype: int64"
      ]
     },
     "execution_count": 5,
     "metadata": {},
     "output_type": "execute_result"
    }
   ],
   "source": [
    "# Get sensor's description \n",
    "df1.sensor.value_counts()"
   ]
  },
  {
   "cell_type": "code",
   "execution_count": 6,
   "metadata": {},
   "outputs": [
    {
     "data": {
      "text/html": [
       "<div>\n",
       "<style scoped>\n",
       "    .dataframe tbody tr th:only-of-type {\n",
       "        vertical-align: middle;\n",
       "    }\n",
       "\n",
       "    .dataframe tbody tr th {\n",
       "        vertical-align: top;\n",
       "    }\n",
       "\n",
       "    .dataframe thead th {\n",
       "        text-align: right;\n",
       "    }\n",
       "</style>\n",
       "<table border=\"1\" class=\"dataframe\">\n",
       "  <thead>\n",
       "    <tr style=\"text-align: right;\">\n",
       "      <th></th>\n",
       "      <th>T_BMP280</th>\n",
       "      <th>time</th>\n",
       "    </tr>\n",
       "  </thead>\n",
       "  <tbody>\n",
       "    <tr>\n",
       "      <th>0</th>\n",
       "      <td>26.43</td>\n",
       "      <td>2017-12-22 10:52:59</td>\n",
       "    </tr>\n",
       "    <tr>\n",
       "      <th>1</th>\n",
       "      <td>26.43</td>\n",
       "      <td>2017-12-22 10:53:02</td>\n",
       "    </tr>\n",
       "    <tr>\n",
       "      <th>2</th>\n",
       "      <td>26.44</td>\n",
       "      <td>2017-12-22 10:53:05</td>\n",
       "    </tr>\n",
       "    <tr>\n",
       "      <th>3</th>\n",
       "      <td>26.44</td>\n",
       "      <td>2017-12-22 10:53:08</td>\n",
       "    </tr>\n",
       "    <tr>\n",
       "      <th>4</th>\n",
       "      <td>26.42</td>\n",
       "      <td>2017-12-22 10:53:11</td>\n",
       "    </tr>\n",
       "  </tbody>\n",
       "</table>\n",
       "</div>"
      ],
      "text/plain": [
       "   T_BMP280                time\n",
       "0     26.43 2017-12-22 10:52:59\n",
       "1     26.43 2017-12-22 10:53:02\n",
       "2     26.44 2017-12-22 10:53:05\n",
       "3     26.44 2017-12-22 10:53:08\n",
       "4     26.42 2017-12-22 10:53:11"
      ]
     },
     "execution_count": 6,
     "metadata": {},
     "output_type": "execute_result"
    }
   ],
   "source": [
    "# This data has only one sensor, I drop sensor column and rename column value to T_BMP280\n",
    "new_df1 = df1.drop(['sensor'], axis='columns') \n",
    "new_df1.rename(columns= {'value' : 'T_BMP280'}, inplace = True )\n",
    "new_df1.head()"
   ]
  },
  {
   "cell_type": "code",
   "execution_count": 7,
   "metadata": {},
   "outputs": [
    {
     "data": {
      "text/plain": [
       "T_BMP280    0\n",
       "time        0\n",
       "dtype: int64"
      ]
     },
     "execution_count": 7,
     "metadata": {},
     "output_type": "execute_result"
    }
   ],
   "source": [
    "# Count missing data in each column\n",
    "new_df1.isnull().sum()"
   ]
  },
  {
   "cell_type": "code",
   "execution_count": 8,
   "metadata": {
    "scrolled": false
   },
   "outputs": [
    {
     "data": {
      "text/html": [
       "<div>\n",
       "<style scoped>\n",
       "    .dataframe tbody tr th:only-of-type {\n",
       "        vertical-align: middle;\n",
       "    }\n",
       "\n",
       "    .dataframe tbody tr th {\n",
       "        vertical-align: top;\n",
       "    }\n",
       "\n",
       "    .dataframe thead th {\n",
       "        text-align: right;\n",
       "    }\n",
       "</style>\n",
       "<table border=\"1\" class=\"dataframe\">\n",
       "  <thead>\n",
       "    <tr style=\"text-align: right;\">\n",
       "      <th></th>\n",
       "      <th>T_BMP280</th>\n",
       "    </tr>\n",
       "  </thead>\n",
       "  <tbody>\n",
       "    <tr>\n",
       "      <th>count</th>\n",
       "      <td>1.422795e+06</td>\n",
       "    </tr>\n",
       "    <tr>\n",
       "      <th>mean</th>\n",
       "      <td>2.224838e+01</td>\n",
       "    </tr>\n",
       "    <tr>\n",
       "      <th>std</th>\n",
       "      <td>2.619527e+00</td>\n",
       "    </tr>\n",
       "    <tr>\n",
       "      <th>min</th>\n",
       "      <td>1.568000e+01</td>\n",
       "    </tr>\n",
       "    <tr>\n",
       "      <th>25%</th>\n",
       "      <td>2.096000e+01</td>\n",
       "    </tr>\n",
       "    <tr>\n",
       "      <th>50%</th>\n",
       "      <td>2.253000e+01</td>\n",
       "    </tr>\n",
       "    <tr>\n",
       "      <th>75%</th>\n",
       "      <td>2.408000e+01</td>\n",
       "    </tr>\n",
       "    <tr>\n",
       "      <th>max</th>\n",
       "      <td>2.899000e+01</td>\n",
       "    </tr>\n",
       "  </tbody>\n",
       "</table>\n",
       "</div>"
      ],
      "text/plain": [
       "           T_BMP280\n",
       "count  1.422795e+06\n",
       "mean   2.224838e+01\n",
       "std    2.619527e+00\n",
       "min    1.568000e+01\n",
       "25%    2.096000e+01\n",
       "50%    2.253000e+01\n",
       "75%    2.408000e+01\n",
       "max    2.899000e+01"
      ]
     },
     "execution_count": 8,
     "metadata": {},
     "output_type": "execute_result"
    }
   ],
   "source": [
    "#Get statistical information\n",
    "new_df1.describe()"
   ]
  },
  {
   "cell_type": "markdown",
   "metadata": {},
   "source": [
    "File T-DHT22-measures.csv doesn't have any problem. There's no missing data and each column has a same format."
   ]
  },
  {
   "cell_type": "markdown",
   "metadata": {},
   "source": [
    "### 2. Humidity File (P-BMP280)"
   ]
  },
  {
   "cell_type": "code",
   "execution_count": 9,
   "metadata": {
    "scrolled": true
   },
   "outputs": [
    {
     "data": {
      "text/html": [
       "<div>\n",
       "<style scoped>\n",
       "    .dataframe tbody tr th:only-of-type {\n",
       "        vertical-align: middle;\n",
       "    }\n",
       "\n",
       "    .dataframe tbody tr th {\n",
       "        vertical-align: top;\n",
       "    }\n",
       "\n",
       "    .dataframe thead th {\n",
       "        text-align: right;\n",
       "    }\n",
       "</style>\n",
       "<table border=\"1\" class=\"dataframe\">\n",
       "  <thead>\n",
       "    <tr style=\"text-align: right;\">\n",
       "      <th></th>\n",
       "      <th>sensor</th>\n",
       "      <th>value</th>\n",
       "      <th>time</th>\n",
       "    </tr>\n",
       "  </thead>\n",
       "  <tbody>\n",
       "    <tr>\n",
       "      <th>0</th>\n",
       "      <td>P-BMP280</td>\n",
       "      <td>1035.56</td>\n",
       "      <td>2017-12-22 10:52:59</td>\n",
       "    </tr>\n",
       "    <tr>\n",
       "      <th>1</th>\n",
       "      <td>P-BMP280</td>\n",
       "      <td>1035.55</td>\n",
       "      <td>2017-12-22 10:53:02</td>\n",
       "    </tr>\n",
       "    <tr>\n",
       "      <th>2</th>\n",
       "      <td>P-BMP280</td>\n",
       "      <td>1035.54</td>\n",
       "      <td>2017-12-22 10:53:05</td>\n",
       "    </tr>\n",
       "    <tr>\n",
       "      <th>3</th>\n",
       "      <td>P-BMP280</td>\n",
       "      <td>1035.54</td>\n",
       "      <td>2017-12-22 10:53:08</td>\n",
       "    </tr>\n",
       "    <tr>\n",
       "      <th>4</th>\n",
       "      <td>P-BMP280</td>\n",
       "      <td>1035.53</td>\n",
       "      <td>2017-12-22 10:53:11</td>\n",
       "    </tr>\n",
       "  </tbody>\n",
       "</table>\n",
       "</div>"
      ],
      "text/plain": [
       "     sensor    value                time\n",
       "0  P-BMP280  1035.56 2017-12-22 10:52:59\n",
       "1  P-BMP280  1035.55 2017-12-22 10:53:02\n",
       "2  P-BMP280  1035.54 2017-12-22 10:53:05\n",
       "3  P-BMP280  1035.54 2017-12-22 10:53:08\n",
       "4  P-BMP280  1035.53 2017-12-22 10:53:11"
      ]
     },
     "execution_count": 9,
     "metadata": {},
     "output_type": "execute_result"
    }
   ],
   "source": [
    "# Reading P-BMP280 file\n",
    "df2 = pd.read_csv('../data/raw/measures/P-BMP280-measures.csv', parse_dates = ['time'])\n",
    "df2.head()"
   ]
  },
  {
   "cell_type": "code",
   "execution_count": 10,
   "metadata": {},
   "outputs": [
    {
     "data": {
      "text/plain": [
       "pandas._libs.tslibs.timestamps.Timestamp"
      ]
     },
     "execution_count": 10,
     "metadata": {},
     "output_type": "execute_result"
    }
   ],
   "source": [
    "type(df2.time[0])"
   ]
  },
  {
   "cell_type": "code",
   "execution_count": 11,
   "metadata": {
    "scrolled": true
   },
   "outputs": [
    {
     "name": "stdout",
     "output_type": "stream",
     "text": [
      "<class 'pandas.core.frame.DataFrame'>\n",
      "RangeIndex: 1422788 entries, 0 to 1422787\n",
      "Data columns (total 3 columns):\n",
      "sensor    1422788 non-null object\n",
      "value     1422788 non-null float64\n",
      "time      1422788 non-null datetime64[ns]\n",
      "dtypes: datetime64[ns](1), float64(1), object(1)\n",
      "memory usage: 32.6+ MB\n"
     ]
    }
   ],
   "source": [
    "# Get General Information regarding data frame\n",
    "df2.info()"
   ]
  },
  {
   "cell_type": "markdown",
   "metadata": {},
   "source": [
    "From information above, the data frame has 1422788 rows and 3 columns. Each column has 1422788 data, there is no missing data."
   ]
  },
  {
   "cell_type": "code",
   "execution_count": 12,
   "metadata": {},
   "outputs": [
    {
     "data": {
      "text/plain": [
       "P-BMP280    1422788\n",
       "Name: sensor, dtype: int64"
      ]
     },
     "execution_count": 12,
     "metadata": {},
     "output_type": "execute_result"
    }
   ],
   "source": [
    "# Get General Information regarding data frame\n",
    "df2.sensor.value_counts()"
   ]
  },
  {
   "cell_type": "code",
   "execution_count": 13,
   "metadata": {},
   "outputs": [
    {
     "data": {
      "text/html": [
       "<div>\n",
       "<style scoped>\n",
       "    .dataframe tbody tr th:only-of-type {\n",
       "        vertical-align: middle;\n",
       "    }\n",
       "\n",
       "    .dataframe tbody tr th {\n",
       "        vertical-align: top;\n",
       "    }\n",
       "\n",
       "    .dataframe thead th {\n",
       "        text-align: right;\n",
       "    }\n",
       "</style>\n",
       "<table border=\"1\" class=\"dataframe\">\n",
       "  <thead>\n",
       "    <tr style=\"text-align: right;\">\n",
       "      <th></th>\n",
       "      <th>P_BMP280</th>\n",
       "      <th>time</th>\n",
       "    </tr>\n",
       "  </thead>\n",
       "  <tbody>\n",
       "    <tr>\n",
       "      <th>0</th>\n",
       "      <td>1035.56</td>\n",
       "      <td>2017-12-22 10:52:59</td>\n",
       "    </tr>\n",
       "    <tr>\n",
       "      <th>1</th>\n",
       "      <td>1035.55</td>\n",
       "      <td>2017-12-22 10:53:02</td>\n",
       "    </tr>\n",
       "    <tr>\n",
       "      <th>2</th>\n",
       "      <td>1035.54</td>\n",
       "      <td>2017-12-22 10:53:05</td>\n",
       "    </tr>\n",
       "    <tr>\n",
       "      <th>3</th>\n",
       "      <td>1035.54</td>\n",
       "      <td>2017-12-22 10:53:08</td>\n",
       "    </tr>\n",
       "    <tr>\n",
       "      <th>4</th>\n",
       "      <td>1035.53</td>\n",
       "      <td>2017-12-22 10:53:11</td>\n",
       "    </tr>\n",
       "  </tbody>\n",
       "</table>\n",
       "</div>"
      ],
      "text/plain": [
       "   P_BMP280                time\n",
       "0   1035.56 2017-12-22 10:52:59\n",
       "1   1035.55 2017-12-22 10:53:02\n",
       "2   1035.54 2017-12-22 10:53:05\n",
       "3   1035.54 2017-12-22 10:53:08\n",
       "4   1035.53 2017-12-22 10:53:11"
      ]
     },
     "execution_count": 13,
     "metadata": {},
     "output_type": "execute_result"
    }
   ],
   "source": [
    "# This data has only one sensor, I drop sensor column and rename column value to P-BMP280\n",
    "new_df2 = df2.drop(['sensor'], axis='columns') \n",
    "new_df2.rename(columns= {'value' : 'P_BMP280'}, inplace = True )\n",
    "new_df2.head()"
   ]
  },
  {
   "cell_type": "code",
   "execution_count": 14,
   "metadata": {},
   "outputs": [
    {
     "data": {
      "text/plain": [
       "P_BMP280    0\n",
       "time        0\n",
       "dtype: int64"
      ]
     },
     "execution_count": 14,
     "metadata": {},
     "output_type": "execute_result"
    }
   ],
   "source": [
    "# Count missing data in each column\n",
    "new_df2.isnull().sum()"
   ]
  },
  {
   "cell_type": "markdown",
   "metadata": {},
   "source": [
    "File P_BMP280-measures.csv doesn't have any problem. There's no missing data and each column has a same format."
   ]
  },
  {
   "cell_type": "markdown",
   "metadata": {},
   "source": [
    "### 3. Merge temperature and humidity data frame"
   ]
  },
  {
   "cell_type": "markdown",
   "metadata": {},
   "source": [
    "In this section, I'm going to merge two dataframes into one data frame base on the time. After merging two data frames probably founded missing data either on column T_BMP280 or P_BMP280 because there is a difference between time in each data frame. "
   ]
  },
  {
   "cell_type": "code",
   "execution_count": 15,
   "metadata": {
    "scrolled": false
   },
   "outputs": [
    {
     "data": {
      "text/html": [
       "<div>\n",
       "<style scoped>\n",
       "    .dataframe tbody tr th:only-of-type {\n",
       "        vertical-align: middle;\n",
       "    }\n",
       "\n",
       "    .dataframe tbody tr th {\n",
       "        vertical-align: top;\n",
       "    }\n",
       "\n",
       "    .dataframe thead th {\n",
       "        text-align: right;\n",
       "    }\n",
       "</style>\n",
       "<table border=\"1\" class=\"dataframe\">\n",
       "  <thead>\n",
       "    <tr style=\"text-align: right;\">\n",
       "      <th></th>\n",
       "      <th>T_BMP280</th>\n",
       "      <th>P_BMP280</th>\n",
       "    </tr>\n",
       "    <tr>\n",
       "      <th>time</th>\n",
       "      <th></th>\n",
       "      <th></th>\n",
       "    </tr>\n",
       "  </thead>\n",
       "  <tbody>\n",
       "    <tr>\n",
       "      <th>2017-12-22 10:52:59</th>\n",
       "      <td>26.43</td>\n",
       "      <td>1035.56</td>\n",
       "    </tr>\n",
       "    <tr>\n",
       "      <th>2017-12-22 10:53:02</th>\n",
       "      <td>26.43</td>\n",
       "      <td>1035.55</td>\n",
       "    </tr>\n",
       "    <tr>\n",
       "      <th>2017-12-22 10:53:05</th>\n",
       "      <td>26.44</td>\n",
       "      <td>1035.54</td>\n",
       "    </tr>\n",
       "    <tr>\n",
       "      <th>2017-12-22 10:53:08</th>\n",
       "      <td>26.44</td>\n",
       "      <td>1035.54</td>\n",
       "    </tr>\n",
       "    <tr>\n",
       "      <th>2017-12-22 10:53:11</th>\n",
       "      <td>26.42</td>\n",
       "      <td>1035.53</td>\n",
       "    </tr>\n",
       "  </tbody>\n",
       "</table>\n",
       "</div>"
      ],
      "text/plain": [
       "                     T_BMP280  P_BMP280\n",
       "time                                   \n",
       "2017-12-22 10:52:59     26.43   1035.56\n",
       "2017-12-22 10:53:02     26.43   1035.55\n",
       "2017-12-22 10:53:05     26.44   1035.54\n",
       "2017-12-22 10:53:08     26.44   1035.54\n",
       "2017-12-22 10:53:11     26.42   1035.53"
      ]
     },
     "execution_count": 15,
     "metadata": {},
     "output_type": "execute_result"
    }
   ],
   "source": [
    "# Merge data frame base on time columns\n",
    "newdf = pd.merge(new_df1, new_df2, on = 'time', how='outer')\n",
    "# Set time as a index of data frame\n",
    "newdf.set_index('time', inplace=True)\n",
    "newdf.head()"
   ]
  },
  {
   "cell_type": "code",
   "execution_count": 16,
   "metadata": {
    "scrolled": false
   },
   "outputs": [
    {
     "name": "stdout",
     "output_type": "stream",
     "text": [
      "<class 'pandas.core.frame.DataFrame'>\n",
      "DatetimeIndex: 1504469 entries, 2017-12-22 10:52:59 to 2018-03-13 11:41:31\n",
      "Data columns (total 2 columns):\n",
      "T_BMP280    1422795 non-null float64\n",
      "P_BMP280    1422788 non-null float64\n",
      "dtypes: float64(2)\n",
      "memory usage: 34.4 MB\n"
     ]
    }
   ],
   "source": [
    "# Get general information\n",
    "newdf.info()"
   ]
  },
  {
   "cell_type": "markdown",
   "metadata": {},
   "source": [
    "From information above, the data frame after merging has 1504469 rows. T_BMP280 and P_BMP280 respectively has 1422795 and 1422788 data. In other words, there is missing data in each column. "
   ]
  },
  {
   "cell_type": "code",
   "execution_count": 17,
   "metadata": {},
   "outputs": [
    {
     "data": {
      "text/plain": [
       "T_BMP280    81674\n",
       "P_BMP280    81681\n",
       "dtype: int64"
      ]
     },
     "execution_count": 17,
     "metadata": {},
     "output_type": "execute_result"
    }
   ],
   "source": [
    "# Count missing data in each column\n",
    "newdf.isnull().sum()"
   ]
  },
  {
   "cell_type": "code",
   "execution_count": 18,
   "metadata": {
    "scrolled": true
   },
   "outputs": [
    {
     "data": {
      "text/html": [
       "<div>\n",
       "<style scoped>\n",
       "    .dataframe tbody tr th:only-of-type {\n",
       "        vertical-align: middle;\n",
       "    }\n",
       "\n",
       "    .dataframe tbody tr th {\n",
       "        vertical-align: top;\n",
       "    }\n",
       "\n",
       "    .dataframe thead th {\n",
       "        text-align: right;\n",
       "    }\n",
       "</style>\n",
       "<table border=\"1\" class=\"dataframe\">\n",
       "  <thead>\n",
       "    <tr style=\"text-align: right;\">\n",
       "      <th></th>\n",
       "      <th>T_BMP280</th>\n",
       "      <th>P_BMP280</th>\n",
       "    </tr>\n",
       "    <tr>\n",
       "      <th>time</th>\n",
       "      <th></th>\n",
       "      <th></th>\n",
       "    </tr>\n",
       "  </thead>\n",
       "  <tbody>\n",
       "    <tr>\n",
       "      <th>2017-12-22 10:59:00</th>\n",
       "      <td>26.43</td>\n",
       "      <td>1035.50</td>\n",
       "    </tr>\n",
       "    <tr>\n",
       "      <th>2017-12-22 10:59:03</th>\n",
       "      <td>26.43</td>\n",
       "      <td>1035.50</td>\n",
       "    </tr>\n",
       "    <tr>\n",
       "      <th>2017-12-22 10:59:06</th>\n",
       "      <td>26.43</td>\n",
       "      <td>1035.50</td>\n",
       "    </tr>\n",
       "    <tr>\n",
       "      <th>2017-12-22 10:59:09</th>\n",
       "      <td>26.44</td>\n",
       "      <td>1035.52</td>\n",
       "    </tr>\n",
       "    <tr>\n",
       "      <th>2017-12-22 10:59:12</th>\n",
       "      <td>26.46</td>\n",
       "      <td>1035.52</td>\n",
       "    </tr>\n",
       "    <tr>\n",
       "      <th>2017-12-22 10:59:15</th>\n",
       "      <td>26.46</td>\n",
       "      <td>1035.55</td>\n",
       "    </tr>\n",
       "    <tr>\n",
       "      <th>2017-12-22 10:59:18</th>\n",
       "      <td>26.48</td>\n",
       "      <td>NaN</td>\n",
       "    </tr>\n",
       "    <tr>\n",
       "      <th>2017-12-22 10:59:22</th>\n",
       "      <td>26.48</td>\n",
       "      <td>1035.54</td>\n",
       "    </tr>\n",
       "    <tr>\n",
       "      <th>2017-12-22 10:59:25</th>\n",
       "      <td>26.46</td>\n",
       "      <td>1035.51</td>\n",
       "    </tr>\n",
       "    <tr>\n",
       "      <th>2017-12-22 10:59:28</th>\n",
       "      <td>26.46</td>\n",
       "      <td>1035.50</td>\n",
       "    </tr>\n",
       "    <tr>\n",
       "      <th>2017-12-22 10:59:31</th>\n",
       "      <td>26.46</td>\n",
       "      <td>1035.51</td>\n",
       "    </tr>\n",
       "    <tr>\n",
       "      <th>2017-12-22 10:59:34</th>\n",
       "      <td>26.48</td>\n",
       "      <td>1035.51</td>\n",
       "    </tr>\n",
       "    <tr>\n",
       "      <th>2017-12-22 10:59:37</th>\n",
       "      <td>26.48</td>\n",
       "      <td>1035.52</td>\n",
       "    </tr>\n",
       "    <tr>\n",
       "      <th>2017-12-22 10:59:40</th>\n",
       "      <td>26.48</td>\n",
       "      <td>NaN</td>\n",
       "    </tr>\n",
       "    <tr>\n",
       "      <th>2017-12-22 10:59:44</th>\n",
       "      <td>26.47</td>\n",
       "      <td>1035.54</td>\n",
       "    </tr>\n",
       "  </tbody>\n",
       "</table>\n",
       "</div>"
      ],
      "text/plain": [
       "                     T_BMP280  P_BMP280\n",
       "time                                   \n",
       "2017-12-22 10:59:00     26.43   1035.50\n",
       "2017-12-22 10:59:03     26.43   1035.50\n",
       "2017-12-22 10:59:06     26.43   1035.50\n",
       "2017-12-22 10:59:09     26.44   1035.52\n",
       "2017-12-22 10:59:12     26.46   1035.52\n",
       "2017-12-22 10:59:15     26.46   1035.55\n",
       "2017-12-22 10:59:18     26.48       NaN\n",
       "2017-12-22 10:59:22     26.48   1035.54\n",
       "2017-12-22 10:59:25     26.46   1035.51\n",
       "2017-12-22 10:59:28     26.46   1035.50\n",
       "2017-12-22 10:59:31     26.46   1035.51\n",
       "2017-12-22 10:59:34     26.48   1035.51\n",
       "2017-12-22 10:59:37     26.48   1035.52\n",
       "2017-12-22 10:59:40     26.48       NaN\n",
       "2017-12-22 10:59:44     26.47   1035.54"
      ]
     },
     "execution_count": 18,
     "metadata": {},
     "output_type": "execute_result"
    }
   ],
   "source": [
    "newdf.iloc[110:125]"
   ]
  },
  {
   "cell_type": "markdown",
   "metadata": {},
   "source": [
    "In this case, I use interpolation base on time to handle missing data. These are the reason. \n",
    "1. Either temperature or preasure does not have a significant change over time.\n",
    "2. The difference of time from one row to the next row is not same. "
   ]
  },
  {
   "cell_type": "code",
   "execution_count": 19,
   "metadata": {
    "scrolled": true
   },
   "outputs": [
    {
     "data": {
      "text/html": [
       "<div>\n",
       "<style scoped>\n",
       "    .dataframe tbody tr th:only-of-type {\n",
       "        vertical-align: middle;\n",
       "    }\n",
       "\n",
       "    .dataframe tbody tr th {\n",
       "        vertical-align: top;\n",
       "    }\n",
       "\n",
       "    .dataframe thead th {\n",
       "        text-align: right;\n",
       "    }\n",
       "</style>\n",
       "<table border=\"1\" class=\"dataframe\">\n",
       "  <thead>\n",
       "    <tr style=\"text-align: right;\">\n",
       "      <th></th>\n",
       "      <th>T_BMP280</th>\n",
       "      <th>P_BMP280</th>\n",
       "    </tr>\n",
       "    <tr>\n",
       "      <th>time</th>\n",
       "      <th></th>\n",
       "      <th></th>\n",
       "    </tr>\n",
       "  </thead>\n",
       "  <tbody>\n",
       "    <tr>\n",
       "      <th>2017-12-22 10:59:00</th>\n",
       "      <td>26.43</td>\n",
       "      <td>1035.500000</td>\n",
       "    </tr>\n",
       "    <tr>\n",
       "      <th>2017-12-22 10:59:03</th>\n",
       "      <td>26.43</td>\n",
       "      <td>1035.500000</td>\n",
       "    </tr>\n",
       "    <tr>\n",
       "      <th>2017-12-22 10:59:06</th>\n",
       "      <td>26.43</td>\n",
       "      <td>1035.500000</td>\n",
       "    </tr>\n",
       "    <tr>\n",
       "      <th>2017-12-22 10:59:09</th>\n",
       "      <td>26.44</td>\n",
       "      <td>1035.520000</td>\n",
       "    </tr>\n",
       "    <tr>\n",
       "      <th>2017-12-22 10:59:12</th>\n",
       "      <td>26.46</td>\n",
       "      <td>1035.520000</td>\n",
       "    </tr>\n",
       "    <tr>\n",
       "      <th>2017-12-22 10:59:15</th>\n",
       "      <td>26.46</td>\n",
       "      <td>1035.550000</td>\n",
       "    </tr>\n",
       "    <tr>\n",
       "      <th>2017-12-22 10:59:18</th>\n",
       "      <td>26.48</td>\n",
       "      <td>1035.545714</td>\n",
       "    </tr>\n",
       "    <tr>\n",
       "      <th>2017-12-22 10:59:22</th>\n",
       "      <td>26.48</td>\n",
       "      <td>1035.540000</td>\n",
       "    </tr>\n",
       "    <tr>\n",
       "      <th>2017-12-22 10:59:25</th>\n",
       "      <td>26.46</td>\n",
       "      <td>1035.510000</td>\n",
       "    </tr>\n",
       "    <tr>\n",
       "      <th>2017-12-22 10:59:28</th>\n",
       "      <td>26.46</td>\n",
       "      <td>1035.500000</td>\n",
       "    </tr>\n",
       "    <tr>\n",
       "      <th>2017-12-22 10:59:31</th>\n",
       "      <td>26.46</td>\n",
       "      <td>1035.510000</td>\n",
       "    </tr>\n",
       "    <tr>\n",
       "      <th>2017-12-22 10:59:34</th>\n",
       "      <td>26.48</td>\n",
       "      <td>1035.510000</td>\n",
       "    </tr>\n",
       "    <tr>\n",
       "      <th>2017-12-22 10:59:37</th>\n",
       "      <td>26.48</td>\n",
       "      <td>1035.520000</td>\n",
       "    </tr>\n",
       "    <tr>\n",
       "      <th>2017-12-22 10:59:40</th>\n",
       "      <td>26.48</td>\n",
       "      <td>1035.528571</td>\n",
       "    </tr>\n",
       "    <tr>\n",
       "      <th>2017-12-22 10:59:44</th>\n",
       "      <td>26.47</td>\n",
       "      <td>1035.540000</td>\n",
       "    </tr>\n",
       "  </tbody>\n",
       "</table>\n",
       "</div>"
      ],
      "text/plain": [
       "                     T_BMP280     P_BMP280\n",
       "time                                      \n",
       "2017-12-22 10:59:00     26.43  1035.500000\n",
       "2017-12-22 10:59:03     26.43  1035.500000\n",
       "2017-12-22 10:59:06     26.43  1035.500000\n",
       "2017-12-22 10:59:09     26.44  1035.520000\n",
       "2017-12-22 10:59:12     26.46  1035.520000\n",
       "2017-12-22 10:59:15     26.46  1035.550000\n",
       "2017-12-22 10:59:18     26.48  1035.545714\n",
       "2017-12-22 10:59:22     26.48  1035.540000\n",
       "2017-12-22 10:59:25     26.46  1035.510000\n",
       "2017-12-22 10:59:28     26.46  1035.500000\n",
       "2017-12-22 10:59:31     26.46  1035.510000\n",
       "2017-12-22 10:59:34     26.48  1035.510000\n",
       "2017-12-22 10:59:37     26.48  1035.520000\n",
       "2017-12-22 10:59:40     26.48  1035.528571\n",
       "2017-12-22 10:59:44     26.47  1035.540000"
      ]
     },
     "execution_count": 19,
     "metadata": {},
     "output_type": "execute_result"
    }
   ],
   "source": [
    "# Handling missing data using interpolation\n",
    "newdf.interpolate(method='time', inplace=True)\n",
    "newdf.iloc[110:125]"
   ]
  },
  {
   "cell_type": "code",
   "execution_count": 20,
   "metadata": {
    "scrolled": true
   },
   "outputs": [
    {
     "data": {
      "text/html": [
       "<div>\n",
       "<style scoped>\n",
       "    .dataframe tbody tr th:only-of-type {\n",
       "        vertical-align: middle;\n",
       "    }\n",
       "\n",
       "    .dataframe tbody tr th {\n",
       "        vertical-align: top;\n",
       "    }\n",
       "\n",
       "    .dataframe thead th {\n",
       "        text-align: right;\n",
       "    }\n",
       "</style>\n",
       "<table border=\"1\" class=\"dataframe\">\n",
       "  <thead>\n",
       "    <tr style=\"text-align: right;\">\n",
       "      <th></th>\n",
       "      <th>T_BMP280</th>\n",
       "      <th>P_BMP280</th>\n",
       "    </tr>\n",
       "  </thead>\n",
       "  <tbody>\n",
       "    <tr>\n",
       "      <th>count</th>\n",
       "      <td>1.504469e+06</td>\n",
       "      <td>1.504469e+06</td>\n",
       "    </tr>\n",
       "    <tr>\n",
       "      <th>mean</th>\n",
       "      <td>2.223604e+01</td>\n",
       "      <td>1.015579e+03</td>\n",
       "    </tr>\n",
       "    <tr>\n",
       "      <th>std</th>\n",
       "      <td>2.631795e+00</td>\n",
       "      <td>1.010362e+01</td>\n",
       "    </tr>\n",
       "    <tr>\n",
       "      <th>min</th>\n",
       "      <td>1.568000e+01</td>\n",
       "      <td>9.856200e+02</td>\n",
       "    </tr>\n",
       "    <tr>\n",
       "      <th>25%</th>\n",
       "      <td>2.095000e+01</td>\n",
       "      <td>1.008610e+03</td>\n",
       "    </tr>\n",
       "    <tr>\n",
       "      <th>50%</th>\n",
       "      <td>2.252800e+01</td>\n",
       "      <td>1.016860e+03</td>\n",
       "    </tr>\n",
       "    <tr>\n",
       "      <th>75%</th>\n",
       "      <td>2.409000e+01</td>\n",
       "      <td>1.022490e+03</td>\n",
       "    </tr>\n",
       "    <tr>\n",
       "      <th>max</th>\n",
       "      <td>2.899000e+01</td>\n",
       "      <td>1.039050e+03</td>\n",
       "    </tr>\n",
       "  </tbody>\n",
       "</table>\n",
       "</div>"
      ],
      "text/plain": [
       "           T_BMP280      P_BMP280\n",
       "count  1.504469e+06  1.504469e+06\n",
       "mean   2.223604e+01  1.015579e+03\n",
       "std    2.631795e+00  1.010362e+01\n",
       "min    1.568000e+01  9.856200e+02\n",
       "25%    2.095000e+01  1.008610e+03\n",
       "50%    2.252800e+01  1.016860e+03\n",
       "75%    2.409000e+01  1.022490e+03\n",
       "max    2.899000e+01  1.039050e+03"
      ]
     },
     "execution_count": 20,
     "metadata": {},
     "output_type": "execute_result"
    }
   ],
   "source": [
    "# Get statistical information of data frame\n",
    "newdf.describe()"
   ]
  },
  {
   "cell_type": "markdown",
   "metadata": {},
   "source": [
    "### 4. Data Visualization"
   ]
  },
  {
   "cell_type": "code",
   "execution_count": 21,
   "metadata": {},
   "outputs": [
    {
     "data": {
      "text/plain": [
       "<matplotlib.axes._subplots.AxesSubplot at 0x7f09cc57ecc0>"
      ]
     },
     "execution_count": 21,
     "metadata": {},
     "output_type": "execute_result"
    },
    {
     "data": {
      "image/png": "[encoded data removed]",
      "text/plain": [
       "<Figure size 432x288 with 1 Axes>"
      ]
     },
     "metadata": {
      "needs_background": "light"
     },
     "output_type": "display_data"
    }
   ],
   "source": [
    "%matplotlib inline\n",
    "# Visualization the average temperature based on time (day)\n",
    "newdf.T_BMP280.resample('D').mean().plot()"
   ]
  },
  {
   "cell_type": "code",
   "execution_count": 22,
   "metadata": {},
   "outputs": [
    {
     "data": {
      "text/plain": [
       "<matplotlib.axes._subplots.AxesSubplot at 0x7f09cc3b8d68>"
      ]
     },
     "execution_count": 22,
     "metadata": {},
     "output_type": "execute_result"
    },
    {
     "data": {
      "image/png": "[encoded data removed]",
      "text/plain": [
       "<Figure size 432x288 with 1 Axes>"
      ]
     },
     "metadata": {
      "needs_background": "light"
     },
     "output_type": "display_data"
    }
   ],
   "source": [
    "# Visualization the average preasure based on time (day)\n",
    "newdf.P_BMP280.resample('D').mean().plot()"
   ]
  },
  {
   "cell_type": "markdown",
   "metadata": {},
   "source": [
    "Note :\n",
    "There are missing data in temperature and humidity graphs,\n",
    "it happens because there is no data both in temperature and preasure dataframe "
   ]
  },
  {
   "cell_type": "code",
   "execution_count": null,
   "metadata": {},
   "outputs": [],
   "source": []
  }
 ],
 "metadata": {
  "kernelspec": {
   "display_name": "Python 3",
   "language": "python",
   "name": "python3"
  },
  "language_info": {
   "codemirror_mode": {
    "name": "ipython",
    "version": 3
   },
   "file_extension": ".py",
   "mimetype": "text/x-python",
   "name": "python",
   "nbconvert_exporter": "python",
   "pygments_lexer": "ipython3",
   "version": "3.7.1"
  }
 },
 "nbformat": 4,
 "nbformat_minor": 2
}
