{
 "cells": [
  {
   "cell_type": "markdown",
   "metadata": {},
   "source": [
    "### Masive Data Lab Activities\n",
    "\n",
    "Description : Read and Cleaning Data\n",
    "File        : dash_price.csv \n",
    "Name        : Yudi Aditya"
   ]
  },
  {
   "cell_type": "code",
   "execution_count": 1,
   "metadata": {},
   "outputs": [],
   "source": [
    "import pandas as pd\n",
    "import numpy as np\n",
    "import seaborn as sns\n",
    "import matplotlib.pyplot as plt"
   ]
  },
  {
   "cell_type": "markdown",
   "metadata": {},
   "source": [
    "### Bitcoin Cash Price"
   ]
  },
  {
   "cell_type": "markdown",
   "metadata": {},
   "source": [
    "#### 1. Reading Data"
   ]
  },
  {
   "cell_type": "code",
   "execution_count": 2,
   "metadata": {
    "scrolled": false
   },
   "outputs": [
    {
     "data": {
      "text/html": [
       "<div>\n",
       "<style scoped>\n",
       "    .dataframe tbody tr th:only-of-type {\n",
       "        vertical-align: middle;\n",
       "    }\n",
       "\n",
       "    .dataframe tbody tr th {\n",
       "        vertical-align: top;\n",
       "    }\n",
       "\n",
       "    .dataframe thead th {\n",
       "        text-align: right;\n",
       "    }\n",
       "</style>\n",
       "<table border=\"1\" class=\"dataframe\">\n",
       "  <thead>\n",
       "    <tr style=\"text-align: right;\">\n",
       "      <th></th>\n",
       "      <th>Date</th>\n",
       "      <th>Open</th>\n",
       "      <th>High</th>\n",
       "      <th>Low</th>\n",
       "      <th>Close</th>\n",
       "      <th>Volume</th>\n",
       "      <th>Market Cap</th>\n",
       "    </tr>\n",
       "  </thead>\n",
       "  <tbody>\n",
       "    <tr>\n",
       "      <th>0</th>\n",
       "      <td>2017-09-05</td>\n",
       "      <td>316.88</td>\n",
       "      <td>333.83</td>\n",
       "      <td>286.53</td>\n",
       "      <td>327.23</td>\n",
       "      <td>53,928,800</td>\n",
       "      <td>2,388,710,000</td>\n",
       "    </tr>\n",
       "    <tr>\n",
       "      <th>1</th>\n",
       "      <td>2017-09-04</td>\n",
       "      <td>356.94</td>\n",
       "      <td>357.21</td>\n",
       "      <td>301.84</td>\n",
       "      <td>316.13</td>\n",
       "      <td>44,170,200</td>\n",
       "      <td>2,689,920,000</td>\n",
       "    </tr>\n",
       "    <tr>\n",
       "      <th>2</th>\n",
       "      <td>2017-09-03</td>\n",
       "      <td>354.63</td>\n",
       "      <td>373.08</td>\n",
       "      <td>338.23</td>\n",
       "      <td>356.39</td>\n",
       "      <td>34,945,200</td>\n",
       "      <td>2,670,270,000</td>\n",
       "    </tr>\n",
       "    <tr>\n",
       "      <th>3</th>\n",
       "      <td>2017-09-02</td>\n",
       "      <td>393.53</td>\n",
       "      <td>395.92</td>\n",
       "      <td>329.27</td>\n",
       "      <td>350.17</td>\n",
       "      <td>54,813,400</td>\n",
       "      <td>2,962,400,000</td>\n",
       "    </tr>\n",
       "    <tr>\n",
       "      <th>4</th>\n",
       "      <td>2017-09-01</td>\n",
       "      <td>377.92</td>\n",
       "      <td>393.35</td>\n",
       "      <td>376.34</td>\n",
       "      <td>393.35</td>\n",
       "      <td>55,440,700</td>\n",
       "      <td>2,844,110,000</td>\n",
       "    </tr>\n",
       "  </tbody>\n",
       "</table>\n",
       "</div>"
      ],
      "text/plain": [
       "        Date    Open    High     Low   Close      Volume     Market Cap\n",
       "0 2017-09-05  316.88  333.83  286.53  327.23  53,928,800  2,388,710,000\n",
       "1 2017-09-04  356.94  357.21  301.84  316.13  44,170,200  2,689,920,000\n",
       "2 2017-09-03  354.63  373.08  338.23  356.39  34,945,200  2,670,270,000\n",
       "3 2017-09-02  393.53  395.92  329.27  350.17  54,813,400  2,962,400,000\n",
       "4 2017-09-01  377.92  393.35  376.34  393.35  55,440,700  2,844,110,000"
      ]
     },
     "execution_count": 2,
     "metadata": {},
     "output_type": "execute_result"
    }
   ],
   "source": [
    "# Read Bitcoin Cash Price\n",
    "df1 = pd.read_csv('../data/raw/cryptocurrencypricehistory/dash_price.csv', parse_dates = ['Date'])\n",
    "df1.head()"
   ]
  },
  {
   "cell_type": "code",
   "execution_count": 3,
   "metadata": {},
   "outputs": [
    {
     "data": {
      "text/plain": [
       "pandas._libs.tslibs.timestamps.Timestamp"
      ]
     },
     "execution_count": 3,
     "metadata": {},
     "output_type": "execute_result"
    }
   ],
   "source": [
    "type(df1.Date[0])"
   ]
  },
  {
   "cell_type": "code",
   "execution_count": 4,
   "metadata": {},
   "outputs": [],
   "source": [
    "# Set Date as it's index\n",
    "df1.set_index('Date', inplace = True )"
   ]
  },
  {
   "cell_type": "code",
   "execution_count": 5,
   "metadata": {
    "scrolled": true
   },
   "outputs": [
    {
     "name": "stdout",
     "output_type": "stream",
     "text": [
      "<class 'pandas.core.frame.DataFrame'>\n",
      "DatetimeIndex: 1300 entries, 2017-09-05 to 2014-02-14\n",
      "Data columns (total 6 columns):\n",
      "Open          1300 non-null float64\n",
      "High          1300 non-null float64\n",
      "Low           1300 non-null float64\n",
      "Close         1300 non-null float64\n",
      "Volume        1300 non-null object\n",
      "Market Cap    1300 non-null object\n",
      "dtypes: float64(4), object(2)\n",
      "memory usage: 71.1+ KB\n"
     ]
    }
   ],
   "source": [
    "# Get General Information regarding data frame\n",
    "df1.info()"
   ]
  },
  {
   "cell_type": "markdown",
   "metadata": {},
   "source": [
    "- The data frame has 1300 entries and 6 columns. \n",
    "- All columns has 1300 elements, probably there's no missing data. Especially for Open, high, Low, and Close. To make it sure, We'll see for this\n",
    "- Volume and Market Cap's data type are an object, it should be number."
   ]
  },
  {
   "cell_type": "code",
   "execution_count": 6,
   "metadata": {},
   "outputs": [],
   "source": [
    "# Replace missing data as NaN\n",
    "df1.replace('-', np.nan,inplace=True)"
   ]
  },
  {
   "cell_type": "code",
   "execution_count": 7,
   "metadata": {
    "scrolled": true
   },
   "outputs": [
    {
     "data": {
      "text/plain": [
       "Open          0\n",
       "High          0\n",
       "Low           0\n",
       "Close         0\n",
       "Volume        0\n",
       "Market Cap    0\n",
       "dtype: int64"
      ]
     },
     "execution_count": 7,
     "metadata": {},
     "output_type": "execute_result"
    }
   ],
   "source": [
    "# Count missing data in each column\n",
    "df1.isnull().sum()"
   ]
  },
  {
   "cell_type": "markdown",
   "metadata": {},
   "source": [
    "#### 2. Cleaning Data Part (Deal with Wrong Format)"
   ]
  },
  {
   "cell_type": "markdown",
   "metadata": {},
   "source": [
    "Problem :\n",
    "- Some data has different format, therefore Volume and Market Cap recognize as a string, not a number.\n",
    "\n",
    "Solution:\n",
    "- Convert to float number"
   ]
  },
  {
   "cell_type": "code",
   "execution_count": 8,
   "metadata": {},
   "outputs": [
    {
     "name": "stdout",
     "output_type": "stream",
     "text": [
      "Volume Data Type : <class 'str'>\n",
      "Market Cap Data Type : <class 'str'>\n"
     ]
    }
   ],
   "source": [
    "print('Volume Data Type :', type(df1.Volume[0]))\n",
    "print('Market Cap Data Type :', type(df1['Market Cap'][0]))"
   ]
  },
  {
   "cell_type": "code",
   "execution_count": 9,
   "metadata": {
    "scrolled": false
   },
   "outputs": [
    {
     "name": "stdout",
     "output_type": "stream",
     "text": [
      "<class 'pandas.core.frame.DataFrame'>\n",
      "DatetimeIndex: 1300 entries, 2017-09-05 to 2014-02-14\n",
      "Data columns (total 6 columns):\n",
      "Open          1300 non-null float64\n",
      "High          1300 non-null float64\n",
      "Low           1300 non-null float64\n",
      "Close         1300 non-null float64\n",
      "Volume        1300 non-null int64\n",
      "Market Cap    1300 non-null int64\n",
      "dtypes: float64(4), int64(2)\n",
      "memory usage: 111.1 KB\n"
     ]
    }
   ],
   "source": [
    "#convert data to number\n",
    "def convert_to_number(x):\n",
    "    try:\n",
    "        return int(x.replace(',',''))\n",
    "    except:\n",
    "        return x\n",
    "\n",
    "df1.Volume = df1.Volume.apply(convert_to_number)\n",
    "df1['Market Cap'] = df1['Market Cap'].apply(convert_to_number)\n",
    "\n",
    "df1.info()"
   ]
  },
  {
   "cell_type": "code",
   "execution_count": 10,
   "metadata": {
    "scrolled": true
   },
   "outputs": [
    {
     "data": {
      "text/html": [
       "<div>\n",
       "<style scoped>\n",
       "    .dataframe tbody tr th:only-of-type {\n",
       "        vertical-align: middle;\n",
       "    }\n",
       "\n",
       "    .dataframe tbody tr th {\n",
       "        vertical-align: top;\n",
       "    }\n",
       "\n",
       "    .dataframe thead th {\n",
       "        text-align: right;\n",
       "    }\n",
       "</style>\n",
       "<table border=\"1\" class=\"dataframe\">\n",
       "  <thead>\n",
       "    <tr style=\"text-align: right;\">\n",
       "      <th></th>\n",
       "      <th>Open</th>\n",
       "      <th>High</th>\n",
       "      <th>Low</th>\n",
       "      <th>Close</th>\n",
       "      <th>Volume</th>\n",
       "      <th>Market Cap</th>\n",
       "    </tr>\n",
       "  </thead>\n",
       "  <tbody>\n",
       "    <tr>\n",
       "      <th>count</th>\n",
       "      <td>1300.000000</td>\n",
       "      <td>1300.000000</td>\n",
       "      <td>1300.000000</td>\n",
       "      <td>1300.000000</td>\n",
       "      <td>1.300000e+03</td>\n",
       "      <td>1.300000e+03</td>\n",
       "    </tr>\n",
       "    <tr>\n",
       "      <th>mean</th>\n",
       "      <td>25.991675</td>\n",
       "      <td>27.493179</td>\n",
       "      <td>24.832110</td>\n",
       "      <td>26.235612</td>\n",
       "      <td>6.241615e+06</td>\n",
       "      <td>1.860709e+08</td>\n",
       "    </tr>\n",
       "    <tr>\n",
       "      <th>std</th>\n",
       "      <td>58.357573</td>\n",
       "      <td>61.685784</td>\n",
       "      <td>55.730453</td>\n",
       "      <td>58.913160</td>\n",
       "      <td>1.833914e+07</td>\n",
       "      <td>4.366053e+08</td>\n",
       "    </tr>\n",
       "    <tr>\n",
       "      <th>min</th>\n",
       "      <td>0.213899</td>\n",
       "      <td>0.354461</td>\n",
       "      <td>0.213899</td>\n",
       "      <td>0.314865</td>\n",
       "      <td>9.604000e+03</td>\n",
       "      <td>7.025370e+05</td>\n",
       "    </tr>\n",
       "    <tr>\n",
       "      <th>25%</th>\n",
       "      <td>2.550000</td>\n",
       "      <td>2.717500</td>\n",
       "      <td>2.440000</td>\n",
       "      <td>2.557500</td>\n",
       "      <td>7.173700e+04</td>\n",
       "      <td>1.409845e+07</td>\n",
       "    </tr>\n",
       "    <tr>\n",
       "      <th>50%</th>\n",
       "      <td>4.605000</td>\n",
       "      <td>5.095000</td>\n",
       "      <td>4.250000</td>\n",
       "      <td>4.605000</td>\n",
       "      <td>2.424410e+05</td>\n",
       "      <td>2.574805e+07</td>\n",
       "    </tr>\n",
       "    <tr>\n",
       "      <th>75%</th>\n",
       "      <td>11.092500</td>\n",
       "      <td>11.542500</td>\n",
       "      <td>10.542500</td>\n",
       "      <td>11.102500</td>\n",
       "      <td>1.140588e+06</td>\n",
       "      <td>7.024395e+07</td>\n",
       "    </tr>\n",
       "    <tr>\n",
       "      <th>max</th>\n",
       "      <td>400.420000</td>\n",
       "      <td>409.770000</td>\n",
       "      <td>376.340000</td>\n",
       "      <td>399.850000</td>\n",
       "      <td>2.674150e+08</td>\n",
       "      <td>3.009530e+09</td>\n",
       "    </tr>\n",
       "  </tbody>\n",
       "</table>\n",
       "</div>"
      ],
      "text/plain": [
       "              Open         High          Low        Close        Volume  \\\n",
       "count  1300.000000  1300.000000  1300.000000  1300.000000  1.300000e+03   \n",
       "mean     25.991675    27.493179    24.832110    26.235612  6.241615e+06   \n",
       "std      58.357573    61.685784    55.730453    58.913160  1.833914e+07   \n",
       "min       0.213899     0.354461     0.213899     0.314865  9.604000e+03   \n",
       "25%       2.550000     2.717500     2.440000     2.557500  7.173700e+04   \n",
       "50%       4.605000     5.095000     4.250000     4.605000  2.424410e+05   \n",
       "75%      11.092500    11.542500    10.542500    11.102500  1.140588e+06   \n",
       "max     400.420000   409.770000   376.340000   399.850000  2.674150e+08   \n",
       "\n",
       "         Market Cap  \n",
       "count  1.300000e+03  \n",
       "mean   1.860709e+08  \n",
       "std    4.366053e+08  \n",
       "min    7.025370e+05  \n",
       "25%    1.409845e+07  \n",
       "50%    2.574805e+07  \n",
       "75%    7.024395e+07  \n",
       "max    3.009530e+09  "
      ]
     },
     "execution_count": 10,
     "metadata": {},
     "output_type": "execute_result"
    }
   ],
   "source": [
    "df1.describe()"
   ]
  },
  {
   "cell_type": "markdown",
   "metadata": {},
   "source": [
    "All Data is clear"
   ]
  },
  {
   "cell_type": "markdown",
   "metadata": {},
   "source": [
    "#### 3. Data Visualization"
   ]
  },
  {
   "cell_type": "code",
   "execution_count": 11,
   "metadata": {},
   "outputs": [
    {
     "data": {
      "text/plain": [
       "<matplotlib.axes._subplots.AxesSubplot at 0x7fb13d8c6ba8>"
      ]
     },
     "execution_count": 11,
     "metadata": {},
     "output_type": "execute_result"
    },
    {
     "data": {
      "image/png": "[encoded data removed]",
      "text/plain": [
       "<Figure size 432x288 with 6 Axes>"
      ]
     },
     "metadata": {
      "needs_background": "light"
     },
     "output_type": "display_data"
    }
   ],
   "source": [
    "# Visualization the average of Open based on time (Week)\n",
    "%matplotlib inline\n",
    "    \n",
    "plt.subplot(2,3,1)\n",
    "plt.ylabel('Open')\n",
    "df1.Open.resample('W').mean().plot()\n",
    "\n",
    "plt.subplot(2,3,2)\n",
    "plt.ylabel('High')\n",
    "df1.High.resample('W').mean().plot()\n",
    "\n",
    "plt.subplot(2,3,3)\n",
    "plt.ylabel('Low')\n",
    "df1.Low.resample('W').mean().plot()\n",
    "\n",
    "plt.subplot(2,3,4)\n",
    "plt.ylabel('Close')\n",
    "df1.Close.resample('W').mean().plot()\n",
    "\n",
    "plt.subplot(2,3,5)\n",
    "plt.ylabel('Volume')\n",
    "df1.Volume.resample('W').mean().plot()\n",
    "\n",
    "plt.subplot(2,3,6)\n",
    "plt.ylabel('Market Cap')\n",
    "df1['Market Cap'].resample('W').mean().plot()"
   ]
  },
  {
   "cell_type": "code",
   "execution_count": null,
   "metadata": {},
   "outputs": [],
   "source": []
  }
 ],
 "metadata": {
  "kernelspec": {
   "display_name": "Python 3",
   "language": "python",
   "name": "python3"
  },
  "language_info": {
   "codemirror_mode": {
    "name": "ipython",
    "version": 3
   },
   "file_extension": ".py",
   "mimetype": "text/x-python",
   "name": "python",
   "nbconvert_exporter": "python",
   "pygments_lexer": "ipython3",
   "version": "3.7.1"
  }
 },
 "nbformat": 4,
 "nbformat_minor": 2
}
