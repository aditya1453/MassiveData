{
 "cells": [
  {
   "cell_type": "markdown",
   "metadata": {},
   "source": [
    "### Masive Data Lab Activities\n",
    "\n",
    "Description : Read and Cleaning Data\n",
    "File        : bitcoin_price.csv \n",
    "Name        : Yudi Aditya"
   ]
  },
  {
   "cell_type": "code",
   "execution_count": 1,
   "metadata": {},
   "outputs": [],
   "source": [
    "import pandas as pd\n",
    "import numpy as np\n",
    "import seaborn as sns\n",
    "import matplotlib.pyplot as plt"
   ]
  },
  {
   "cell_type": "markdown",
   "metadata": {},
   "source": [
    "### Bitcoin Cash Price"
   ]
  },
  {
   "cell_type": "markdown",
   "metadata": {},
   "source": [
    "#### 1. Reading Data"
   ]
  },
  {
   "cell_type": "code",
   "execution_count": 2,
   "metadata": {
    "scrolled": false
   },
   "outputs": [
    {
     "data": {
      "text/html": [
       "<div>\n",
       "<style scoped>\n",
       "    .dataframe tbody tr th:only-of-type {\n",
       "        vertical-align: middle;\n",
       "    }\n",
       "\n",
       "    .dataframe tbody tr th {\n",
       "        vertical-align: top;\n",
       "    }\n",
       "\n",
       "    .dataframe thead th {\n",
       "        text-align: right;\n",
       "    }\n",
       "</style>\n",
       "<table border=\"1\" class=\"dataframe\">\n",
       "  <thead>\n",
       "    <tr style=\"text-align: right;\">\n",
       "      <th></th>\n",
       "      <th>Date</th>\n",
       "      <th>Open</th>\n",
       "      <th>High</th>\n",
       "      <th>Low</th>\n",
       "      <th>Close</th>\n",
       "      <th>Volume</th>\n",
       "      <th>Market Cap</th>\n",
       "    </tr>\n",
       "  </thead>\n",
       "  <tbody>\n",
       "    <tr>\n",
       "      <th>0</th>\n",
       "      <td>2017-09-05</td>\n",
       "      <td>4228.29</td>\n",
       "      <td>4427.84</td>\n",
       "      <td>3998.11</td>\n",
       "      <td>4376.53</td>\n",
       "      <td>2697970000</td>\n",
       "      <td>69954400000</td>\n",
       "    </tr>\n",
       "    <tr>\n",
       "      <th>1</th>\n",
       "      <td>2017-09-04</td>\n",
       "      <td>4591.63</td>\n",
       "      <td>4591.63</td>\n",
       "      <td>4108.40</td>\n",
       "      <td>4236.31</td>\n",
       "      <td>2987330000</td>\n",
       "      <td>75955500000</td>\n",
       "    </tr>\n",
       "    <tr>\n",
       "      <th>2</th>\n",
       "      <td>2017-09-03</td>\n",
       "      <td>4585.27</td>\n",
       "      <td>4714.08</td>\n",
       "      <td>4417.59</td>\n",
       "      <td>4582.96</td>\n",
       "      <td>1933190000</td>\n",
       "      <td>75841700000</td>\n",
       "    </tr>\n",
       "    <tr>\n",
       "      <th>3</th>\n",
       "      <td>2017-09-02</td>\n",
       "      <td>4901.42</td>\n",
       "      <td>4975.04</td>\n",
       "      <td>4469.24</td>\n",
       "      <td>4578.77</td>\n",
       "      <td>2722140000</td>\n",
       "      <td>81060600000</td>\n",
       "    </tr>\n",
       "    <tr>\n",
       "      <th>4</th>\n",
       "      <td>2017-09-01</td>\n",
       "      <td>4701.76</td>\n",
       "      <td>4892.01</td>\n",
       "      <td>4678.53</td>\n",
       "      <td>4892.01</td>\n",
       "      <td>2599080000</td>\n",
       "      <td>77748400000</td>\n",
       "    </tr>\n",
       "  </tbody>\n",
       "</table>\n",
       "</div>"
      ],
      "text/plain": [
       "        Date     Open     High      Low    Close      Volume   Market Cap\n",
       "0 2017-09-05  4228.29  4427.84  3998.11  4376.53  2697970000  69954400000\n",
       "1 2017-09-04  4591.63  4591.63  4108.40  4236.31  2987330000  75955500000\n",
       "2 2017-09-03  4585.27  4714.08  4417.59  4582.96  1933190000  75841700000\n",
       "3 2017-09-02  4901.42  4975.04  4469.24  4578.77  2722140000  81060600000\n",
       "4 2017-09-01  4701.76  4892.01  4678.53  4892.01  2599080000  77748400000"
      ]
     },
     "execution_count": 2,
     "metadata": {},
     "output_type": "execute_result"
    }
   ],
   "source": [
    "# Read Bitcoin Cash Price\n",
    "df1 = pd.read_csv('../data/raw/cryptocurrencypricehistory/bitcoin_price.csv', parse_dates = ['Date'])\n",
    "df1.head()"
   ]
  },
  {
   "cell_type": "code",
   "execution_count": 3,
   "metadata": {},
   "outputs": [
    {
     "data": {
      "text/plain": [
       "pandas._libs.tslibs.timestamps.Timestamp"
      ]
     },
     "execution_count": 3,
     "metadata": {},
     "output_type": "execute_result"
    }
   ],
   "source": [
    "type(df1.Date[0])"
   ]
  },
  {
   "cell_type": "code",
   "execution_count": 4,
   "metadata": {},
   "outputs": [],
   "source": [
    "# Set Date as it's index\n",
    "df1.set_index('Date', inplace = True )"
   ]
  },
  {
   "cell_type": "code",
   "execution_count": 5,
   "metadata": {
    "scrolled": true
   },
   "outputs": [
    {
     "name": "stdout",
     "output_type": "stream",
     "text": [
      "<class 'pandas.core.frame.DataFrame'>\n",
      "DatetimeIndex: 1592 entries, 2017-09-05 to 2013-04-28\n",
      "Data columns (total 6 columns):\n",
      "Open          1592 non-null float64\n",
      "High          1592 non-null float64\n",
      "Low           1592 non-null float64\n",
      "Close         1592 non-null float64\n",
      "Volume        1592 non-null object\n",
      "Market Cap    1592 non-null int64\n",
      "dtypes: float64(4), int64(1), object(1)\n",
      "memory usage: 87.1+ KB\n"
     ]
    }
   ],
   "source": [
    "# Get General Information regarding data frame\n",
    "df1.info()"
   ]
  },
  {
   "cell_type": "markdown",
   "metadata": {},
   "source": [
    "- The data frame has 1592 entries and 6 columns. \n",
    "- All columns has 1592 elements, probably there's no missing data. Especially for Open, high, Low, Close and Market Cap. To make it sure, We'll see for this\n",
    "- Volume's data type is an object, it should be number."
   ]
  },
  {
   "cell_type": "markdown",
   "metadata": {},
   "source": [
    "After checking using open refine, i found missing data in Volume, but it use \"-\". df.info() method recognize it as a string. We have to replace it as a NaN"
   ]
  },
  {
   "cell_type": "code",
   "execution_count": 6,
   "metadata": {},
   "outputs": [
    {
     "data": {
      "text/html": [
       "<div>\n",
       "<style scoped>\n",
       "    .dataframe tbody tr th:only-of-type {\n",
       "        vertical-align: middle;\n",
       "    }\n",
       "\n",
       "    .dataframe tbody tr th {\n",
       "        vertical-align: top;\n",
       "    }\n",
       "\n",
       "    .dataframe thead th {\n",
       "        text-align: right;\n",
       "    }\n",
       "</style>\n",
       "<table border=\"1\" class=\"dataframe\">\n",
       "  <thead>\n",
       "    <tr style=\"text-align: right;\">\n",
       "      <th></th>\n",
       "      <th>Open</th>\n",
       "      <th>High</th>\n",
       "      <th>Low</th>\n",
       "      <th>Close</th>\n",
       "      <th>Volume</th>\n",
       "      <th>Market Cap</th>\n",
       "    </tr>\n",
       "    <tr>\n",
       "      <th>Date</th>\n",
       "      <th></th>\n",
       "      <th></th>\n",
       "      <th></th>\n",
       "      <th></th>\n",
       "      <th></th>\n",
       "      <th></th>\n",
       "    </tr>\n",
       "  </thead>\n",
       "  <tbody>\n",
       "    <tr>\n",
       "      <th>2013-12-26</th>\n",
       "      <td>683.94</td>\n",
       "      <td>777.75</td>\n",
       "      <td>683.94</td>\n",
       "      <td>761.98</td>\n",
       "      <td>NaN</td>\n",
       "      <td>8326270000</td>\n",
       "    </tr>\n",
       "    <tr>\n",
       "      <th>2013-12-25</th>\n",
       "      <td>666.31</td>\n",
       "      <td>682.70</td>\n",
       "      <td>649.48</td>\n",
       "      <td>682.21</td>\n",
       "      <td>NaN</td>\n",
       "      <td>8108930000</td>\n",
       "    </tr>\n",
       "    <tr>\n",
       "      <th>2013-12-24</th>\n",
       "      <td>672.36</td>\n",
       "      <td>684.39</td>\n",
       "      <td>645.71</td>\n",
       "      <td>665.58</td>\n",
       "      <td>NaN</td>\n",
       "      <td>8179730000</td>\n",
       "    </tr>\n",
       "    <tr>\n",
       "      <th>2013-12-23</th>\n",
       "      <td>613.06</td>\n",
       "      <td>680.91</td>\n",
       "      <td>611.04</td>\n",
       "      <td>673.41</td>\n",
       "      <td>NaN</td>\n",
       "      <td>7455670000</td>\n",
       "    </tr>\n",
       "    <tr>\n",
       "      <th>2013-12-22</th>\n",
       "      <td>601.78</td>\n",
       "      <td>666.74</td>\n",
       "      <td>585.64</td>\n",
       "      <td>617.18</td>\n",
       "      <td>NaN</td>\n",
       "      <td>7315940000</td>\n",
       "    </tr>\n",
       "  </tbody>\n",
       "</table>\n",
       "</div>"
      ],
      "text/plain": [
       "              Open    High     Low   Close Volume  Market Cap\n",
       "Date                                                         \n",
       "2013-12-26  683.94  777.75  683.94  761.98    NaN  8326270000\n",
       "2013-12-25  666.31  682.70  649.48  682.21    NaN  8108930000\n",
       "2013-12-24  672.36  684.39  645.71  665.58    NaN  8179730000\n",
       "2013-12-23  613.06  680.91  611.04  673.41    NaN  7455670000\n",
       "2013-12-22  601.78  666.74  585.64  617.18    NaN  7315940000"
      ]
     },
     "execution_count": 6,
     "metadata": {},
     "output_type": "execute_result"
    }
   ],
   "source": [
    "# Replace missing data as NaN\n",
    "df1.replace('-', np.nan,inplace=True)\n",
    "df1[df1['Volume'].isnull()].head()"
   ]
  },
  {
   "cell_type": "code",
   "execution_count": 7,
   "metadata": {
    "scrolled": true
   },
   "outputs": [
    {
     "data": {
      "text/plain": [
       "Open            0\n",
       "High            0\n",
       "Low             0\n",
       "Close           0\n",
       "Volume        243\n",
       "Market Cap      0\n",
       "dtype: int64"
      ]
     },
     "execution_count": 7,
     "metadata": {},
     "output_type": "execute_result"
    }
   ],
   "source": [
    "# Count missing data in each column\n",
    "df1.isnull().sum()"
   ]
  },
  {
   "cell_type": "markdown",
   "metadata": {},
   "source": [
    "#### 2. Cleaning Data Part 1 (Deal with Wrong Format)"
   ]
  },
  {
   "cell_type": "markdown",
   "metadata": {},
   "source": [
    "Problem  : \n",
    "- Volume recognized as a string \n",
    "- Missing 243 from 1592 data in Volume \n",
    "\n",
    "Solution :\n",
    "- Convert volume from string to float data type\n",
    "- interpolation or using mean    "
   ]
  },
  {
   "cell_type": "code",
   "execution_count": 8,
   "metadata": {},
   "outputs": [
    {
     "name": "stdout",
     "output_type": "stream",
     "text": [
      "Volume Data Type : <class 'str'>\n"
     ]
    }
   ],
   "source": [
    "print('Volume Data Type :', type(df1.Volume[0]))"
   ]
  },
  {
   "cell_type": "code",
   "execution_count": 9,
   "metadata": {},
   "outputs": [
    {
     "name": "stdout",
     "output_type": "stream",
     "text": [
      "<class 'pandas.core.frame.DataFrame'>\n",
      "DatetimeIndex: 1592 entries, 2017-09-05 to 2013-04-28\n",
      "Data columns (total 6 columns):\n",
      "Open          1592 non-null float64\n",
      "High          1592 non-null float64\n",
      "Low           1592 non-null float64\n",
      "Close         1592 non-null float64\n",
      "Volume        1349 non-null float64\n",
      "Market Cap    1592 non-null int64\n",
      "dtypes: float64(5), int64(1)\n",
      "memory usage: 167.1 KB\n"
     ]
    }
   ],
   "source": [
    "# Convert string to float in volume\n",
    "df1.Volume = df1.Volume.astype('float64')\n",
    "df1.info()"
   ]
  },
  {
   "cell_type": "markdown",
   "metadata": {},
   "source": [
    "#### 3. Cleaning Data 2 (Deal with Missing Data)"
   ]
  },
  {
   "cell_type": "code",
   "execution_count": 10,
   "metadata": {},
   "outputs": [
    {
     "data": {
      "text/html": [
       "<div>\n",
       "<style scoped>\n",
       "    .dataframe tbody tr th:only-of-type {\n",
       "        vertical-align: middle;\n",
       "    }\n",
       "\n",
       "    .dataframe tbody tr th {\n",
       "        vertical-align: top;\n",
       "    }\n",
       "\n",
       "    .dataframe thead th {\n",
       "        text-align: right;\n",
       "    }\n",
       "</style>\n",
       "<table border=\"1\" class=\"dataframe\">\n",
       "  <thead>\n",
       "    <tr style=\"text-align: right;\">\n",
       "      <th></th>\n",
       "      <th>Open</th>\n",
       "      <th>High</th>\n",
       "      <th>Low</th>\n",
       "      <th>Close</th>\n",
       "      <th>Volume</th>\n",
       "      <th>Market Cap</th>\n",
       "    </tr>\n",
       "    <tr>\n",
       "      <th>Date</th>\n",
       "      <th></th>\n",
       "      <th></th>\n",
       "      <th></th>\n",
       "      <th></th>\n",
       "      <th></th>\n",
       "      <th></th>\n",
       "    </tr>\n",
       "  </thead>\n",
       "  <tbody>\n",
       "    <tr>\n",
       "      <th>2013-12-31</th>\n",
       "      <td>760.32</td>\n",
       "      <td>760.58</td>\n",
       "      <td>738.17</td>\n",
       "      <td>754.01</td>\n",
       "      <td>20897300.0</td>\n",
       "      <td>9268240000</td>\n",
       "    </tr>\n",
       "    <tr>\n",
       "      <th>2013-12-30</th>\n",
       "      <td>741.35</td>\n",
       "      <td>766.60</td>\n",
       "      <td>740.24</td>\n",
       "      <td>756.13</td>\n",
       "      <td>20707700.0</td>\n",
       "      <td>9037000000</td>\n",
       "    </tr>\n",
       "    <tr>\n",
       "      <th>2013-12-29</th>\n",
       "      <td>728.05</td>\n",
       "      <td>748.61</td>\n",
       "      <td>714.44</td>\n",
       "      <td>745.05</td>\n",
       "      <td>19011300.0</td>\n",
       "      <td>8872600000</td>\n",
       "    </tr>\n",
       "    <tr>\n",
       "      <th>2013-12-28</th>\n",
       "      <td>737.98</td>\n",
       "      <td>747.06</td>\n",
       "      <td>705.35</td>\n",
       "      <td>727.83</td>\n",
       "      <td>32505800.0</td>\n",
       "      <td>8990850000</td>\n",
       "    </tr>\n",
       "    <tr>\n",
       "      <th>2013-12-27</th>\n",
       "      <td>763.28</td>\n",
       "      <td>777.51</td>\n",
       "      <td>713.60</td>\n",
       "      <td>735.07</td>\n",
       "      <td>46862700.0</td>\n",
       "      <td>9295570000</td>\n",
       "    </tr>\n",
       "  </tbody>\n",
       "</table>\n",
       "</div>"
      ],
      "text/plain": [
       "              Open    High     Low   Close      Volume  Market Cap\n",
       "Date                                                              \n",
       "2013-12-31  760.32  760.58  738.17  754.01  20897300.0  9268240000\n",
       "2013-12-30  741.35  766.60  740.24  756.13  20707700.0  9037000000\n",
       "2013-12-29  728.05  748.61  714.44  745.05  19011300.0  8872600000\n",
       "2013-12-28  737.98  747.06  705.35  727.83  32505800.0  8990850000\n",
       "2013-12-27  763.28  777.51  713.60  735.07  46862700.0  9295570000"
      ]
     },
     "execution_count": 10,
     "metadata": {},
     "output_type": "execute_result"
    }
   ],
   "source": [
    "#new_df is the data with non NaN value\n",
    "new_df = df1[np.isfinite(df1['Volume'])]\n",
    "new_df.tail()"
   ]
  },
  {
   "cell_type": "code",
   "execution_count": 11,
   "metadata": {
    "scrolled": true
   },
   "outputs": [
    {
     "data": {
      "text/html": [
       "<div>\n",
       "<style scoped>\n",
       "    .dataframe tbody tr th:only-of-type {\n",
       "        vertical-align: middle;\n",
       "    }\n",
       "\n",
       "    .dataframe tbody tr th {\n",
       "        vertical-align: top;\n",
       "    }\n",
       "\n",
       "    .dataframe thead th {\n",
       "        text-align: right;\n",
       "    }\n",
       "</style>\n",
       "<table border=\"1\" class=\"dataframe\">\n",
       "  <thead>\n",
       "    <tr style=\"text-align: right;\">\n",
       "      <th></th>\n",
       "      <th>Open</th>\n",
       "      <th>High</th>\n",
       "      <th>Low</th>\n",
       "      <th>Close</th>\n",
       "      <th>Volume</th>\n",
       "      <th>Market Cap</th>\n",
       "    </tr>\n",
       "  </thead>\n",
       "  <tbody>\n",
       "    <tr>\n",
       "      <th>Open</th>\n",
       "      <td>1.000000</td>\n",
       "      <td>0.999072</td>\n",
       "      <td>0.998898</td>\n",
       "      <td>0.998295</td>\n",
       "      <td>0.925801</td>\n",
       "      <td>0.998166</td>\n",
       "    </tr>\n",
       "    <tr>\n",
       "      <th>High</th>\n",
       "      <td>0.999072</td>\n",
       "      <td>1.000000</td>\n",
       "      <td>0.998547</td>\n",
       "      <td>0.999152</td>\n",
       "      <td>0.931968</td>\n",
       "      <td>0.997222</td>\n",
       "    </tr>\n",
       "    <tr>\n",
       "      <th>Low</th>\n",
       "      <td>0.998898</td>\n",
       "      <td>0.998547</td>\n",
       "      <td>1.000000</td>\n",
       "      <td>0.999175</td>\n",
       "      <td>0.919361</td>\n",
       "      <td>0.997310</td>\n",
       "    </tr>\n",
       "    <tr>\n",
       "      <th>Close</th>\n",
       "      <td>0.998295</td>\n",
       "      <td>0.999152</td>\n",
       "      <td>0.999175</td>\n",
       "      <td>1.000000</td>\n",
       "      <td>0.926548</td>\n",
       "      <td>0.996643</td>\n",
       "    </tr>\n",
       "    <tr>\n",
       "      <th>Volume</th>\n",
       "      <td>0.925801</td>\n",
       "      <td>0.931968</td>\n",
       "      <td>0.919361</td>\n",
       "      <td>0.926548</td>\n",
       "      <td>1.000000</td>\n",
       "      <td>0.930441</td>\n",
       "    </tr>\n",
       "    <tr>\n",
       "      <th>Market Cap</th>\n",
       "      <td>0.998166</td>\n",
       "      <td>0.997222</td>\n",
       "      <td>0.997310</td>\n",
       "      <td>0.996643</td>\n",
       "      <td>0.930441</td>\n",
       "      <td>1.000000</td>\n",
       "    </tr>\n",
       "  </tbody>\n",
       "</table>\n",
       "</div>"
      ],
      "text/plain": [
       "                Open      High       Low     Close    Volume  Market Cap\n",
       "Open        1.000000  0.999072  0.998898  0.998295  0.925801    0.998166\n",
       "High        0.999072  1.000000  0.998547  0.999152  0.931968    0.997222\n",
       "Low         0.998898  0.998547  1.000000  0.999175  0.919361    0.997310\n",
       "Close       0.998295  0.999152  0.999175  1.000000  0.926548    0.996643\n",
       "Volume      0.925801  0.931968  0.919361  0.926548  1.000000    0.930441\n",
       "Market Cap  0.998166  0.997222  0.997310  0.996643  0.930441    1.000000"
      ]
     },
     "execution_count": 11,
     "metadata": {},
     "output_type": "execute_result"
    }
   ],
   "source": [
    "# Lets see the correlation between each column\n",
    "correlation = new_df.corr(method=\"pearson\")\n",
    "correlation"
   ]
  },
  {
   "cell_type": "markdown",
   "metadata": {},
   "source": [
    "In the data frame above, we can inferred that Volume has a strong relationship (Linear) with High."
   ]
  },
  {
   "cell_type": "markdown",
   "metadata": {},
   "source": [
    "Let's plot data between Market Cap and other variable, then see the relation between the data"
   ]
  },
  {
   "cell_type": "code",
   "execution_count": 12,
   "metadata": {
    "scrolled": false
   },
   "outputs": [
    {
     "data": {
      "image/png": "[encoded data removed]",
      "text/plain": [
       "<Figure size 432x288 with 5 Axes>"
      ]
     },
     "metadata": {
      "needs_background": "light"
     },
     "output_type": "display_data"
    }
   ],
   "source": [
    "import matplotlib.pyplot as plt\n",
    "def plot_data(xdata,ydata,xlabel):\n",
    "    plt.scatter(xdata,ydata,marker='+',color='red')\n",
    "    plt.ylabel('Volume')\n",
    "    plt.xlabel(xlabel)\n",
    "        \n",
    "plt.subplot(2,3,1)\n",
    "plot_data(new_df.Open, new_df.Volume,'Open')\n",
    "plt.subplot(2,3,2)\n",
    "plot_data(new_df.Close, new_df.Volume,'Close')\n",
    "plt.subplot(2,3,3)\n",
    "plot_data(new_df.High, new_df.Volume,'High')\n",
    "plt.subplot(2,3,4)\n",
    "plot_data(new_df.Low, new_df.Volume,'Low')\n",
    "plt.subplot(2,3,5)\n",
    "plot_data(new_df['Market Cap'], new_df.Volume,'Market Cap')"
   ]
  },
  {
   "cell_type": "markdown",
   "metadata": {},
   "source": [
    "The figures above show that Volume and High has the best relationship (Linear relationship)."
   ]
  },
  {
   "cell_type": "code",
   "execution_count": 13,
   "metadata": {},
   "outputs": [],
   "source": [
    "from sklearn import linear_model\n",
    "\n",
    "model   = linear_model.LinearRegression()\n",
    "High    = new_df[['High']]\n",
    "Volume  = new_df['Volume']"
   ]
  },
  {
   "cell_type": "code",
   "execution_count": 14,
   "metadata": {},
   "outputs": [
    {
     "data": {
      "text/plain": [
       "LinearRegression(copy_X=True, fit_intercept=True, n_jobs=None,\n",
       "         normalize=False)"
      ]
     },
     "execution_count": 14,
     "metadata": {},
     "output_type": "execute_result"
    }
   ],
   "source": [
    "# train data using linear regression \n",
    "model.fit(High, Volume)"
   ]
  },
  {
   "cell_type": "code",
   "execution_count": 15,
   "metadata": {},
   "outputs": [
    {
     "data": {
      "text/plain": [
       "0.8685636745068508"
      ]
     },
     "execution_count": 15,
     "metadata": {},
     "output_type": "execute_result"
    }
   ],
   "source": [
    "# Model Score\n",
    "model.score(High, Volume)"
   ]
  },
  {
   "cell_type": "code",
   "execution_count": 16,
   "metadata": {},
   "outputs": [
    {
     "data": {
      "text/html": [
       "<div>\n",
       "<style scoped>\n",
       "    .dataframe tbody tr th:only-of-type {\n",
       "        vertical-align: middle;\n",
       "    }\n",
       "\n",
       "    .dataframe tbody tr th {\n",
       "        vertical-align: top;\n",
       "    }\n",
       "\n",
       "    .dataframe thead th {\n",
       "        text-align: right;\n",
       "    }\n",
       "</style>\n",
       "<table border=\"1\" class=\"dataframe\">\n",
       "  <thead>\n",
       "    <tr style=\"text-align: right;\">\n",
       "      <th></th>\n",
       "      <th>Open</th>\n",
       "      <th>High</th>\n",
       "      <th>Low</th>\n",
       "      <th>Close</th>\n",
       "      <th>Volume</th>\n",
       "      <th>Market Cap</th>\n",
       "      <th>Volume Predict</th>\n",
       "    </tr>\n",
       "    <tr>\n",
       "      <th>Date</th>\n",
       "      <th></th>\n",
       "      <th></th>\n",
       "      <th></th>\n",
       "      <th></th>\n",
       "      <th></th>\n",
       "      <th></th>\n",
       "      <th></th>\n",
       "    </tr>\n",
       "  </thead>\n",
       "  <tbody>\n",
       "    <tr>\n",
       "      <th>2013-12-26</th>\n",
       "      <td>683.94</td>\n",
       "      <td>777.75</td>\n",
       "      <td>683.94</td>\n",
       "      <td>761.98</td>\n",
       "      <td>NaN</td>\n",
       "      <td>8326270000</td>\n",
       "      <td>215531709</td>\n",
       "    </tr>\n",
       "    <tr>\n",
       "      <th>2013-12-25</th>\n",
       "      <td>666.31</td>\n",
       "      <td>682.70</td>\n",
       "      <td>649.48</td>\n",
       "      <td>682.21</td>\n",
       "      <td>NaN</td>\n",
       "      <td>8108930000</td>\n",
       "      <td>162795889</td>\n",
       "    </tr>\n",
       "    <tr>\n",
       "      <th>2013-12-24</th>\n",
       "      <td>672.36</td>\n",
       "      <td>684.39</td>\n",
       "      <td>645.71</td>\n",
       "      <td>665.58</td>\n",
       "      <td>NaN</td>\n",
       "      <td>8179730000</td>\n",
       "      <td>163733538</td>\n",
       "    </tr>\n",
       "    <tr>\n",
       "      <th>2013-12-23</th>\n",
       "      <td>613.06</td>\n",
       "      <td>680.91</td>\n",
       "      <td>611.04</td>\n",
       "      <td>673.41</td>\n",
       "      <td>NaN</td>\n",
       "      <td>7455670000</td>\n",
       "      <td>161802758</td>\n",
       "    </tr>\n",
       "    <tr>\n",
       "      <th>2013-12-22</th>\n",
       "      <td>601.78</td>\n",
       "      <td>666.74</td>\n",
       "      <td>585.64</td>\n",
       "      <td>617.18</td>\n",
       "      <td>NaN</td>\n",
       "      <td>7315940000</td>\n",
       "      <td>153940932</td>\n",
       "    </tr>\n",
       "  </tbody>\n",
       "</table>\n",
       "</div>"
      ],
      "text/plain": [
       "              Open    High     Low   Close  Volume  Market Cap  Volume Predict\n",
       "Date                                                                          \n",
       "2013-12-26  683.94  777.75  683.94  761.98     NaN  8326270000       215531709\n",
       "2013-12-25  666.31  682.70  649.48  682.21     NaN  8108930000       162795889\n",
       "2013-12-24  672.36  684.39  645.71  665.58     NaN  8179730000       163733538\n",
       "2013-12-23  613.06  680.91  611.04  673.41     NaN  7455670000       161802758\n",
       "2013-12-22  601.78  666.74  585.64  617.18     NaN  7315940000       153940932"
      ]
     },
     "execution_count": 16,
     "metadata": {},
     "output_type": "execute_result"
    }
   ],
   "source": [
    "# Fill Missing Data Using linear model prediction \n",
    "# and Assign it to new column\n",
    "High = df1[['High']]\n",
    "volume_predict = model.predict(High) \n",
    "df1['Volume Predict'] = volume_predict.astype('int64')\n",
    "df1[df1['Volume'].isnull()].head()"
   ]
  },
  {
   "cell_type": "markdown",
   "metadata": {},
   "source": [
    "#### 4. Data Visualization "
   ]
  },
  {
   "cell_type": "code",
   "execution_count": 17,
   "metadata": {},
   "outputs": [
    {
     "data": {
      "text/plain": [
       "<matplotlib.axes._subplots.AxesSubplot at 0x7f1f827504a8>"
      ]
     },
     "execution_count": 17,
     "metadata": {},
     "output_type": "execute_result"
    },
    {
     "data": {
      "image/png": "[encoded data removed]",
      "text/plain": [
       "<Figure size 432x288 with 6 Axes>"
      ]
     },
     "metadata": {
      "needs_background": "light"
     },
     "output_type": "display_data"
    }
   ],
   "source": [
    "# Visualization the average of each column based on time (Week)\n",
    "%matplotlib inline\n",
    "    \n",
    "plt.subplot(2,3,1)\n",
    "plt.ylabel('Open')\n",
    "df1.Open.resample('W').mean().plot()\n",
    "\n",
    "plt.subplot(2,3,2)\n",
    "plt.ylabel('High')\n",
    "df1.High.resample('W').mean().plot()\n",
    "\n",
    "plt.subplot(2,3,3)\n",
    "plt.ylabel('Low')\n",
    "df1.Low.resample('W').mean().plot()\n",
    "\n",
    "plt.subplot(2,3,4)\n",
    "plt.ylabel('Close')\n",
    "df1.Close.resample('W').mean().plot()\n",
    "\n",
    "plt.subplot(2,3,5)\n",
    "plt.ylabel('Volume Predict')\n",
    "df1['Volume Predict'].resample('W').mean().plot()\n",
    "\n",
    "plt.subplot(2,3,6)\n",
    "plt.ylabel('Market Cap')\n",
    "df1['Market Cap'].resample('W').mean().plot()"
   ]
  },
  {
   "cell_type": "code",
   "execution_count": null,
   "metadata": {},
   "outputs": [],
   "source": []
  }
 ],
 "metadata": {
  "kernelspec": {
   "display_name": "Python 3",
   "language": "python",
   "name": "python3"
  },
  "language_info": {
   "codemirror_mode": {
    "name": "ipython",
    "version": 3
   },
   "file_extension": ".py",
   "mimetype": "text/x-python",
   "name": "python",
   "nbconvert_exporter": "python",
   "pygments_lexer": "ipython3",
   "version": "3.7.1"
  }
 },
 "nbformat": 4,
 "nbformat_minor": 2
}
