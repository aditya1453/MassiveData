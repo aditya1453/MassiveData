{
 "cells": [
  {
   "cell_type": "markdown",
   "metadata": {},
   "source": [
    "### Masive Data Lab Activities\n",
    "\n",
    "Description : Read and Cleaning Data Sensor DHT22 \n",
    "File        : T-DHT22-measures.csv \n",
    "              H-DHT22-measures.csv\n",
    "              \n",
    "Name        : Yudi Aditya"
   ]
  },
  {
   "cell_type": "code",
   "execution_count": 1,
   "metadata": {},
   "outputs": [],
   "source": [
    "import pandas as pd\n",
    "import numpy as np"
   ]
  },
  {
   "cell_type": "markdown",
   "metadata": {},
   "source": [
    "### 1. Temperature File (T-DHT22)"
   ]
  },
  {
   "cell_type": "code",
   "execution_count": 2,
   "metadata": {
    "scrolled": false
   },
   "outputs": [
    {
     "data": {
      "text/html": [
       "<div>\n",
       "<style scoped>\n",
       "    .dataframe tbody tr th:only-of-type {\n",
       "        vertical-align: middle;\n",
       "    }\n",
       "\n",
       "    .dataframe tbody tr th {\n",
       "        vertical-align: top;\n",
       "    }\n",
       "\n",
       "    .dataframe thead th {\n",
       "        text-align: right;\n",
       "    }\n",
       "</style>\n",
       "<table border=\"1\" class=\"dataframe\">\n",
       "  <thead>\n",
       "    <tr style=\"text-align: right;\">\n",
       "      <th></th>\n",
       "      <th>sensor</th>\n",
       "      <th>value</th>\n",
       "      <th>time</th>\n",
       "    </tr>\n",
       "  </thead>\n",
       "  <tbody>\n",
       "    <tr>\n",
       "      <th>0</th>\n",
       "      <td>T-DHT22</td>\n",
       "      <td>25.5</td>\n",
       "      <td>2017-12-19 14:07:18</td>\n",
       "    </tr>\n",
       "    <tr>\n",
       "      <th>1</th>\n",
       "      <td>T-DHT22</td>\n",
       "      <td>25.5</td>\n",
       "      <td>2017-12-19 14:07:25</td>\n",
       "    </tr>\n",
       "    <tr>\n",
       "      <th>2</th>\n",
       "      <td>T-DHT22</td>\n",
       "      <td>25.6</td>\n",
       "      <td>2017-12-19 14:07:32</td>\n",
       "    </tr>\n",
       "    <tr>\n",
       "      <th>3</th>\n",
       "      <td>T-DHT22</td>\n",
       "      <td>25.6</td>\n",
       "      <td>2017-12-19 14:07:38</td>\n",
       "    </tr>\n",
       "    <tr>\n",
       "      <th>4</th>\n",
       "      <td>T-DHT22</td>\n",
       "      <td>25.6</td>\n",
       "      <td>2017-12-19 14:07:45</td>\n",
       "    </tr>\n",
       "  </tbody>\n",
       "</table>\n",
       "</div>"
      ],
      "text/plain": [
       "    sensor  value                time\n",
       "0  T-DHT22   25.5 2017-12-19 14:07:18\n",
       "1  T-DHT22   25.5 2017-12-19 14:07:25\n",
       "2  T-DHT22   25.6 2017-12-19 14:07:32\n",
       "3  T-DHT22   25.6 2017-12-19 14:07:38\n",
       "4  T-DHT22   25.6 2017-12-19 14:07:45"
      ]
     },
     "execution_count": 2,
     "metadata": {},
     "output_type": "execute_result"
    }
   ],
   "source": [
    "# Reading T-DHT22 file\n",
    "df1 = pd.read_csv('../data/raw/measures/T-DHT22-measures.csv', parse_dates = ['time'])\n",
    "df1.head()"
   ]
  },
  {
   "cell_type": "code",
   "execution_count": 3,
   "metadata": {},
   "outputs": [
    {
     "data": {
      "text/plain": [
       "pandas._libs.tslibs.timestamps.Timestamp"
      ]
     },
     "execution_count": 3,
     "metadata": {},
     "output_type": "execute_result"
    }
   ],
   "source": [
    "type(df1.time[0])"
   ]
  },
  {
   "cell_type": "code",
   "execution_count": 3,
   "metadata": {
    "scrolled": false
   },
   "outputs": [
    {
     "name": "stdout",
     "output_type": "stream",
     "text": [
      "<class 'pandas.core.frame.DataFrame'>\n",
      "RangeIndex: 1440150 entries, 0 to 1440149\n",
      "Data columns (total 3 columns):\n",
      "sensor    1440150 non-null object\n",
      "value     1440150 non-null float64\n",
      "time      1440150 non-null datetime64[ns]\n",
      "dtypes: datetime64[ns](1), float64(1), object(1)\n",
      "memory usage: 33.0+ MB\n"
     ]
    }
   ],
   "source": [
    "# Get General Information regarding data frame\n",
    "df1.info()"
   ]
  },
  {
   "cell_type": "markdown",
   "metadata": {},
   "source": [
    "From information above, the data frame has 1440150 rows and 3 columns. Each column has 1440150 data, there is no missing data. "
   ]
  },
  {
   "cell_type": "code",
   "execution_count": 4,
   "metadata": {
    "scrolled": false
   },
   "outputs": [
    {
     "data": {
      "text/plain": [
       "T-DHT22    1440150\n",
       "Name: sensor, dtype: int64"
      ]
     },
     "execution_count": 4,
     "metadata": {},
     "output_type": "execute_result"
    }
   ],
   "source": [
    "# Get sensor's description \n",
    "df1.sensor.value_counts()"
   ]
  },
  {
   "cell_type": "code",
   "execution_count": 5,
   "metadata": {},
   "outputs": [
    {
     "data": {
      "text/html": [
       "<div>\n",
       "<style scoped>\n",
       "    .dataframe tbody tr th:only-of-type {\n",
       "        vertical-align: middle;\n",
       "    }\n",
       "\n",
       "    .dataframe tbody tr th {\n",
       "        vertical-align: top;\n",
       "    }\n",
       "\n",
       "    .dataframe thead th {\n",
       "        text-align: right;\n",
       "    }\n",
       "</style>\n",
       "<table border=\"1\" class=\"dataframe\">\n",
       "  <thead>\n",
       "    <tr style=\"text-align: right;\">\n",
       "      <th></th>\n",
       "      <th>T_DHT22</th>\n",
       "      <th>time</th>\n",
       "    </tr>\n",
       "  </thead>\n",
       "  <tbody>\n",
       "    <tr>\n",
       "      <th>0</th>\n",
       "      <td>25.5</td>\n",
       "      <td>2017-12-19 14:07:18</td>\n",
       "    </tr>\n",
       "    <tr>\n",
       "      <th>1</th>\n",
       "      <td>25.5</td>\n",
       "      <td>2017-12-19 14:07:25</td>\n",
       "    </tr>\n",
       "    <tr>\n",
       "      <th>2</th>\n",
       "      <td>25.6</td>\n",
       "      <td>2017-12-19 14:07:32</td>\n",
       "    </tr>\n",
       "    <tr>\n",
       "      <th>3</th>\n",
       "      <td>25.6</td>\n",
       "      <td>2017-12-19 14:07:38</td>\n",
       "    </tr>\n",
       "    <tr>\n",
       "      <th>4</th>\n",
       "      <td>25.6</td>\n",
       "      <td>2017-12-19 14:07:45</td>\n",
       "    </tr>\n",
       "  </tbody>\n",
       "</table>\n",
       "</div>"
      ],
      "text/plain": [
       "   T_DHT22                time\n",
       "0     25.5 2017-12-19 14:07:18\n",
       "1     25.5 2017-12-19 14:07:25\n",
       "2     25.6 2017-12-19 14:07:32\n",
       "3     25.6 2017-12-19 14:07:38\n",
       "4     25.6 2017-12-19 14:07:45"
      ]
     },
     "execution_count": 5,
     "metadata": {},
     "output_type": "execute_result"
    }
   ],
   "source": [
    "# This data has only one sensor, I drop sensor column and rename column value to T_DHT22\n",
    "new_df1 = df1.drop(['sensor'], axis='columns') \n",
    "new_df1.rename(columns= {'value' : 'T_DHT22'}, inplace = True )\n",
    "new_df1.head()"
   ]
  },
  {
   "cell_type": "code",
   "execution_count": 8,
   "metadata": {},
   "outputs": [
    {
     "data": {
      "text/plain": [
       "sensor    0\n",
       "value     0\n",
       "time      0\n",
       "dtype: int64"
      ]
     },
     "execution_count": 8,
     "metadata": {},
     "output_type": "execute_result"
    }
   ],
   "source": [
    "# Count missing data in each column\n",
    "df1.isnull().sum()"
   ]
  },
  {
   "cell_type": "code",
   "execution_count": 8,
   "metadata": {
    "scrolled": false
   },
   "outputs": [
    {
     "data": {
      "text/html": [
       "<div>\n",
       "<style scoped>\n",
       "    .dataframe tbody tr th:only-of-type {\n",
       "        vertical-align: middle;\n",
       "    }\n",
       "\n",
       "    .dataframe tbody tr th {\n",
       "        vertical-align: top;\n",
       "    }\n",
       "\n",
       "    .dataframe thead th {\n",
       "        text-align: right;\n",
       "    }\n",
       "</style>\n",
       "<table border=\"1\" class=\"dataframe\">\n",
       "  <thead>\n",
       "    <tr style=\"text-align: right;\">\n",
       "      <th></th>\n",
       "      <th>T_DHT22</th>\n",
       "    </tr>\n",
       "  </thead>\n",
       "  <tbody>\n",
       "    <tr>\n",
       "      <th>count</th>\n",
       "      <td>1.440150e+06</td>\n",
       "    </tr>\n",
       "    <tr>\n",
       "      <th>mean</th>\n",
       "      <td>2.299986e+01</td>\n",
       "    </tr>\n",
       "    <tr>\n",
       "      <th>std</th>\n",
       "      <td>2.480804e+00</td>\n",
       "    </tr>\n",
       "    <tr>\n",
       "      <th>min</th>\n",
       "      <td>1.670000e+01</td>\n",
       "    </tr>\n",
       "    <tr>\n",
       "      <th>25%</th>\n",
       "      <td>2.170000e+01</td>\n",
       "    </tr>\n",
       "    <tr>\n",
       "      <th>50%</th>\n",
       "      <td>2.330000e+01</td>\n",
       "    </tr>\n",
       "    <tr>\n",
       "      <th>75%</th>\n",
       "      <td>2.480000e+01</td>\n",
       "    </tr>\n",
       "    <tr>\n",
       "      <th>max</th>\n",
       "      <td>2.980000e+01</td>\n",
       "    </tr>\n",
       "  </tbody>\n",
       "</table>\n",
       "</div>"
      ],
      "text/plain": [
       "            T_DHT22\n",
       "count  1.440150e+06\n",
       "mean   2.299986e+01\n",
       "std    2.480804e+00\n",
       "min    1.670000e+01\n",
       "25%    2.170000e+01\n",
       "50%    2.330000e+01\n",
       "75%    2.480000e+01\n",
       "max    2.980000e+01"
      ]
     },
     "execution_count": 8,
     "metadata": {},
     "output_type": "execute_result"
    }
   ],
   "source": [
    "#Get statistical information\n",
    "new_df1.describe()"
   ]
  },
  {
   "cell_type": "markdown",
   "metadata": {},
   "source": [
    "File T-DHT22-measures.csv doesn't have any problem. There's no missing data and each column has a same format."
   ]
  },
  {
   "cell_type": "markdown",
   "metadata": {},
   "source": [
    "### 2. Humidity File (H-DHT22)"
   ]
  },
  {
   "cell_type": "code",
   "execution_count": 9,
   "metadata": {
    "scrolled": true
   },
   "outputs": [
    {
     "data": {
      "text/html": [
       "<div>\n",
       "<style scoped>\n",
       "    .dataframe tbody tr th:only-of-type {\n",
       "        vertical-align: middle;\n",
       "    }\n",
       "\n",
       "    .dataframe tbody tr th {\n",
       "        vertical-align: top;\n",
       "    }\n",
       "\n",
       "    .dataframe thead th {\n",
       "        text-align: right;\n",
       "    }\n",
       "</style>\n",
       "<table border=\"1\" class=\"dataframe\">\n",
       "  <thead>\n",
       "    <tr style=\"text-align: right;\">\n",
       "      <th></th>\n",
       "      <th>sensor</th>\n",
       "      <th>value</th>\n",
       "      <th>time</th>\n",
       "    </tr>\n",
       "  </thead>\n",
       "  <tbody>\n",
       "    <tr>\n",
       "      <th>0</th>\n",
       "      <td>H-DHT22</td>\n",
       "      <td>15.7</td>\n",
       "      <td>2017-12-19 14:07:18</td>\n",
       "    </tr>\n",
       "    <tr>\n",
       "      <th>1</th>\n",
       "      <td>H-DHT22</td>\n",
       "      <td>15.7</td>\n",
       "      <td>2017-12-19 14:07:25</td>\n",
       "    </tr>\n",
       "    <tr>\n",
       "      <th>2</th>\n",
       "      <td>H-DHT22</td>\n",
       "      <td>15.7</td>\n",
       "      <td>2017-12-19 14:07:32</td>\n",
       "    </tr>\n",
       "    <tr>\n",
       "      <th>3</th>\n",
       "      <td>H-DHT22</td>\n",
       "      <td>15.7</td>\n",
       "      <td>2017-12-19 14:07:38</td>\n",
       "    </tr>\n",
       "    <tr>\n",
       "      <th>4</th>\n",
       "      <td>H-DHT22</td>\n",
       "      <td>15.7</td>\n",
       "      <td>2017-12-19 14:07:45</td>\n",
       "    </tr>\n",
       "  </tbody>\n",
       "</table>\n",
       "</div>"
      ],
      "text/plain": [
       "    sensor  value                time\n",
       "0  H-DHT22   15.7 2017-12-19 14:07:18\n",
       "1  H-DHT22   15.7 2017-12-19 14:07:25\n",
       "2  H-DHT22   15.7 2017-12-19 14:07:32\n",
       "3  H-DHT22   15.7 2017-12-19 14:07:38\n",
       "4  H-DHT22   15.7 2017-12-19 14:07:45"
      ]
     },
     "execution_count": 9,
     "metadata": {},
     "output_type": "execute_result"
    }
   ],
   "source": [
    "# Reading H-DHT22 file\n",
    "df2 = pd.read_csv('../data/raw/measures/H-DHT22-measures.csv', parse_dates = ['time'])\n",
    "df2.head()"
   ]
  },
  {
   "cell_type": "code",
   "execution_count": 10,
   "metadata": {},
   "outputs": [
    {
     "data": {
      "text/plain": [
       "pandas._libs.tslibs.timestamps.Timestamp"
      ]
     },
     "execution_count": 10,
     "metadata": {},
     "output_type": "execute_result"
    }
   ],
   "source": [
    "type(df2.time[0])"
   ]
  },
  {
   "cell_type": "code",
   "execution_count": 11,
   "metadata": {
    "scrolled": true
   },
   "outputs": [
    {
     "name": "stdout",
     "output_type": "stream",
     "text": [
      "<class 'pandas.core.frame.DataFrame'>\n",
      "RangeIndex: 1440160 entries, 0 to 1440159\n",
      "Data columns (total 3 columns):\n",
      "sensor    1440160 non-null object\n",
      "value     1440160 non-null float64\n",
      "time      1440160 non-null datetime64[ns]\n",
      "dtypes: datetime64[ns](1), float64(1), object(1)\n",
      "memory usage: 33.0+ MB\n"
     ]
    }
   ],
   "source": [
    "# Get General Information regarding data frame\n",
    "df2.info()"
   ]
  },
  {
   "cell_type": "markdown",
   "metadata": {},
   "source": [
    "From information above, the data frame has 1440160 rows and 3 columns. Each column has 1440150 data, there is no missing data."
   ]
  },
  {
   "cell_type": "code",
   "execution_count": 12,
   "metadata": {},
   "outputs": [
    {
     "data": {
      "text/plain": [
       "H-DHT22    1440160\n",
       "Name: sensor, dtype: int64"
      ]
     },
     "execution_count": 12,
     "metadata": {},
     "output_type": "execute_result"
    }
   ],
   "source": [
    "# Get General Information regarding data frame\n",
    "df2.sensor.value_counts()"
   ]
  },
  {
   "cell_type": "code",
   "execution_count": 13,
   "metadata": {},
   "outputs": [
    {
     "data": {
      "text/html": [
       "<div>\n",
       "<style scoped>\n",
       "    .dataframe tbody tr th:only-of-type {\n",
       "        vertical-align: middle;\n",
       "    }\n",
       "\n",
       "    .dataframe tbody tr th {\n",
       "        vertical-align: top;\n",
       "    }\n",
       "\n",
       "    .dataframe thead th {\n",
       "        text-align: right;\n",
       "    }\n",
       "</style>\n",
       "<table border=\"1\" class=\"dataframe\">\n",
       "  <thead>\n",
       "    <tr style=\"text-align: right;\">\n",
       "      <th></th>\n",
       "      <th>H_DHT22</th>\n",
       "      <th>time</th>\n",
       "    </tr>\n",
       "  </thead>\n",
       "  <tbody>\n",
       "    <tr>\n",
       "      <th>0</th>\n",
       "      <td>15.7</td>\n",
       "      <td>2017-12-19 14:07:18</td>\n",
       "    </tr>\n",
       "    <tr>\n",
       "      <th>1</th>\n",
       "      <td>15.7</td>\n",
       "      <td>2017-12-19 14:07:25</td>\n",
       "    </tr>\n",
       "    <tr>\n",
       "      <th>2</th>\n",
       "      <td>15.7</td>\n",
       "      <td>2017-12-19 14:07:32</td>\n",
       "    </tr>\n",
       "    <tr>\n",
       "      <th>3</th>\n",
       "      <td>15.7</td>\n",
       "      <td>2017-12-19 14:07:38</td>\n",
       "    </tr>\n",
       "    <tr>\n",
       "      <th>4</th>\n",
       "      <td>15.7</td>\n",
       "      <td>2017-12-19 14:07:45</td>\n",
       "    </tr>\n",
       "  </tbody>\n",
       "</table>\n",
       "</div>"
      ],
      "text/plain": [
       "   H_DHT22                time\n",
       "0     15.7 2017-12-19 14:07:18\n",
       "1     15.7 2017-12-19 14:07:25\n",
       "2     15.7 2017-12-19 14:07:32\n",
       "3     15.7 2017-12-19 14:07:38\n",
       "4     15.7 2017-12-19 14:07:45"
      ]
     },
     "execution_count": 13,
     "metadata": {},
     "output_type": "execute_result"
    }
   ],
   "source": [
    "# This data has only one sensor, I drop sensor column and rename column value to H_DHT22\n",
    "new_df2 = df2.drop(['sensor'], axis='columns') \n",
    "new_df2.rename(columns= {'value' : 'H_DHT22'}, inplace = True )\n",
    "new_df2.head()"
   ]
  },
  {
   "cell_type": "code",
   "execution_count": 14,
   "metadata": {},
   "outputs": [
    {
     "data": {
      "text/plain": [
       "sensor    0\n",
       "value     0\n",
       "time      0\n",
       "dtype: int64"
      ]
     },
     "execution_count": 14,
     "metadata": {},
     "output_type": "execute_result"
    }
   ],
   "source": [
    "# Count missing data in each column\n",
    "df2.isnull().sum()"
   ]
  },
  {
   "cell_type": "markdown",
   "metadata": {},
   "source": [
    "File H-DHT22-measures.csv doesn't have any problem. There's no missing data and each column has a same format."
   ]
  },
  {
   "cell_type": "markdown",
   "metadata": {},
   "source": [
    "### 3. Merge temperature and humidity data frame"
   ]
  },
  {
   "cell_type": "markdown",
   "metadata": {},
   "source": [
    "In this section, I'm going to merge two dataframes into one data frame base on the time. After merging two data frames probably founded missing data either on column T_DGT22 or H_DHT22 because there is a difference between time in each data frame. "
   ]
  },
  {
   "cell_type": "code",
   "execution_count": 15,
   "metadata": {
    "scrolled": false
   },
   "outputs": [
    {
     "data": {
      "text/html": [
       "<div>\n",
       "<style scoped>\n",
       "    .dataframe tbody tr th:only-of-type {\n",
       "        vertical-align: middle;\n",
       "    }\n",
       "\n",
       "    .dataframe tbody tr th {\n",
       "        vertical-align: top;\n",
       "    }\n",
       "\n",
       "    .dataframe thead th {\n",
       "        text-align: right;\n",
       "    }\n",
       "</style>\n",
       "<table border=\"1\" class=\"dataframe\">\n",
       "  <thead>\n",
       "    <tr style=\"text-align: right;\">\n",
       "      <th></th>\n",
       "      <th>T_DHT22</th>\n",
       "      <th>H_DHT22</th>\n",
       "    </tr>\n",
       "    <tr>\n",
       "      <th>time</th>\n",
       "      <th></th>\n",
       "      <th></th>\n",
       "    </tr>\n",
       "  </thead>\n",
       "  <tbody>\n",
       "    <tr>\n",
       "      <th>2017-12-19 14:07:18</th>\n",
       "      <td>25.5</td>\n",
       "      <td>15.7</td>\n",
       "    </tr>\n",
       "    <tr>\n",
       "      <th>2017-12-19 14:07:25</th>\n",
       "      <td>25.5</td>\n",
       "      <td>15.7</td>\n",
       "    </tr>\n",
       "    <tr>\n",
       "      <th>2017-12-19 14:07:32</th>\n",
       "      <td>25.6</td>\n",
       "      <td>15.7</td>\n",
       "    </tr>\n",
       "    <tr>\n",
       "      <th>2017-12-19 14:07:38</th>\n",
       "      <td>25.6</td>\n",
       "      <td>15.7</td>\n",
       "    </tr>\n",
       "    <tr>\n",
       "      <th>2017-12-19 14:07:45</th>\n",
       "      <td>25.6</td>\n",
       "      <td>15.7</td>\n",
       "    </tr>\n",
       "  </tbody>\n",
       "</table>\n",
       "</div>"
      ],
      "text/plain": [
       "                     T_DHT22  H_DHT22\n",
       "time                                 \n",
       "2017-12-19 14:07:18     25.5     15.7\n",
       "2017-12-19 14:07:25     25.5     15.7\n",
       "2017-12-19 14:07:32     25.6     15.7\n",
       "2017-12-19 14:07:38     25.6     15.7\n",
       "2017-12-19 14:07:45     25.6     15.7"
      ]
     },
     "execution_count": 15,
     "metadata": {},
     "output_type": "execute_result"
    }
   ],
   "source": [
    "# Merge data frame base on time columns\n",
    "newdf = pd.merge(new_df1, new_df2, on = 'time', how='outer')\n",
    "# Set time as a index of data frame\n",
    "newdf.set_index('time', inplace=True)\n",
    "newdf.head()"
   ]
  },
  {
   "cell_type": "code",
   "execution_count": 16,
   "metadata": {
    "scrolled": false
   },
   "outputs": [
    {
     "name": "stdout",
     "output_type": "stream",
     "text": [
      "<class 'pandas.core.frame.DataFrame'>\n",
      "DatetimeIndex: 1522253 entries, 2017-12-19 14:07:18 to 2018-03-13 11:38:20\n",
      "Data columns (total 2 columns):\n",
      "T_DHT22    1440150 non-null float64\n",
      "H_DHT22    1440160 non-null float64\n",
      "dtypes: float64(2)\n",
      "memory usage: 34.8 MB\n"
     ]
    }
   ],
   "source": [
    "# Get general information\n",
    "newdf.info()"
   ]
  },
  {
   "cell_type": "markdown",
   "metadata": {},
   "source": [
    "From information above, the data frame after merging has 1522253 rows. T_DHT22 and H_DHT22 respectively has 1440150 and 1440160 data. In other words, there is missing data in each column. "
   ]
  },
  {
   "cell_type": "code",
   "execution_count": 18,
   "metadata": {},
   "outputs": [
    {
     "data": {
      "text/plain": [
       "T_DHT22    82103\n",
       "H_DHT22    82093\n",
       "dtype: int64"
      ]
     },
     "execution_count": 18,
     "metadata": {},
     "output_type": "execute_result"
    }
   ],
   "source": [
    "# Count missing data in each column\n",
    "newdf.isnull().sum()"
   ]
  },
  {
   "cell_type": "code",
   "execution_count": 18,
   "metadata": {
    "scrolled": true
   },
   "outputs": [
    {
     "data": {
      "text/html": [
       "<div>\n",
       "<style scoped>\n",
       "    .dataframe tbody tr th:only-of-type {\n",
       "        vertical-align: middle;\n",
       "    }\n",
       "\n",
       "    .dataframe tbody tr th {\n",
       "        vertical-align: top;\n",
       "    }\n",
       "\n",
       "    .dataframe thead th {\n",
       "        text-align: right;\n",
       "    }\n",
       "</style>\n",
       "<table border=\"1\" class=\"dataframe\">\n",
       "  <thead>\n",
       "    <tr style=\"text-align: right;\">\n",
       "      <th></th>\n",
       "      <th>T_DHT22</th>\n",
       "      <th>H_DHT22</th>\n",
       "    </tr>\n",
       "    <tr>\n",
       "      <th>time</th>\n",
       "      <th></th>\n",
       "      <th></th>\n",
       "    </tr>\n",
       "  </thead>\n",
       "  <tbody>\n",
       "    <tr>\n",
       "      <th>2017-12-19 15:47:36</th>\n",
       "      <td>27.0</td>\n",
       "      <td>2.0</td>\n",
       "    </tr>\n",
       "    <tr>\n",
       "      <th>2017-12-19 15:47:43</th>\n",
       "      <td>27.0</td>\n",
       "      <td>2.0</td>\n",
       "    </tr>\n",
       "    <tr>\n",
       "      <th>2017-12-19 15:47:50</th>\n",
       "      <td>27.0</td>\n",
       "      <td>1.8</td>\n",
       "    </tr>\n",
       "    <tr>\n",
       "      <th>2017-12-19 15:47:56</th>\n",
       "      <td>27.0</td>\n",
       "      <td>NaN</td>\n",
       "    </tr>\n",
       "    <tr>\n",
       "      <th>2017-12-19 15:48:03</th>\n",
       "      <td>27.0</td>\n",
       "      <td>1.7</td>\n",
       "    </tr>\n",
       "    <tr>\n",
       "      <th>2017-12-19 15:48:10</th>\n",
       "      <td>27.0</td>\n",
       "      <td>2.2</td>\n",
       "    </tr>\n",
       "    <tr>\n",
       "      <th>2017-12-19 15:48:17</th>\n",
       "      <td>27.0</td>\n",
       "      <td>2.1</td>\n",
       "    </tr>\n",
       "    <tr>\n",
       "      <th>2017-12-19 15:48:24</th>\n",
       "      <td>27.0</td>\n",
       "      <td>2.4</td>\n",
       "    </tr>\n",
       "    <tr>\n",
       "      <th>2017-12-19 15:48:30</th>\n",
       "      <td>27.0</td>\n",
       "      <td>2.4</td>\n",
       "    </tr>\n",
       "    <tr>\n",
       "      <th>2017-12-19 15:48:37</th>\n",
       "      <td>27.1</td>\n",
       "      <td>2.3</td>\n",
       "    </tr>\n",
       "    <tr>\n",
       "      <th>2017-12-19 15:48:44</th>\n",
       "      <td>27.0</td>\n",
       "      <td>1.6</td>\n",
       "    </tr>\n",
       "    <tr>\n",
       "      <th>2017-12-19 15:48:51</th>\n",
       "      <td>27.1</td>\n",
       "      <td>1.8</td>\n",
       "    </tr>\n",
       "    <tr>\n",
       "      <th>2017-12-19 15:48:57</th>\n",
       "      <td>27.1</td>\n",
       "      <td>2.3</td>\n",
       "    </tr>\n",
       "    <tr>\n",
       "      <th>2017-12-19 15:49:04</th>\n",
       "      <td>27.1</td>\n",
       "      <td>2.2</td>\n",
       "    </tr>\n",
       "    <tr>\n",
       "      <th>2017-12-19 15:49:11</th>\n",
       "      <td>27.1</td>\n",
       "      <td>2.4</td>\n",
       "    </tr>\n",
       "    <tr>\n",
       "      <th>2017-12-19 15:49:18</th>\n",
       "      <td>27.1</td>\n",
       "      <td>2.3</td>\n",
       "    </tr>\n",
       "    <tr>\n",
       "      <th>2017-12-19 15:49:24</th>\n",
       "      <td>27.1</td>\n",
       "      <td>NaN</td>\n",
       "    </tr>\n",
       "    <tr>\n",
       "      <th>2017-12-19 15:49:31</th>\n",
       "      <td>27.1</td>\n",
       "      <td>2.2</td>\n",
       "    </tr>\n",
       "    <tr>\n",
       "      <th>2017-12-19 15:49:38</th>\n",
       "      <td>27.1</td>\n",
       "      <td>2.3</td>\n",
       "    </tr>\n",
       "    <tr>\n",
       "      <th>2017-12-19 15:49:45</th>\n",
       "      <td>27.1</td>\n",
       "      <td>2.3</td>\n",
       "    </tr>\n",
       "  </tbody>\n",
       "</table>\n",
       "</div>"
      ],
      "text/plain": [
       "                     T_DHT22  H_DHT22\n",
       "time                                 \n",
       "2017-12-19 15:47:36     27.0      2.0\n",
       "2017-12-19 15:47:43     27.0      2.0\n",
       "2017-12-19 15:47:50     27.0      1.8\n",
       "2017-12-19 15:47:56     27.0      NaN\n",
       "2017-12-19 15:48:03     27.0      1.7\n",
       "2017-12-19 15:48:10     27.0      2.2\n",
       "2017-12-19 15:48:17     27.0      2.1\n",
       "2017-12-19 15:48:24     27.0      2.4\n",
       "2017-12-19 15:48:30     27.0      2.4\n",
       "2017-12-19 15:48:37     27.1      2.3\n",
       "2017-12-19 15:48:44     27.0      1.6\n",
       "2017-12-19 15:48:51     27.1      1.8\n",
       "2017-12-19 15:48:57     27.1      2.3\n",
       "2017-12-19 15:49:04     27.1      2.2\n",
       "2017-12-19 15:49:11     27.1      2.4\n",
       "2017-12-19 15:49:18     27.1      2.3\n",
       "2017-12-19 15:49:24     27.1      NaN\n",
       "2017-12-19 15:49:31     27.1      2.2\n",
       "2017-12-19 15:49:38     27.1      2.3\n",
       "2017-12-19 15:49:45     27.1      2.3"
      ]
     },
     "execution_count": 18,
     "metadata": {},
     "output_type": "execute_result"
    }
   ],
   "source": [
    "newdf.iloc[200:220]"
   ]
  },
  {
   "cell_type": "markdown",
   "metadata": {},
   "source": [
    "In this case, I use interpolation base on time to handle missing data. These are the reason. \n",
    "1. Either temperature or humidity does not have a significant change over time.\n",
    "2. The difference of time from one row to the next row is not same. "
   ]
  },
  {
   "cell_type": "code",
   "execution_count": 19,
   "metadata": {
    "scrolled": true
   },
   "outputs": [
    {
     "data": {
      "text/html": [
       "<div>\n",
       "<style scoped>\n",
       "    .dataframe tbody tr th:only-of-type {\n",
       "        vertical-align: middle;\n",
       "    }\n",
       "\n",
       "    .dataframe tbody tr th {\n",
       "        vertical-align: top;\n",
       "    }\n",
       "\n",
       "    .dataframe thead th {\n",
       "        text-align: right;\n",
       "    }\n",
       "</style>\n",
       "<table border=\"1\" class=\"dataframe\">\n",
       "  <thead>\n",
       "    <tr style=\"text-align: right;\">\n",
       "      <th></th>\n",
       "      <th>T_DHT22</th>\n",
       "      <th>H_DHT22</th>\n",
       "    </tr>\n",
       "    <tr>\n",
       "      <th>time</th>\n",
       "      <th></th>\n",
       "      <th></th>\n",
       "    </tr>\n",
       "  </thead>\n",
       "  <tbody>\n",
       "    <tr>\n",
       "      <th>2017-12-19 15:47:36</th>\n",
       "      <td>27.0</td>\n",
       "      <td>2.000000</td>\n",
       "    </tr>\n",
       "    <tr>\n",
       "      <th>2017-12-19 15:47:43</th>\n",
       "      <td>27.0</td>\n",
       "      <td>2.000000</td>\n",
       "    </tr>\n",
       "    <tr>\n",
       "      <th>2017-12-19 15:47:50</th>\n",
       "      <td>27.0</td>\n",
       "      <td>1.800000</td>\n",
       "    </tr>\n",
       "    <tr>\n",
       "      <th>2017-12-19 15:47:56</th>\n",
       "      <td>27.0</td>\n",
       "      <td>1.753846</td>\n",
       "    </tr>\n",
       "    <tr>\n",
       "      <th>2017-12-19 15:48:03</th>\n",
       "      <td>27.0</td>\n",
       "      <td>1.700000</td>\n",
       "    </tr>\n",
       "    <tr>\n",
       "      <th>2017-12-19 15:48:10</th>\n",
       "      <td>27.0</td>\n",
       "      <td>2.200000</td>\n",
       "    </tr>\n",
       "    <tr>\n",
       "      <th>2017-12-19 15:48:17</th>\n",
       "      <td>27.0</td>\n",
       "      <td>2.100000</td>\n",
       "    </tr>\n",
       "    <tr>\n",
       "      <th>2017-12-19 15:48:24</th>\n",
       "      <td>27.0</td>\n",
       "      <td>2.400000</td>\n",
       "    </tr>\n",
       "    <tr>\n",
       "      <th>2017-12-19 15:48:30</th>\n",
       "      <td>27.0</td>\n",
       "      <td>2.400000</td>\n",
       "    </tr>\n",
       "    <tr>\n",
       "      <th>2017-12-19 15:48:37</th>\n",
       "      <td>27.1</td>\n",
       "      <td>2.300000</td>\n",
       "    </tr>\n",
       "    <tr>\n",
       "      <th>2017-12-19 15:48:44</th>\n",
       "      <td>27.0</td>\n",
       "      <td>1.600000</td>\n",
       "    </tr>\n",
       "    <tr>\n",
       "      <th>2017-12-19 15:48:51</th>\n",
       "      <td>27.1</td>\n",
       "      <td>1.800000</td>\n",
       "    </tr>\n",
       "    <tr>\n",
       "      <th>2017-12-19 15:48:57</th>\n",
       "      <td>27.1</td>\n",
       "      <td>2.300000</td>\n",
       "    </tr>\n",
       "    <tr>\n",
       "      <th>2017-12-19 15:49:04</th>\n",
       "      <td>27.1</td>\n",
       "      <td>2.200000</td>\n",
       "    </tr>\n",
       "    <tr>\n",
       "      <th>2017-12-19 15:49:11</th>\n",
       "      <td>27.1</td>\n",
       "      <td>2.400000</td>\n",
       "    </tr>\n",
       "    <tr>\n",
       "      <th>2017-12-19 15:49:18</th>\n",
       "      <td>27.1</td>\n",
       "      <td>2.300000</td>\n",
       "    </tr>\n",
       "    <tr>\n",
       "      <th>2017-12-19 15:49:24</th>\n",
       "      <td>27.1</td>\n",
       "      <td>2.253846</td>\n",
       "    </tr>\n",
       "    <tr>\n",
       "      <th>2017-12-19 15:49:31</th>\n",
       "      <td>27.1</td>\n",
       "      <td>2.200000</td>\n",
       "    </tr>\n",
       "    <tr>\n",
       "      <th>2017-12-19 15:49:38</th>\n",
       "      <td>27.1</td>\n",
       "      <td>2.300000</td>\n",
       "    </tr>\n",
       "    <tr>\n",
       "      <th>2017-12-19 15:49:45</th>\n",
       "      <td>27.1</td>\n",
       "      <td>2.300000</td>\n",
       "    </tr>\n",
       "  </tbody>\n",
       "</table>\n",
       "</div>"
      ],
      "text/plain": [
       "                     T_DHT22   H_DHT22\n",
       "time                                  \n",
       "2017-12-19 15:47:36     27.0  2.000000\n",
       "2017-12-19 15:47:43     27.0  2.000000\n",
       "2017-12-19 15:47:50     27.0  1.800000\n",
       "2017-12-19 15:47:56     27.0  1.753846\n",
       "2017-12-19 15:48:03     27.0  1.700000\n",
       "2017-12-19 15:48:10     27.0  2.200000\n",
       "2017-12-19 15:48:17     27.0  2.100000\n",
       "2017-12-19 15:48:24     27.0  2.400000\n",
       "2017-12-19 15:48:30     27.0  2.400000\n",
       "2017-12-19 15:48:37     27.1  2.300000\n",
       "2017-12-19 15:48:44     27.0  1.600000\n",
       "2017-12-19 15:48:51     27.1  1.800000\n",
       "2017-12-19 15:48:57     27.1  2.300000\n",
       "2017-12-19 15:49:04     27.1  2.200000\n",
       "2017-12-19 15:49:11     27.1  2.400000\n",
       "2017-12-19 15:49:18     27.1  2.300000\n",
       "2017-12-19 15:49:24     27.1  2.253846\n",
       "2017-12-19 15:49:31     27.1  2.200000\n",
       "2017-12-19 15:49:38     27.1  2.300000\n",
       "2017-12-19 15:49:45     27.1  2.300000"
      ]
     },
     "execution_count": 19,
     "metadata": {},
     "output_type": "execute_result"
    }
   ],
   "source": [
    "# Handling missing data using interpolation\n",
    "newdf.interpolate(method='time', inplace=True)\n",
    "newdf.iloc[200:220]"
   ]
  },
  {
   "cell_type": "code",
   "execution_count": 20,
   "metadata": {
    "scrolled": true
   },
   "outputs": [
    {
     "data": {
      "text/html": [
       "<div>\n",
       "<style scoped>\n",
       "    .dataframe tbody tr th:only-of-type {\n",
       "        vertical-align: middle;\n",
       "    }\n",
       "\n",
       "    .dataframe tbody tr th {\n",
       "        vertical-align: top;\n",
       "    }\n",
       "\n",
       "    .dataframe thead th {\n",
       "        text-align: right;\n",
       "    }\n",
       "</style>\n",
       "<table border=\"1\" class=\"dataframe\">\n",
       "  <thead>\n",
       "    <tr style=\"text-align: right;\">\n",
       "      <th></th>\n",
       "      <th>T_DHT22</th>\n",
       "      <th>H_DHT22</th>\n",
       "    </tr>\n",
       "  </thead>\n",
       "  <tbody>\n",
       "    <tr>\n",
       "      <th>count</th>\n",
       "      <td>1.522253e+06</td>\n",
       "      <td>1.522253e+06</td>\n",
       "    </tr>\n",
       "    <tr>\n",
       "      <th>mean</th>\n",
       "      <td>2.298896e+01</td>\n",
       "      <td>1.001344e+00</td>\n",
       "    </tr>\n",
       "    <tr>\n",
       "      <th>std</th>\n",
       "      <td>2.492273e+00</td>\n",
       "      <td>1.943594e-01</td>\n",
       "    </tr>\n",
       "    <tr>\n",
       "      <th>min</th>\n",
       "      <td>1.670000e+01</td>\n",
       "      <td>1.000000e+00</td>\n",
       "    </tr>\n",
       "    <tr>\n",
       "      <th>25%</th>\n",
       "      <td>2.170000e+01</td>\n",
       "      <td>1.000000e+00</td>\n",
       "    </tr>\n",
       "    <tr>\n",
       "      <th>50%</th>\n",
       "      <td>2.330000e+01</td>\n",
       "      <td>1.000000e+00</td>\n",
       "    </tr>\n",
       "    <tr>\n",
       "      <th>75%</th>\n",
       "      <td>2.480000e+01</td>\n",
       "      <td>1.000000e+00</td>\n",
       "    </tr>\n",
       "    <tr>\n",
       "      <th>max</th>\n",
       "      <td>2.980000e+01</td>\n",
       "      <td>9.990000e+01</td>\n",
       "    </tr>\n",
       "  </tbody>\n",
       "</table>\n",
       "</div>"
      ],
      "text/plain": [
       "            T_DHT22       H_DHT22\n",
       "count  1.522253e+06  1.522253e+06\n",
       "mean   2.298896e+01  1.001344e+00\n",
       "std    2.492273e+00  1.943594e-01\n",
       "min    1.670000e+01  1.000000e+00\n",
       "25%    2.170000e+01  1.000000e+00\n",
       "50%    2.330000e+01  1.000000e+00\n",
       "75%    2.480000e+01  1.000000e+00\n",
       "max    2.980000e+01  9.990000e+01"
      ]
     },
     "execution_count": 20,
     "metadata": {},
     "output_type": "execute_result"
    }
   ],
   "source": [
    "# Get statistical information of data frame\n",
    "newdf.describe()"
   ]
  },
  {
   "cell_type": "markdown",
   "metadata": {},
   "source": [
    "### 4. Data Visualization"
   ]
  },
  {
   "cell_type": "code",
   "execution_count": 25,
   "metadata": {},
   "outputs": [
    {
     "data": {
      "text/plain": [
       "<matplotlib.axes._subplots.AxesSubplot at 0x7fe917aba400>"
      ]
     },
     "execution_count": 25,
     "metadata": {},
     "output_type": "execute_result"
    },
    {
     "data": {
      "image/png": "[encoded data removed]",
      "text/plain": [
       "<Figure size 432x288 with 1 Axes>"
      ]
     },
     "metadata": {
      "needs_background": "light"
     },
     "output_type": "display_data"
    }
   ],
   "source": [
    "%matplotlib inline\n",
    "# Visualization the average temperature based on time (day)\n",
    "newdf.T_DHT22.resample('D').mean().plot()"
   ]
  },
  {
   "cell_type": "code",
   "execution_count": 23,
   "metadata": {},
   "outputs": [
    {
     "data": {
      "text/plain": [
       "<matplotlib.axes._subplots.AxesSubplot at 0x7fe917aeec88>"
      ]
     },
     "execution_count": 23,
     "metadata": {},
     "output_type": "execute_result"
    },
    {
     "data": {
      "image/png": "[encoded data removed]",
      "text/plain": [
       "<Figure size 432x288 with 1 Axes>"
      ]
     },
     "metadata": {
      "needs_background": "light"
     },
     "output_type": "display_data"
    }
   ],
   "source": [
    "# Visualization the average humidity based on time (day)\n",
    "newdf.H_DHT22.resample('D').mean().plot()"
   ]
  },
  {
   "cell_type": "markdown",
   "metadata": {},
   "source": [
    "Note :\n",
    "There are missing data in temperature and humidity graphs,\n",
    "it happens because there is no data both in temperature and humidity dataframe "
   ]
  },
  {
   "cell_type": "code",
   "execution_count": null,
   "metadata": {},
   "outputs": [],
   "source": []
  }
 ],
 "metadata": {
  "kernelspec": {
   "display_name": "Python 3",
   "language": "python",
   "name": "python3"
  },
  "language_info": {
   "codemirror_mode": {
    "name": "ipython",
    "version": 3
   },
   "file_extension": ".py",
   "mimetype": "text/x-python",
   "name": "python",
   "nbconvert_exporter": "python",
   "pygments_lexer": "ipython3",
   "version": "3.7.1"
  }
 },
 "nbformat": 4,
 "nbformat_minor": 2
}
