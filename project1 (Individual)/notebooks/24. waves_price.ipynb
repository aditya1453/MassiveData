{
 "cells": [
  {
   "cell_type": "markdown",
   "metadata": {},
   "source": [
    "### Masive Data Lab Activities\n",
    "\n",
    "Description : Read and Cleaning Data\n",
    "File        : waves_price.csv \n",
    "Name        : Yudi Aditya"
   ]
  },
  {
   "cell_type": "code",
   "execution_count": 1,
   "metadata": {},
   "outputs": [],
   "source": [
    "import pandas as pd\n",
    "import numpy as np\n",
    "import seaborn as sns\n",
    "import matplotlib.pyplot as plt"
   ]
  },
  {
   "cell_type": "markdown",
   "metadata": {},
   "source": [
    "### Bitcoin Cash Price"
   ]
  },
  {
   "cell_type": "markdown",
   "metadata": {},
   "source": [
    "#### 1. Reading Data"
   ]
  },
  {
   "cell_type": "code",
   "execution_count": 2,
   "metadata": {
    "scrolled": false
   },
   "outputs": [
    {
     "data": {
      "text/html": [
       "<div>\n",
       "<style scoped>\n",
       "    .dataframe tbody tr th:only-of-type {\n",
       "        vertical-align: middle;\n",
       "    }\n",
       "\n",
       "    .dataframe tbody tr th {\n",
       "        vertical-align: top;\n",
       "    }\n",
       "\n",
       "    .dataframe thead th {\n",
       "        text-align: right;\n",
       "    }\n",
       "</style>\n",
       "<table border=\"1\" class=\"dataframe\">\n",
       "  <thead>\n",
       "    <tr style=\"text-align: right;\">\n",
       "      <th></th>\n",
       "      <th>Date</th>\n",
       "      <th>Open</th>\n",
       "      <th>High</th>\n",
       "      <th>Low</th>\n",
       "      <th>Close</th>\n",
       "      <th>Volume</th>\n",
       "      <th>Market Cap</th>\n",
       "    </tr>\n",
       "  </thead>\n",
       "  <tbody>\n",
       "    <tr>\n",
       "      <th>0</th>\n",
       "      <td>2017-09-05</td>\n",
       "      <td>4.68</td>\n",
       "      <td>5.10</td>\n",
       "      <td>4.32</td>\n",
       "      <td>4.98</td>\n",
       "      <td>6,194,560</td>\n",
       "      <td>467,862,000</td>\n",
       "    </tr>\n",
       "    <tr>\n",
       "      <th>1</th>\n",
       "      <td>2017-09-04</td>\n",
       "      <td>5.20</td>\n",
       "      <td>5.21</td>\n",
       "      <td>4.24</td>\n",
       "      <td>4.66</td>\n",
       "      <td>8,324,540</td>\n",
       "      <td>519,570,000</td>\n",
       "    </tr>\n",
       "    <tr>\n",
       "      <th>2</th>\n",
       "      <td>2017-09-03</td>\n",
       "      <td>5.27</td>\n",
       "      <td>5.50</td>\n",
       "      <td>4.99</td>\n",
       "      <td>5.20</td>\n",
       "      <td>5,174,780</td>\n",
       "      <td>526,827,000</td>\n",
       "    </tr>\n",
       "    <tr>\n",
       "      <th>3</th>\n",
       "      <td>2017-09-02</td>\n",
       "      <td>5.78</td>\n",
       "      <td>5.87</td>\n",
       "      <td>5.07</td>\n",
       "      <td>5.23</td>\n",
       "      <td>6,608,910</td>\n",
       "      <td>577,688,000</td>\n",
       "    </tr>\n",
       "    <tr>\n",
       "      <th>4</th>\n",
       "      <td>2017-09-01</td>\n",
       "      <td>5.95</td>\n",
       "      <td>6.10</td>\n",
       "      <td>5.72</td>\n",
       "      <td>5.74</td>\n",
       "      <td>9,556,080</td>\n",
       "      <td>595,498,000</td>\n",
       "    </tr>\n",
       "  </tbody>\n",
       "</table>\n",
       "</div>"
      ],
      "text/plain": [
       "        Date  Open  High   Low  Close     Volume   Market Cap\n",
       "0 2017-09-05  4.68  5.10  4.32   4.98  6,194,560  467,862,000\n",
       "1 2017-09-04  5.20  5.21  4.24   4.66  8,324,540  519,570,000\n",
       "2 2017-09-03  5.27  5.50  4.99   5.20  5,174,780  526,827,000\n",
       "3 2017-09-02  5.78  5.87  5.07   5.23  6,608,910  577,688,000\n",
       "4 2017-09-01  5.95  6.10  5.72   5.74  9,556,080  595,498,000"
      ]
     },
     "execution_count": 2,
     "metadata": {},
     "output_type": "execute_result"
    }
   ],
   "source": [
    "# Read Bitcoin Cash Price\n",
    "df1 = pd.read_csv('../data/raw/cryptocurrencypricehistory/waves_price.csv', parse_dates = ['Date'])\n",
    "df1.head()"
   ]
  },
  {
   "cell_type": "code",
   "execution_count": 3,
   "metadata": {},
   "outputs": [
    {
     "data": {
      "text/plain": [
       "pandas._libs.tslibs.timestamps.Timestamp"
      ]
     },
     "execution_count": 3,
     "metadata": {},
     "output_type": "execute_result"
    }
   ],
   "source": [
    "type(df1.Date[0])"
   ]
  },
  {
   "cell_type": "code",
   "execution_count": 4,
   "metadata": {},
   "outputs": [],
   "source": [
    "# Set Date as it's index\n",
    "df1.set_index('Date', inplace = True )"
   ]
  },
  {
   "cell_type": "code",
   "execution_count": 5,
   "metadata": {
    "scrolled": true
   },
   "outputs": [
    {
     "name": "stdout",
     "output_type": "stream",
     "text": [
      "<class 'pandas.core.frame.DataFrame'>\n",
      "DatetimeIndex: 461 entries, 2017-09-05 to 2016-06-02\n",
      "Data columns (total 6 columns):\n",
      "Open          461 non-null float64\n",
      "High          461 non-null float64\n",
      "Low           461 non-null float64\n",
      "Close         461 non-null float64\n",
      "Volume        461 non-null object\n",
      "Market Cap    461 non-null object\n",
      "dtypes: float64(4), object(2)\n",
      "memory usage: 25.2+ KB\n"
     ]
    }
   ],
   "source": [
    "# Get General Information regarding data frame\n",
    "df1.info()"
   ]
  },
  {
   "cell_type": "markdown",
   "metadata": {},
   "source": [
    "- The data frame has 461 entries and 6 columns. \n",
    "- All columns has 461 elements, probably there's no missing data. To make it sure, We'll see for this\n",
    "- Volume and market cap's data type are an object, it should be number."
   ]
  },
  {
   "cell_type": "code",
   "execution_count": 6,
   "metadata": {},
   "outputs": [
    {
     "data": {
      "text/plain": [
       "Open           0\n",
       "High           0\n",
       "Low            0\n",
       "Close          0\n",
       "Volume         0\n",
       "Market Cap    19\n",
       "dtype: int64"
      ]
     },
     "execution_count": 6,
     "metadata": {},
     "output_type": "execute_result"
    }
   ],
   "source": [
    "# Replace missing data as NaN\n",
    "df1.replace('-', np.nan,inplace=True)\n",
    "# Count missing data\n",
    "df1.isnull().sum()"
   ]
  },
  {
   "cell_type": "markdown",
   "metadata": {},
   "source": [
    "#### 2. Cleaning Data Part (Deal with Wrong Format)"
   ]
  },
  {
   "cell_type": "markdown",
   "metadata": {},
   "source": [
    "Problem :\n",
    "- Some data has different format, therefore Volume recognize as a string, not a number.\n",
    "- There is null data in Market Cap\n",
    "\n",
    "Solution:\n",
    "- Convert to float number\n",
    "- Using interpolation to fill the missing data"
   ]
  },
  {
   "cell_type": "code",
   "execution_count": 12,
   "metadata": {},
   "outputs": [
    {
     "name": "stdout",
     "output_type": "stream",
     "text": [
      "Volume Data Type : <class 'numpy.int64'>\n",
      "Market Cap Data Type : <class 'numpy.float64'>\n"
     ]
    }
   ],
   "source": [
    "print('Volume Data Type :', type(df1.Volume[0]))\n",
    "print('Market Cap Data Type :', type(df1['Market Cap'][0]))"
   ]
  },
  {
   "cell_type": "code",
   "execution_count": 7,
   "metadata": {
    "scrolled": false
   },
   "outputs": [
    {
     "name": "stdout",
     "output_type": "stream",
     "text": [
      "<class 'pandas.core.frame.DataFrame'>\n",
      "DatetimeIndex: 461 entries, 2017-09-05 to 2016-06-02\n",
      "Data columns (total 6 columns):\n",
      "Open          461 non-null float64\n",
      "High          461 non-null float64\n",
      "Low           461 non-null float64\n",
      "Close         461 non-null float64\n",
      "Volume        461 non-null int64\n",
      "Market Cap    442 non-null float64\n",
      "dtypes: float64(5), int64(1)\n",
      "memory usage: 25.2 KB\n"
     ]
    }
   ],
   "source": [
    "#convert data to number\n",
    "def convert_to_number(x):\n",
    "    try:\n",
    "        return int(x.replace(',',''))\n",
    "    except:\n",
    "        return x\n",
    "\n",
    "df1.Volume = df1.Volume.apply(convert_to_number)\n",
    "df1['Market Cap'] = df1['Market Cap'].apply(convert_to_number)\n",
    "\n",
    "df1.info()"
   ]
  },
  {
   "cell_type": "code",
   "execution_count": 8,
   "metadata": {
    "scrolled": true
   },
   "outputs": [
    {
     "data": {
      "text/html": [
       "<div>\n",
       "<style scoped>\n",
       "    .dataframe tbody tr th:only-of-type {\n",
       "        vertical-align: middle;\n",
       "    }\n",
       "\n",
       "    .dataframe tbody tr th {\n",
       "        vertical-align: top;\n",
       "    }\n",
       "\n",
       "    .dataframe thead th {\n",
       "        text-align: right;\n",
       "    }\n",
       "</style>\n",
       "<table border=\"1\" class=\"dataframe\">\n",
       "  <thead>\n",
       "    <tr style=\"text-align: right;\">\n",
       "      <th></th>\n",
       "      <th>Open</th>\n",
       "      <th>High</th>\n",
       "      <th>Low</th>\n",
       "      <th>Close</th>\n",
       "      <th>Volume</th>\n",
       "      <th>Market Cap</th>\n",
       "    </tr>\n",
       "  </thead>\n",
       "  <tbody>\n",
       "    <tr>\n",
       "      <th>count</th>\n",
       "      <td>461.000000</td>\n",
       "      <td>461.000000</td>\n",
       "      <td>461.000000</td>\n",
       "      <td>461.000000</td>\n",
       "      <td>4.610000e+02</td>\n",
       "      <td>4.420000e+02</td>\n",
       "    </tr>\n",
       "    <tr>\n",
       "      <th>mean</th>\n",
       "      <td>1.230215</td>\n",
       "      <td>1.325607</td>\n",
       "      <td>1.139349</td>\n",
       "      <td>1.236654</td>\n",
       "      <td>1.029869e+06</td>\n",
       "      <td>1.239107e+08</td>\n",
       "    </tr>\n",
       "    <tr>\n",
       "      <th>std</th>\n",
       "      <td>1.736739</td>\n",
       "      <td>1.855163</td>\n",
       "      <td>1.612736</td>\n",
       "      <td>1.743821</td>\n",
       "      <td>1.865055e+06</td>\n",
       "      <td>1.772387e+08</td>\n",
       "    </tr>\n",
       "    <tr>\n",
       "      <th>min</th>\n",
       "      <td>0.127527</td>\n",
       "      <td>0.151516</td>\n",
       "      <td>0.122684</td>\n",
       "      <td>0.127242</td>\n",
       "      <td>4.912000e+03</td>\n",
       "      <td>1.275270e+07</td>\n",
       "    </tr>\n",
       "    <tr>\n",
       "      <th>25%</th>\n",
       "      <td>0.209567</td>\n",
       "      <td>0.218997</td>\n",
       "      <td>0.195051</td>\n",
       "      <td>0.209126</td>\n",
       "      <td>5.223200e+04</td>\n",
       "      <td>2.059290e+07</td>\n",
       "    </tr>\n",
       "    <tr>\n",
       "      <th>50%</th>\n",
       "      <td>0.263923</td>\n",
       "      <td>0.282579</td>\n",
       "      <td>0.245773</td>\n",
       "      <td>0.262370</td>\n",
       "      <td>1.543750e+05</td>\n",
       "      <td>2.517550e+07</td>\n",
       "    </tr>\n",
       "    <tr>\n",
       "      <th>75%</th>\n",
       "      <td>1.330000</td>\n",
       "      <td>1.600000</td>\n",
       "      <td>1.190000</td>\n",
       "      <td>1.370000</td>\n",
       "      <td>1.225380e+06</td>\n",
       "      <td>1.386978e+08</td>\n",
       "    </tr>\n",
       "    <tr>\n",
       "      <th>max</th>\n",
       "      <td>6.340000</td>\n",
       "      <td>7.010000</td>\n",
       "      <td>5.740000</td>\n",
       "      <td>6.340000</td>\n",
       "      <td>1.012410e+07</td>\n",
       "      <td>6.344690e+08</td>\n",
       "    </tr>\n",
       "  </tbody>\n",
       "</table>\n",
       "</div>"
      ],
      "text/plain": [
       "             Open        High         Low       Close        Volume  \\\n",
       "count  461.000000  461.000000  461.000000  461.000000  4.610000e+02   \n",
       "mean     1.230215    1.325607    1.139349    1.236654  1.029869e+06   \n",
       "std      1.736739    1.855163    1.612736    1.743821  1.865055e+06   \n",
       "min      0.127527    0.151516    0.122684    0.127242  4.912000e+03   \n",
       "25%      0.209567    0.218997    0.195051    0.209126  5.223200e+04   \n",
       "50%      0.263923    0.282579    0.245773    0.262370  1.543750e+05   \n",
       "75%      1.330000    1.600000    1.190000    1.370000  1.225380e+06   \n",
       "max      6.340000    7.010000    5.740000    6.340000  1.012410e+07   \n",
       "\n",
       "         Market Cap  \n",
       "count  4.420000e+02  \n",
       "mean   1.239107e+08  \n",
       "std    1.772387e+08  \n",
       "min    1.275270e+07  \n",
       "25%    2.059290e+07  \n",
       "50%    2.517550e+07  \n",
       "75%    1.386978e+08  \n",
       "max    6.344690e+08  "
      ]
     },
     "execution_count": 8,
     "metadata": {},
     "output_type": "execute_result"
    }
   ],
   "source": [
    "df1.describe()"
   ]
  },
  {
   "cell_type": "markdown",
   "metadata": {},
   "source": [
    "#### 3. Cleaning Data 2 (Deal with Missing Data)"
   ]
  },
  {
   "cell_type": "code",
   "execution_count": 9,
   "metadata": {
    "scrolled": true
   },
   "outputs": [
    {
     "data": {
      "text/plain": [
       "Open           0\n",
       "High           0\n",
       "Low            0\n",
       "Close          0\n",
       "Volume         0\n",
       "Market Cap    19\n",
       "dtype: int64"
      ]
     },
     "execution_count": 9,
     "metadata": {},
     "output_type": "execute_result"
    }
   ],
   "source": [
    "df1.isna().sum()"
   ]
  },
  {
   "cell_type": "code",
   "execution_count": 10,
   "metadata": {
    "scrolled": false
   },
   "outputs": [
    {
     "data": {
      "text/html": [
       "<div>\n",
       "<style scoped>\n",
       "    .dataframe tbody tr th:only-of-type {\n",
       "        vertical-align: middle;\n",
       "    }\n",
       "\n",
       "    .dataframe tbody tr th {\n",
       "        vertical-align: top;\n",
       "    }\n",
       "\n",
       "    .dataframe thead th {\n",
       "        text-align: right;\n",
       "    }\n",
       "</style>\n",
       "<table border=\"1\" class=\"dataframe\">\n",
       "  <thead>\n",
       "    <tr style=\"text-align: right;\">\n",
       "      <th></th>\n",
       "      <th>Open</th>\n",
       "      <th>High</th>\n",
       "      <th>Low</th>\n",
       "      <th>Close</th>\n",
       "      <th>Volume</th>\n",
       "      <th>Market Cap</th>\n",
       "    </tr>\n",
       "    <tr>\n",
       "      <th>Date</th>\n",
       "      <th></th>\n",
       "      <th></th>\n",
       "      <th></th>\n",
       "      <th></th>\n",
       "      <th></th>\n",
       "      <th></th>\n",
       "    </tr>\n",
       "  </thead>\n",
       "  <tbody>\n",
       "    <tr>\n",
       "      <th>2016-06-25</th>\n",
       "      <td>0.193498</td>\n",
       "      <td>0.243791</td>\n",
       "      <td>0.189895</td>\n",
       "      <td>0.201881</td>\n",
       "      <td>412951</td>\n",
       "      <td>19349800.0</td>\n",
       "    </tr>\n",
       "    <tr>\n",
       "      <th>2016-06-24</th>\n",
       "      <td>0.199983</td>\n",
       "      <td>0.218997</td>\n",
       "      <td>0.180431</td>\n",
       "      <td>0.195036</td>\n",
       "      <td>715427</td>\n",
       "      <td>19998300.0</td>\n",
       "    </tr>\n",
       "    <tr>\n",
       "      <th>2016-06-23</th>\n",
       "      <td>0.191379</td>\n",
       "      <td>0.205271</td>\n",
       "      <td>0.172964</td>\n",
       "      <td>0.199471</td>\n",
       "      <td>530030</td>\n",
       "      <td>19137900.0</td>\n",
       "    </tr>\n",
       "    <tr>\n",
       "      <th>2016-06-22</th>\n",
       "      <td>0.230252</td>\n",
       "      <td>0.234911</td>\n",
       "      <td>0.176512</td>\n",
       "      <td>0.188528</td>\n",
       "      <td>878411</td>\n",
       "      <td>23025200.0</td>\n",
       "    </tr>\n",
       "    <tr>\n",
       "      <th>2016-06-21</th>\n",
       "      <td>0.289209</td>\n",
       "      <td>0.292218</td>\n",
       "      <td>0.217718</td>\n",
       "      <td>0.230596</td>\n",
       "      <td>626728</td>\n",
       "      <td>28920900.0</td>\n",
       "    </tr>\n",
       "  </tbody>\n",
       "</table>\n",
       "</div>"
      ],
      "text/plain": [
       "                Open      High       Low     Close  Volume  Market Cap\n",
       "Date                                                                  \n",
       "2016-06-25  0.193498  0.243791  0.189895  0.201881  412951  19349800.0\n",
       "2016-06-24  0.199983  0.218997  0.180431  0.195036  715427  19998300.0\n",
       "2016-06-23  0.191379  0.205271  0.172964  0.199471  530030  19137900.0\n",
       "2016-06-22  0.230252  0.234911  0.176512  0.188528  878411  23025200.0\n",
       "2016-06-21  0.289209  0.292218  0.217718  0.230596  626728  28920900.0"
      ]
     },
     "execution_count": 10,
     "metadata": {},
     "output_type": "execute_result"
    }
   ],
   "source": [
    "#new_df is the data with non NaN value\n",
    "new_df = df1[np.isfinite(df1['Market Cap'])]\n",
    "new_df.tail()"
   ]
  },
  {
   "cell_type": "code",
   "execution_count": 11,
   "metadata": {},
   "outputs": [
    {
     "data": {
      "text/html": [
       "<div>\n",
       "<style scoped>\n",
       "    .dataframe tbody tr th:only-of-type {\n",
       "        vertical-align: middle;\n",
       "    }\n",
       "\n",
       "    .dataframe tbody tr th {\n",
       "        vertical-align: top;\n",
       "    }\n",
       "\n",
       "    .dataframe thead th {\n",
       "        text-align: right;\n",
       "    }\n",
       "</style>\n",
       "<table border=\"1\" class=\"dataframe\">\n",
       "  <thead>\n",
       "    <tr style=\"text-align: right;\">\n",
       "      <th></th>\n",
       "      <th>Open</th>\n",
       "      <th>High</th>\n",
       "      <th>Low</th>\n",
       "      <th>Close</th>\n",
       "      <th>Volume</th>\n",
       "      <th>Market Cap</th>\n",
       "    </tr>\n",
       "  </thead>\n",
       "  <tbody>\n",
       "    <tr>\n",
       "      <th>Open</th>\n",
       "      <td>1.000000</td>\n",
       "      <td>0.996381</td>\n",
       "      <td>0.997007</td>\n",
       "      <td>0.994176</td>\n",
       "      <td>0.872792</td>\n",
       "      <td>1.000000</td>\n",
       "    </tr>\n",
       "    <tr>\n",
       "      <th>High</th>\n",
       "      <td>0.996381</td>\n",
       "      <td>1.000000</td>\n",
       "      <td>0.996415</td>\n",
       "      <td>0.997731</td>\n",
       "      <td>0.883921</td>\n",
       "      <td>0.996380</td>\n",
       "    </tr>\n",
       "    <tr>\n",
       "      <th>Low</th>\n",
       "      <td>0.997007</td>\n",
       "      <td>0.996415</td>\n",
       "      <td>1.000000</td>\n",
       "      <td>0.997374</td>\n",
       "      <td>0.875170</td>\n",
       "      <td>0.997012</td>\n",
       "    </tr>\n",
       "    <tr>\n",
       "      <th>Close</th>\n",
       "      <td>0.994176</td>\n",
       "      <td>0.997731</td>\n",
       "      <td>0.997374</td>\n",
       "      <td>1.000000</td>\n",
       "      <td>0.881557</td>\n",
       "      <td>0.994182</td>\n",
       "    </tr>\n",
       "    <tr>\n",
       "      <th>Volume</th>\n",
       "      <td>0.872792</td>\n",
       "      <td>0.883921</td>\n",
       "      <td>0.875170</td>\n",
       "      <td>0.881557</td>\n",
       "      <td>1.000000</td>\n",
       "      <td>0.872833</td>\n",
       "    </tr>\n",
       "    <tr>\n",
       "      <th>Market Cap</th>\n",
       "      <td>1.000000</td>\n",
       "      <td>0.996380</td>\n",
       "      <td>0.997012</td>\n",
       "      <td>0.994182</td>\n",
       "      <td>0.872833</td>\n",
       "      <td>1.000000</td>\n",
       "    </tr>\n",
       "  </tbody>\n",
       "</table>\n",
       "</div>"
      ],
      "text/plain": [
       "                Open      High       Low     Close    Volume  Market Cap\n",
       "Open        1.000000  0.996381  0.997007  0.994176  0.872792    1.000000\n",
       "High        0.996381  1.000000  0.996415  0.997731  0.883921    0.996380\n",
       "Low         0.997007  0.996415  1.000000  0.997374  0.875170    0.997012\n",
       "Close       0.994176  0.997731  0.997374  1.000000  0.881557    0.994182\n",
       "Volume      0.872792  0.883921  0.875170  0.881557  1.000000    0.872833\n",
       "Market Cap  1.000000  0.996380  0.997012  0.994182  0.872833    1.000000"
      ]
     },
     "execution_count": 11,
     "metadata": {},
     "output_type": "execute_result"
    }
   ],
   "source": [
    "# Lets see the correlation between each column\n",
    "correlation = new_df.corr(method=\"pearson\")\n",
    "correlation"
   ]
  },
  {
   "cell_type": "markdown",
   "metadata": {},
   "source": [
    "In the data frame above, we can inferred that Market Cap has a perfect relationship with Open"
   ]
  },
  {
   "cell_type": "markdown",
   "metadata": {},
   "source": [
    "Let's plot data between Market Cap and other variable, then see the relation between the data"
   ]
  },
  {
   "cell_type": "code",
   "execution_count": 13,
   "metadata": {
    "scrolled": true
   },
   "outputs": [
    {
     "data": {
      "image/png": "[encoded data removed]",
      "text/plain": [
       "<Figure size 432x288 with 5 Axes>"
      ]
     },
     "metadata": {
      "needs_background": "light"
     },
     "output_type": "display_data"
    }
   ],
   "source": [
    "import matplotlib.pyplot as plt\n",
    "def plot_data(xdata,ydata,xlabel):\n",
    "    plt.scatter(xdata,ydata,marker='+',color='red')\n",
    "    plt.ylabel('Market Cap')\n",
    "    plt.xlabel(xlabel)\n",
    "        \n",
    "plt.subplot(2,3,1)\n",
    "plot_data(new_df.Open, new_df['Market Cap'],'Open')\n",
    "plt.subplot(2,3,2)\n",
    "plot_data(new_df.Close, new_df['Market Cap'],'Close')\n",
    "plt.subplot(2,3,3)\n",
    "plot_data(new_df.High, new_df['Market Cap'],'High')\n",
    "plt.subplot(2,3,4)\n",
    "plot_data(new_df.Low, new_df['Market Cap'],'Low')\n",
    "plt.subplot(2,3,5)\n",
    "plot_data(new_df.Volume, new_df['Market Cap'],'Volume')"
   ]
  },
  {
   "cell_type": "code",
   "execution_count": 14,
   "metadata": {},
   "outputs": [],
   "source": [
    "from sklearn import linear_model\n",
    "\n",
    "model    = linear_model.LinearRegression()\n",
    "x        = new_df[['Open']]\n",
    "y        = new_df['Market Cap']"
   ]
  },
  {
   "cell_type": "code",
   "execution_count": 15,
   "metadata": {
    "scrolled": true
   },
   "outputs": [
    {
     "data": {
      "text/plain": [
       "LinearRegression(copy_X=True, fit_intercept=True, n_jobs=None,\n",
       "         normalize=False)"
      ]
     },
     "execution_count": 15,
     "metadata": {},
     "output_type": "execute_result"
    }
   ],
   "source": [
    "# train data using linear regression \n",
    "model.fit(x, y)"
   ]
  },
  {
   "cell_type": "code",
   "execution_count": 16,
   "metadata": {},
   "outputs": [
    {
     "data": {
      "text/plain": [
       "0.9999992512939394"
      ]
     },
     "execution_count": 16,
     "metadata": {},
     "output_type": "execute_result"
    }
   ],
   "source": [
    "# Model Score\n",
    "model.score(x, y)"
   ]
  },
  {
   "cell_type": "code",
   "execution_count": 17,
   "metadata": {},
   "outputs": [
    {
     "data": {
      "text/html": [
       "<div>\n",
       "<style scoped>\n",
       "    .dataframe tbody tr th:only-of-type {\n",
       "        vertical-align: middle;\n",
       "    }\n",
       "\n",
       "    .dataframe tbody tr th {\n",
       "        vertical-align: top;\n",
       "    }\n",
       "\n",
       "    .dataframe thead th {\n",
       "        text-align: right;\n",
       "    }\n",
       "</style>\n",
       "<table border=\"1\" class=\"dataframe\">\n",
       "  <thead>\n",
       "    <tr style=\"text-align: right;\">\n",
       "      <th></th>\n",
       "      <th>Open</th>\n",
       "      <th>High</th>\n",
       "      <th>Low</th>\n",
       "      <th>Close</th>\n",
       "      <th>Volume</th>\n",
       "      <th>Market Cap</th>\n",
       "      <th>Market Cap Predict</th>\n",
       "    </tr>\n",
       "    <tr>\n",
       "      <th>Date</th>\n",
       "      <th></th>\n",
       "      <th></th>\n",
       "      <th></th>\n",
       "      <th></th>\n",
       "      <th></th>\n",
       "      <th></th>\n",
       "      <th></th>\n",
       "    </tr>\n",
       "  </thead>\n",
       "  <tbody>\n",
       "    <tr>\n",
       "      <th>2016-06-20</th>\n",
       "      <td>0.604243</td>\n",
       "      <td>0.604243</td>\n",
       "      <td>0.227050</td>\n",
       "      <td>0.289737</td>\n",
       "      <td>1771960</td>\n",
       "      <td>NaN</td>\n",
       "      <td>60426903</td>\n",
       "    </tr>\n",
       "    <tr>\n",
       "      <th>2016-06-19</th>\n",
       "      <td>0.665885</td>\n",
       "      <td>0.745494</td>\n",
       "      <td>0.456124</td>\n",
       "      <td>0.603760</td>\n",
       "      <td>112349</td>\n",
       "      <td>NaN</td>\n",
       "      <td>66591710</td>\n",
       "    </tr>\n",
       "    <tr>\n",
       "      <th>2016-06-18</th>\n",
       "      <td>0.898507</td>\n",
       "      <td>1.100000</td>\n",
       "      <td>0.309397</td>\n",
       "      <td>0.665480</td>\n",
       "      <td>173575</td>\n",
       "      <td>NaN</td>\n",
       "      <td>89856199</td>\n",
       "    </tr>\n",
       "    <tr>\n",
       "      <th>2016-06-17</th>\n",
       "      <td>0.930645</td>\n",
       "      <td>1.000000</td>\n",
       "      <td>0.787590</td>\n",
       "      <td>0.899224</td>\n",
       "      <td>42058</td>\n",
       "      <td>NaN</td>\n",
       "      <td>93070315</td>\n",
       "    </tr>\n",
       "    <tr>\n",
       "      <th>2016-06-16</th>\n",
       "      <td>0.956326</td>\n",
       "      <td>1.180000</td>\n",
       "      <td>0.927815</td>\n",
       "      <td>0.928007</td>\n",
       "      <td>43879</td>\n",
       "      <td>NaN</td>\n",
       "      <td>95638668</td>\n",
       "    </tr>\n",
       "  </tbody>\n",
       "</table>\n",
       "</div>"
      ],
      "text/plain": [
       "                Open      High       Low     Close   Volume  Market Cap  \\\n",
       "Date                                                                      \n",
       "2016-06-20  0.604243  0.604243  0.227050  0.289737  1771960         NaN   \n",
       "2016-06-19  0.665885  0.745494  0.456124  0.603760   112349         NaN   \n",
       "2016-06-18  0.898507  1.100000  0.309397  0.665480   173575         NaN   \n",
       "2016-06-17  0.930645  1.000000  0.787590  0.899224    42058         NaN   \n",
       "2016-06-16  0.956326  1.180000  0.927815  0.928007    43879         NaN   \n",
       "\n",
       "            Market Cap Predict  \n",
       "Date                            \n",
       "2016-06-20            60426903  \n",
       "2016-06-19            66591710  \n",
       "2016-06-18            89856199  \n",
       "2016-06-17            93070315  \n",
       "2016-06-16            95638668  "
      ]
     },
     "execution_count": 17,
     "metadata": {},
     "output_type": "execute_result"
    }
   ],
   "source": [
    "# Fill Missing Data Using linear model prediction \n",
    "# and Assign it to new column\n",
    "x = df1[['Open']]\n",
    "y = model.predict(x) \n",
    "df1['Market Cap Predict'] = y.astype('int64')\n",
    "df1[df1['Market Cap'].isnull()].head()"
   ]
  },
  {
   "cell_type": "markdown",
   "metadata": {},
   "source": [
    "#### 4. Data Visualization"
   ]
  },
  {
   "cell_type": "code",
   "execution_count": 18,
   "metadata": {
    "scrolled": true
   },
   "outputs": [
    {
     "data": {
      "text/plain": [
       "<matplotlib.axes._subplots.AxesSubplot at 0x7f7944d31470>"
      ]
     },
     "execution_count": 18,
     "metadata": {},
     "output_type": "execute_result"
    },
    {
     "data": {
      "image/png": "[encoded data removed]",
      "text/plain": [
       "<Figure size 432x288 with 6 Axes>"
      ]
     },
     "metadata": {
      "needs_background": "light"
     },
     "output_type": "display_data"
    }
   ],
   "source": [
    "# Visualization the average of Open based on time (Week)\n",
    "%matplotlib inline\n",
    "    \n",
    "plt.subplot(2,3,1)\n",
    "plt.ylabel('Open')\n",
    "df1.Open.resample('W').mean().plot()\n",
    "\n",
    "plt.subplot(2,3,2)\n",
    "plt.ylabel('High')\n",
    "df1.High.resample('W').mean().plot()\n",
    "\n",
    "plt.subplot(2,3,3)\n",
    "plt.ylabel('Low')\n",
    "df1.Low.resample('W').mean().plot()\n",
    "\n",
    "plt.subplot(2,3,4)\n",
    "plt.ylabel('Close')\n",
    "df1.Close.resample('W').mean().plot()\n",
    "\n",
    "plt.subplot(2,3,5)\n",
    "plt.ylabel('Volume')\n",
    "df1['Volume'].resample('W').mean().plot()\n",
    "\n",
    "plt.subplot(2,3,6)\n",
    "plt.ylabel('Market Cap Predict')\n",
    "df1['Market Cap Predict'].resample('W').mean().plot()"
   ]
  },
  {
   "cell_type": "code",
   "execution_count": null,
   "metadata": {},
   "outputs": [],
   "source": []
  }
 ],
 "metadata": {
  "kernelspec": {
   "display_name": "Python 3",
   "language": "python",
   "name": "python3"
  },
  "language_info": {
   "codemirror_mode": {
    "name": "ipython",
    "version": 3
   },
   "file_extension": ".py",
   "mimetype": "text/x-python",
   "name": "python",
   "nbconvert_exporter": "python",
   "pygments_lexer": "ipython3",
   "version": "3.7.1"
  }
 },
 "nbformat": 4,
 "nbformat_minor": 2
}
