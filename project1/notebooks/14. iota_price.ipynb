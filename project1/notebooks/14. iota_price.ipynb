{
 "cells": [
  {
   "cell_type": "markdown",
   "metadata": {},
   "source": [
    "### Masive Data Lab Activities\n",
    "\n",
    "Description : Read and Cleaning Data\n",
    "File        : iota_price.csv \n",
    "Name        : Yudi Aditya"
   ]
  },
  {
   "cell_type": "code",
   "execution_count": 6,
   "metadata": {},
   "outputs": [],
   "source": [
    "import pandas as pd\n",
    "import numpy as np\n",
    "import seaborn as sns\n",
    "import matplotlib.pyplot as plt"
   ]
  },
  {
   "cell_type": "markdown",
   "metadata": {},
   "source": [
    "### Bitcoin Cash Price"
   ]
  },
  {
   "cell_type": "markdown",
   "metadata": {},
   "source": [
    "#### 1. Reading Data"
   ]
  },
  {
   "cell_type": "code",
   "execution_count": 7,
   "metadata": {
    "scrolled": false
   },
   "outputs": [
    {
     "data": {
      "text/html": [
       "<div>\n",
       "<style scoped>\n",
       "    .dataframe tbody tr th:only-of-type {\n",
       "        vertical-align: middle;\n",
       "    }\n",
       "\n",
       "    .dataframe tbody tr th {\n",
       "        vertical-align: top;\n",
       "    }\n",
       "\n",
       "    .dataframe thead th {\n",
       "        text-align: right;\n",
       "    }\n",
       "</style>\n",
       "<table border=\"1\" class=\"dataframe\">\n",
       "  <thead>\n",
       "    <tr style=\"text-align: right;\">\n",
       "      <th></th>\n",
       "      <th>Date</th>\n",
       "      <th>Open</th>\n",
       "      <th>High</th>\n",
       "      <th>Low</th>\n",
       "      <th>Close</th>\n",
       "      <th>Volume</th>\n",
       "      <th>Market Cap</th>\n",
       "    </tr>\n",
       "  </thead>\n",
       "  <tbody>\n",
       "    <tr>\n",
       "      <th>0</th>\n",
       "      <td>2017-09-05</td>\n",
       "      <td>0.544132</td>\n",
       "      <td>0.646085</td>\n",
       "      <td>0.468949</td>\n",
       "      <td>0.613085</td>\n",
       "      <td>45,817,500</td>\n",
       "      <td>1,512,430,000</td>\n",
       "    </tr>\n",
       "    <tr>\n",
       "      <th>1</th>\n",
       "      <td>2017-09-04</td>\n",
       "      <td>0.744257</td>\n",
       "      <td>0.744257</td>\n",
       "      <td>0.406795</td>\n",
       "      <td>0.566472</td>\n",
       "      <td>74,601,300</td>\n",
       "      <td>2,068,680,000</td>\n",
       "    </tr>\n",
       "    <tr>\n",
       "      <th>2</th>\n",
       "      <td>2017-09-03</td>\n",
       "      <td>0.698855</td>\n",
       "      <td>0.775863</td>\n",
       "      <td>0.672850</td>\n",
       "      <td>0.743968</td>\n",
       "      <td>29,504,600</td>\n",
       "      <td>1,942,490,000</td>\n",
       "    </tr>\n",
       "    <tr>\n",
       "      <th>3</th>\n",
       "      <td>2017-09-02</td>\n",
       "      <td>0.796560</td>\n",
       "      <td>0.802464</td>\n",
       "      <td>0.658006</td>\n",
       "      <td>0.695547</td>\n",
       "      <td>39,333,900</td>\n",
       "      <td>2,214,060,000</td>\n",
       "    </tr>\n",
       "    <tr>\n",
       "      <th>4</th>\n",
       "      <td>2017-09-01</td>\n",
       "      <td>0.842867</td>\n",
       "      <td>0.879100</td>\n",
       "      <td>0.768119</td>\n",
       "      <td>0.807778</td>\n",
       "      <td>28,047,000</td>\n",
       "      <td>2,342,770,000</td>\n",
       "    </tr>\n",
       "  </tbody>\n",
       "</table>\n",
       "</div>"
      ],
      "text/plain": [
       "        Date      Open      High       Low     Close      Volume  \\\n",
       "0 2017-09-05  0.544132  0.646085  0.468949  0.613085  45,817,500   \n",
       "1 2017-09-04  0.744257  0.744257  0.406795  0.566472  74,601,300   \n",
       "2 2017-09-03  0.698855  0.775863  0.672850  0.743968  29,504,600   \n",
       "3 2017-09-02  0.796560  0.802464  0.658006  0.695547  39,333,900   \n",
       "4 2017-09-01  0.842867  0.879100  0.768119  0.807778  28,047,000   \n",
       "\n",
       "      Market Cap  \n",
       "0  1,512,430,000  \n",
       "1  2,068,680,000  \n",
       "2  1,942,490,000  \n",
       "3  2,214,060,000  \n",
       "4  2,342,770,000  "
      ]
     },
     "execution_count": 7,
     "metadata": {},
     "output_type": "execute_result"
    }
   ],
   "source": [
    "# Read Bitcoin Cash Price\n",
    "df1 = pd.read_csv('../data/raw/cryptocurrencypricehistory/iota_price.csv', parse_dates = ['Date'])\n",
    "df1.head()"
   ]
  },
  {
   "cell_type": "code",
   "execution_count": 3,
   "metadata": {},
   "outputs": [
    {
     "data": {
      "text/plain": [
       "pandas._libs.tslibs.timestamps.Timestamp"
      ]
     },
     "execution_count": 3,
     "metadata": {},
     "output_type": "execute_result"
    }
   ],
   "source": [
    "type(df1.Date[0])"
   ]
  },
  {
   "cell_type": "code",
   "execution_count": 8,
   "metadata": {},
   "outputs": [],
   "source": [
    "# Set Date as it's index\n",
    "df1.set_index('Date', inplace = True )"
   ]
  },
  {
   "cell_type": "code",
   "execution_count": 9,
   "metadata": {
    "scrolled": true
   },
   "outputs": [
    {
     "name": "stdout",
     "output_type": "stream",
     "text": [
      "<class 'pandas.core.frame.DataFrame'>\n",
      "DatetimeIndex: 85 entries, 2017-09-05 to 2017-06-13\n",
      "Data columns (total 6 columns):\n",
      "Open          85 non-null float64\n",
      "High          85 non-null float64\n",
      "Low           85 non-null float64\n",
      "Close         85 non-null float64\n",
      "Volume        85 non-null object\n",
      "Market Cap    85 non-null object\n",
      "dtypes: float64(4), object(2)\n",
      "memory usage: 4.6+ KB\n"
     ]
    }
   ],
   "source": [
    "# Get General Information regarding data frame\n",
    "df1.info()"
   ]
  },
  {
   "cell_type": "markdown",
   "metadata": {},
   "source": [
    "- The data frame has 85 entries and 6 columns. \n",
    "- All columns has 85 elements, probably there's no missing data. Especially for Open, high, Low, and Close. To make it sure, We'll see for this\n",
    "- Volume and Market Cap's data type are an object, it should be number."
   ]
  },
  {
   "cell_type": "code",
   "execution_count": 10,
   "metadata": {},
   "outputs": [
    {
     "data": {
      "text/plain": [
       "Open          0\n",
       "High          0\n",
       "Low           0\n",
       "Close         0\n",
       "Volume        0\n",
       "Market Cap    0\n",
       "dtype: int64"
      ]
     },
     "execution_count": 10,
     "metadata": {},
     "output_type": "execute_result"
    }
   ],
   "source": [
    "# Replace missing data as NaN\n",
    "df1.replace('-', np.nan,inplace=True)\n",
    "# Count missing data\n",
    "df1.isnull().sum()"
   ]
  },
  {
   "cell_type": "markdown",
   "metadata": {},
   "source": [
    "#### 2. Cleaning Data Part (Deal with Wrong Format)"
   ]
  },
  {
   "cell_type": "markdown",
   "metadata": {},
   "source": [
    "Problem :\n",
    "- Some data has different format, therefore Volume and Market Cap recognize as a string, not a number.\n",
    "\n",
    "Solution:\n",
    "- Convert to float number"
   ]
  },
  {
   "cell_type": "code",
   "execution_count": 11,
   "metadata": {},
   "outputs": [
    {
     "name": "stdout",
     "output_type": "stream",
     "text": [
      "Volume Data Type : <class 'str'>\n",
      "Market Cap Data Type : <class 'str'>\n"
     ]
    }
   ],
   "source": [
    "print('Volume Data Type :', type(df1.Volume[0]))\n",
    "print('Market Cap Data Type :', type(df1['Market Cap'][0]))"
   ]
  },
  {
   "cell_type": "code",
   "execution_count": 12,
   "metadata": {
    "scrolled": false
   },
   "outputs": [
    {
     "name": "stdout",
     "output_type": "stream",
     "text": [
      "<class 'pandas.core.frame.DataFrame'>\n",
      "DatetimeIndex: 85 entries, 2017-09-05 to 2017-06-13\n",
      "Data columns (total 6 columns):\n",
      "Open          85 non-null float64\n",
      "High          85 non-null float64\n",
      "Low           85 non-null float64\n",
      "Close         85 non-null float64\n",
      "Volume        85 non-null int64\n",
      "Market Cap    85 non-null int64\n",
      "dtypes: float64(4), int64(2)\n",
      "memory usage: 7.1 KB\n"
     ]
    }
   ],
   "source": [
    "#convert data to number\n",
    "def convert_to_number(x):\n",
    "    try:\n",
    "        return int(x.replace(',',''))\n",
    "    except:\n",
    "        return x\n",
    "\n",
    "df1.Volume = df1.Volume.apply(convert_to_number)\n",
    "df1['Market Cap'] = df1['Market Cap'].apply(convert_to_number)\n",
    "\n",
    "df1.info()"
   ]
  },
  {
   "cell_type": "code",
   "execution_count": 13,
   "metadata": {
    "scrolled": true
   },
   "outputs": [
    {
     "data": {
      "text/html": [
       "<div>\n",
       "<style scoped>\n",
       "    .dataframe tbody tr th:only-of-type {\n",
       "        vertical-align: middle;\n",
       "    }\n",
       "\n",
       "    .dataframe tbody tr th {\n",
       "        vertical-align: top;\n",
       "    }\n",
       "\n",
       "    .dataframe thead th {\n",
       "        text-align: right;\n",
       "    }\n",
       "</style>\n",
       "<table border=\"1\" class=\"dataframe\">\n",
       "  <thead>\n",
       "    <tr style=\"text-align: right;\">\n",
       "      <th></th>\n",
       "      <th>Open</th>\n",
       "      <th>High</th>\n",
       "      <th>Low</th>\n",
       "      <th>Close</th>\n",
       "      <th>Volume</th>\n",
       "      <th>Market Cap</th>\n",
       "    </tr>\n",
       "  </thead>\n",
       "  <tbody>\n",
       "    <tr>\n",
       "      <th>count</th>\n",
       "      <td>85.000000</td>\n",
       "      <td>85.000000</td>\n",
       "      <td>85.000000</td>\n",
       "      <td>85.000000</td>\n",
       "      <td>8.500000e+01</td>\n",
       "      <td>8.500000e+01</td>\n",
       "    </tr>\n",
       "    <tr>\n",
       "      <th>mean</th>\n",
       "      <td>0.501695</td>\n",
       "      <td>0.537700</td>\n",
       "      <td>0.455827</td>\n",
       "      <td>0.502194</td>\n",
       "      <td>1.589207e+07</td>\n",
       "      <td>1.394773e+09</td>\n",
       "    </tr>\n",
       "    <tr>\n",
       "      <th>std</th>\n",
       "      <td>0.254753</td>\n",
       "      <td>0.267625</td>\n",
       "      <td>0.232656</td>\n",
       "      <td>0.256240</td>\n",
       "      <td>1.749176e+07</td>\n",
       "      <td>7.087087e+08</td>\n",
       "    </tr>\n",
       "    <tr>\n",
       "      <th>min</th>\n",
       "      <td>0.157961</td>\n",
       "      <td>0.176099</td>\n",
       "      <td>0.147933</td>\n",
       "      <td>0.158688</td>\n",
       "      <td>2.334640e+06</td>\n",
       "      <td>4.390570e+08</td>\n",
       "    </tr>\n",
       "    <tr>\n",
       "      <th>25%</th>\n",
       "      <td>0.286164</td>\n",
       "      <td>0.304476</td>\n",
       "      <td>0.262736</td>\n",
       "      <td>0.284565</td>\n",
       "      <td>3.913220e+06</td>\n",
       "      <td>7.954020e+08</td>\n",
       "    </tr>\n",
       "    <tr>\n",
       "      <th>50%</th>\n",
       "      <td>0.413371</td>\n",
       "      <td>0.437340</td>\n",
       "      <td>0.388231</td>\n",
       "      <td>0.410757</td>\n",
       "      <td>8.233640e+06</td>\n",
       "      <td>1.148980e+09</td>\n",
       "    </tr>\n",
       "    <tr>\n",
       "      <th>75%</th>\n",
       "      <td>0.722169</td>\n",
       "      <td>0.775863</td>\n",
       "      <td>0.658006</td>\n",
       "      <td>0.721535</td>\n",
       "      <td>2.035800e+07</td>\n",
       "      <td>2.007290e+09</td>\n",
       "    </tr>\n",
       "    <tr>\n",
       "      <th>max</th>\n",
       "      <td>1.040000</td>\n",
       "      <td>1.100000</td>\n",
       "      <td>0.998241</td>\n",
       "      <td>1.050000</td>\n",
       "      <td>8.469830e+07</td>\n",
       "      <td>2.904020e+09</td>\n",
       "    </tr>\n",
       "  </tbody>\n",
       "</table>\n",
       "</div>"
      ],
      "text/plain": [
       "            Open       High        Low      Close        Volume    Market Cap\n",
       "count  85.000000  85.000000  85.000000  85.000000  8.500000e+01  8.500000e+01\n",
       "mean    0.501695   0.537700   0.455827   0.502194  1.589207e+07  1.394773e+09\n",
       "std     0.254753   0.267625   0.232656   0.256240  1.749176e+07  7.087087e+08\n",
       "min     0.157961   0.176099   0.147933   0.158688  2.334640e+06  4.390570e+08\n",
       "25%     0.286164   0.304476   0.262736   0.284565  3.913220e+06  7.954020e+08\n",
       "50%     0.413371   0.437340   0.388231   0.410757  8.233640e+06  1.148980e+09\n",
       "75%     0.722169   0.775863   0.658006   0.721535  2.035800e+07  2.007290e+09\n",
       "max     1.040000   1.100000   0.998241   1.050000  8.469830e+07  2.904020e+09"
      ]
     },
     "execution_count": 13,
     "metadata": {},
     "output_type": "execute_result"
    }
   ],
   "source": [
    "df1.describe()"
   ]
  },
  {
   "cell_type": "markdown",
   "metadata": {},
   "source": [
    "#### 3. Data Visualization"
   ]
  },
  {
   "cell_type": "code",
   "execution_count": 15,
   "metadata": {
    "scrolled": true
   },
   "outputs": [
    {
     "data": {
      "text/plain": [
       "<matplotlib.axes._subplots.AxesSubplot at 0x7f10ae2ff208>"
      ]
     },
     "execution_count": 15,
     "metadata": {},
     "output_type": "execute_result"
    },
    {
     "data": {
      "image/png": "[encoded data removed]",
      "text/plain": [
       "<Figure size 432x288 with 6 Axes>"
      ]
     },
     "metadata": {
      "needs_background": "light"
     },
     "output_type": "display_data"
    }
   ],
   "source": [
    "# Visualization the average of Open based on time (Week)\n",
    "%matplotlib inline\n",
    "    \n",
    "plt.subplot(2,3,1)\n",
    "plt.ylabel('Open')\n",
    "df1.Open.resample('W').mean().plot()\n",
    "\n",
    "plt.subplot(2,3,2)\n",
    "plt.ylabel('High')\n",
    "df1.High.resample('W').mean().plot()\n",
    "\n",
    "plt.subplot(2,3,3)\n",
    "plt.ylabel('Low')\n",
    "df1.Low.resample('W').mean().plot()\n",
    "\n",
    "plt.subplot(2,3,4)\n",
    "plt.ylabel('Close')\n",
    "df1.Close.resample('W').mean().plot()\n",
    "\n",
    "plt.subplot(2,3,5)\n",
    "plt.ylabel('Volume')\n",
    "df1.Volume.resample('W').mean().plot()\n",
    "\n",
    "plt.subplot(2,3,6)\n",
    "plt.ylabel('Market Cap')\n",
    "df1['Market Cap'].resample('W').mean().plot()"
   ]
  },
  {
   "cell_type": "code",
   "execution_count": null,
   "metadata": {},
   "outputs": [],
   "source": []
  }
 ],
 "metadata": {
  "kernelspec": {
   "display_name": "Python 3",
   "language": "python",
   "name": "python3"
  },
  "language_info": {
   "codemirror_mode": {
    "name": "ipython",
    "version": 3
   },
   "file_extension": ".py",
   "mimetype": "text/x-python",
   "name": "python",
   "nbconvert_exporter": "python",
   "pygments_lexer": "ipython3",
   "version": "3.7.1"
  }
 },
 "nbformat": 4,
 "nbformat_minor": 2
}
