{
 "cells": [
  {
   "cell_type": "markdown",
   "metadata": {},
   "source": [
    "### Masive Data Lab Activities\n",
    "\n",
    "Description : Read and Cleaning Data\n",
    "File        : monero_price.csv \n",
    "Name        : Yudi Aditya"
   ]
  },
  {
   "cell_type": "code",
   "execution_count": 2,
   "metadata": {},
   "outputs": [],
   "source": [
    "import pandas as pd\n",
    "import numpy as np\n",
    "import seaborn as sns\n",
    "import matplotlib.pyplot as plt"
   ]
  },
  {
   "cell_type": "markdown",
   "metadata": {},
   "source": [
    "### Bitcoin Cash Price"
   ]
  },
  {
   "cell_type": "markdown",
   "metadata": {},
   "source": [
    "#### 1. Reading Data"
   ]
  },
  {
   "cell_type": "code",
   "execution_count": 3,
   "metadata": {
    "scrolled": false
   },
   "outputs": [
    {
     "data": {
      "text/html": [
       "<div>\n",
       "<style scoped>\n",
       "    .dataframe tbody tr th:only-of-type {\n",
       "        vertical-align: middle;\n",
       "    }\n",
       "\n",
       "    .dataframe tbody tr th {\n",
       "        vertical-align: top;\n",
       "    }\n",
       "\n",
       "    .dataframe thead th {\n",
       "        text-align: right;\n",
       "    }\n",
       "</style>\n",
       "<table border=\"1\" class=\"dataframe\">\n",
       "  <thead>\n",
       "    <tr style=\"text-align: right;\">\n",
       "      <th></th>\n",
       "      <th>Date</th>\n",
       "      <th>Open</th>\n",
       "      <th>High</th>\n",
       "      <th>Low</th>\n",
       "      <th>Close</th>\n",
       "      <th>Volume</th>\n",
       "      <th>Market Cap</th>\n",
       "    </tr>\n",
       "  </thead>\n",
       "  <tbody>\n",
       "    <tr>\n",
       "      <th>0</th>\n",
       "      <td>2017-09-05</td>\n",
       "      <td>106.75</td>\n",
       "      <td>122.63</td>\n",
       "      <td>95.81</td>\n",
       "      <td>118.82</td>\n",
       "      <td>113378000</td>\n",
       "      <td>1605070000</td>\n",
       "    </tr>\n",
       "    <tr>\n",
       "      <th>1</th>\n",
       "      <td>2017-09-04</td>\n",
       "      <td>126.23</td>\n",
       "      <td>126.23</td>\n",
       "      <td>101.73</td>\n",
       "      <td>106.17</td>\n",
       "      <td>89194700</td>\n",
       "      <td>1897480000</td>\n",
       "    </tr>\n",
       "    <tr>\n",
       "      <th>2</th>\n",
       "      <td>2017-09-03</td>\n",
       "      <td>124.93</td>\n",
       "      <td>129.29</td>\n",
       "      <td>115.74</td>\n",
       "      <td>126.01</td>\n",
       "      <td>92631100</td>\n",
       "      <td>1877380000</td>\n",
       "    </tr>\n",
       "    <tr>\n",
       "      <th>3</th>\n",
       "      <td>2017-09-02</td>\n",
       "      <td>141.35</td>\n",
       "      <td>141.40</td>\n",
       "      <td>121.96</td>\n",
       "      <td>124.80</td>\n",
       "      <td>128849000</td>\n",
       "      <td>2123430000</td>\n",
       "    </tr>\n",
       "    <tr>\n",
       "      <th>4</th>\n",
       "      <td>2017-09-01</td>\n",
       "      <td>140.65</td>\n",
       "      <td>150.09</td>\n",
       "      <td>136.49</td>\n",
       "      <td>141.20</td>\n",
       "      <td>163961000</td>\n",
       "      <td>2112260000</td>\n",
       "    </tr>\n",
       "  </tbody>\n",
       "</table>\n",
       "</div>"
      ],
      "text/plain": [
       "        Date    Open    High     Low   Close     Volume  Market Cap\n",
       "0 2017-09-05  106.75  122.63   95.81  118.82  113378000  1605070000\n",
       "1 2017-09-04  126.23  126.23  101.73  106.17   89194700  1897480000\n",
       "2 2017-09-03  124.93  129.29  115.74  126.01   92631100  1877380000\n",
       "3 2017-09-02  141.35  141.40  121.96  124.80  128849000  2123430000\n",
       "4 2017-09-01  140.65  150.09  136.49  141.20  163961000  2112260000"
      ]
     },
     "execution_count": 3,
     "metadata": {},
     "output_type": "execute_result"
    }
   ],
   "source": [
    "# Read Bitcoin Cash Price\n",
    "df1 = pd.read_csv('../data/raw/cryptocurrencypricehistory/monero_price.csv', parse_dates = ['Date'])\n",
    "df1.head()"
   ]
  },
  {
   "cell_type": "code",
   "execution_count": 4,
   "metadata": {},
   "outputs": [
    {
     "data": {
      "text/plain": [
       "pandas._libs.tslibs.timestamps.Timestamp"
      ]
     },
     "execution_count": 4,
     "metadata": {},
     "output_type": "execute_result"
    }
   ],
   "source": [
    "type(df1.Date[0])"
   ]
  },
  {
   "cell_type": "code",
   "execution_count": 5,
   "metadata": {},
   "outputs": [],
   "source": [
    "# Set Date as it's index\n",
    "df1.set_index('Date', inplace = True )"
   ]
  },
  {
   "cell_type": "code",
   "execution_count": 6,
   "metadata": {
    "scrolled": true
   },
   "outputs": [
    {
     "name": "stdout",
     "output_type": "stream",
     "text": [
      "<class 'pandas.core.frame.DataFrame'>\n",
      "DatetimeIndex: 1203 entries, 2017-09-05 to 2014-05-21\n",
      "Data columns (total 6 columns):\n",
      "Open          1203 non-null float64\n",
      "High          1203 non-null float64\n",
      "Low           1203 non-null float64\n",
      "Close         1203 non-null float64\n",
      "Volume        1203 non-null int64\n",
      "Market Cap    1203 non-null int64\n",
      "dtypes: float64(4), int64(2)\n",
      "memory usage: 65.8 KB\n"
     ]
    }
   ],
   "source": [
    "# Get General Information regarding data frame\n",
    "df1.info()"
   ]
  },
  {
   "cell_type": "markdown",
   "metadata": {},
   "source": [
    "- The data frame has 1203 entries and 6 columns. \n",
    "- All columns has 1203 elements and all in number format."
   ]
  },
  {
   "cell_type": "code",
   "execution_count": 7,
   "metadata": {},
   "outputs": [
    {
     "data": {
      "text/plain": [
       "Open          0\n",
       "High          0\n",
       "Low           0\n",
       "Close         0\n",
       "Volume        0\n",
       "Market Cap    0\n",
       "dtype: int64"
      ]
     },
     "execution_count": 7,
     "metadata": {},
     "output_type": "execute_result"
    }
   ],
   "source": [
    "# Count missing data\n",
    "df1.isnull().sum()"
   ]
  },
  {
   "cell_type": "code",
   "execution_count": 8,
   "metadata": {
    "scrolled": false
   },
   "outputs": [
    {
     "data": {
      "text/html": [
       "<div>\n",
       "<style scoped>\n",
       "    .dataframe tbody tr th:only-of-type {\n",
       "        vertical-align: middle;\n",
       "    }\n",
       "\n",
       "    .dataframe tbody tr th {\n",
       "        vertical-align: top;\n",
       "    }\n",
       "\n",
       "    .dataframe thead th {\n",
       "        text-align: right;\n",
       "    }\n",
       "</style>\n",
       "<table border=\"1\" class=\"dataframe\">\n",
       "  <thead>\n",
       "    <tr style=\"text-align: right;\">\n",
       "      <th></th>\n",
       "      <th>Open</th>\n",
       "      <th>High</th>\n",
       "      <th>Low</th>\n",
       "      <th>Close</th>\n",
       "      <th>Volume</th>\n",
       "      <th>Market Cap</th>\n",
       "    </tr>\n",
       "  </thead>\n",
       "  <tbody>\n",
       "    <tr>\n",
       "      <th>count</th>\n",
       "      <td>1203.000000</td>\n",
       "      <td>1203.000000</td>\n",
       "      <td>1203.000000</td>\n",
       "      <td>1203.000000</td>\n",
       "      <td>1.203000e+03</td>\n",
       "      <td>1.203000e+03</td>\n",
       "    </tr>\n",
       "    <tr>\n",
       "      <th>mean</th>\n",
       "      <td>8.569395</td>\n",
       "      <td>9.154209</td>\n",
       "      <td>8.106735</td>\n",
       "      <td>8.663258</td>\n",
       "      <td>4.844432e+06</td>\n",
       "      <td>1.189434e+08</td>\n",
       "    </tr>\n",
       "    <tr>\n",
       "      <th>std</th>\n",
       "      <td>17.749751</td>\n",
       "      <td>19.112540</td>\n",
       "      <td>16.622019</td>\n",
       "      <td>18.029172</td>\n",
       "      <td>1.831849e+07</td>\n",
       "      <td>2.655690e+08</td>\n",
       "    </tr>\n",
       "    <tr>\n",
       "      <th>min</th>\n",
       "      <td>0.220121</td>\n",
       "      <td>0.251757</td>\n",
       "      <td>0.212967</td>\n",
       "      <td>0.223522</td>\n",
       "      <td>7.900000e+03</td>\n",
       "      <td>1.260140e+06</td>\n",
       "    </tr>\n",
       "    <tr>\n",
       "      <th>25%</th>\n",
       "      <td>0.509520</td>\n",
       "      <td>0.538536</td>\n",
       "      <td>0.492051</td>\n",
       "      <td>0.507895</td>\n",
       "      <td>3.570800e+04</td>\n",
       "      <td>4.203825e+06</td>\n",
       "    </tr>\n",
       "    <tr>\n",
       "      <th>50%</th>\n",
       "      <td>1.240000</td>\n",
       "      <td>1.340000</td>\n",
       "      <td>1.140000</td>\n",
       "      <td>1.240000</td>\n",
       "      <td>1.324030e+05</td>\n",
       "      <td>6.374590e+06</td>\n",
       "    </tr>\n",
       "    <tr>\n",
       "      <th>75%</th>\n",
       "      <td>8.280000</td>\n",
       "      <td>8.555000</td>\n",
       "      <td>7.840000</td>\n",
       "      <td>8.290000</td>\n",
       "      <td>3.031370e+06</td>\n",
       "      <td>1.090735e+08</td>\n",
       "    </tr>\n",
       "    <tr>\n",
       "      <th>max</th>\n",
       "      <td>144.240000</td>\n",
       "      <td>154.580000</td>\n",
       "      <td>136.490000</td>\n",
       "      <td>145.400000</td>\n",
       "      <td>3.018430e+08</td>\n",
       "      <td>2.163850e+09</td>\n",
       "    </tr>\n",
       "  </tbody>\n",
       "</table>\n",
       "</div>"
      ],
      "text/plain": [
       "              Open         High          Low        Close        Volume  \\\n",
       "count  1203.000000  1203.000000  1203.000000  1203.000000  1.203000e+03   \n",
       "mean      8.569395     9.154209     8.106735     8.663258  4.844432e+06   \n",
       "std      17.749751    19.112540    16.622019    18.029172  1.831849e+07   \n",
       "min       0.220121     0.251757     0.212967     0.223522  7.900000e+03   \n",
       "25%       0.509520     0.538536     0.492051     0.507895  3.570800e+04   \n",
       "50%       1.240000     1.340000     1.140000     1.240000  1.324030e+05   \n",
       "75%       8.280000     8.555000     7.840000     8.290000  3.031370e+06   \n",
       "max     144.240000   154.580000   136.490000   145.400000  3.018430e+08   \n",
       "\n",
       "         Market Cap  \n",
       "count  1.203000e+03  \n",
       "mean   1.189434e+08  \n",
       "std    2.655690e+08  \n",
       "min    1.260140e+06  \n",
       "25%    4.203825e+06  \n",
       "50%    6.374590e+06  \n",
       "75%    1.090735e+08  \n",
       "max    2.163850e+09  "
      ]
     },
     "execution_count": 8,
     "metadata": {},
     "output_type": "execute_result"
    }
   ],
   "source": [
    "df1.describe()"
   ]
  },
  {
   "cell_type": "markdown",
   "metadata": {},
   "source": [
    "All data is clear. "
   ]
  },
  {
   "cell_type": "markdown",
   "metadata": {},
   "source": [
    "#### 2. Data Visualization"
   ]
  },
  {
   "cell_type": "code",
   "execution_count": 10,
   "metadata": {
    "scrolled": true
   },
   "outputs": [
    {
     "data": {
      "text/plain": [
       "<matplotlib.axes._subplots.AxesSubplot at 0x7f4210b21198>"
      ]
     },
     "execution_count": 10,
     "metadata": {},
     "output_type": "execute_result"
    },
    {
     "data": {
      "image/png": "[encoded data removed]",
      "text/plain": [
       "<Figure size 432x288 with 6 Axes>"
      ]
     },
     "metadata": {
      "needs_background": "light"
     },
     "output_type": "display_data"
    }
   ],
   "source": [
    "# Visualization the average of Open based on time (Week)\n",
    "%matplotlib inline\n",
    "    \n",
    "plt.subplot(2,3,1)\n",
    "plt.ylabel('Open')\n",
    "df1.Open.resample('W').mean().plot()\n",
    "\n",
    "plt.subplot(2,3,2)\n",
    "plt.ylabel('High')\n",
    "df1.High.resample('W').mean().plot()\n",
    "\n",
    "plt.subplot(2,3,3)\n",
    "plt.ylabel('Low')\n",
    "df1.Low.resample('W').mean().plot()\n",
    "\n",
    "plt.subplot(2,3,4)\n",
    "plt.ylabel('Close')\n",
    "df1.Close.resample('W').mean().plot()\n",
    "\n",
    "plt.subplot(2,3,5)\n",
    "plt.ylabel('Volume')\n",
    "df1['Volume'].resample('W').mean().plot()\n",
    "\n",
    "plt.subplot(2,3,6)\n",
    "plt.ylabel('Market Cap')\n",
    "df1['Market Cap'].resample('W').mean().plot()"
   ]
  },
  {
   "cell_type": "code",
   "execution_count": null,
   "metadata": {},
   "outputs": [],
   "source": []
  }
 ],
 "metadata": {
  "kernelspec": {
   "display_name": "Python 3",
   "language": "python",
   "name": "python3"
  },
  "language_info": {
   "codemirror_mode": {
    "name": "ipython",
    "version": 3
   },
   "file_extension": ".py",
   "mimetype": "text/x-python",
   "name": "python",
   "nbconvert_exporter": "python",
   "pygments_lexer": "ipython3",
   "version": "3.7.1"
  }
 },
 "nbformat": 4,
 "nbformat_minor": 2
}
