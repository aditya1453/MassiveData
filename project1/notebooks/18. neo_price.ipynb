{
 "cells": [
  {
   "cell_type": "markdown",
   "metadata": {},
   "source": [
    "### Masive Data Lab Activities\n",
    "\n",
    "Description : Read and Cleaning Data\n",
    "File        : neo_price.csv \n",
    "Name        : Yudi Aditya"
   ]
  },
  {
   "cell_type": "code",
   "execution_count": 1,
   "metadata": {},
   "outputs": [],
   "source": [
    "import pandas as pd\n",
    "import numpy as np\n",
    "import seaborn as sns\n",
    "import matplotlib.pyplot as plt"
   ]
  },
  {
   "cell_type": "markdown",
   "metadata": {},
   "source": [
    "### Bitcoin Cash Price"
   ]
  },
  {
   "cell_type": "markdown",
   "metadata": {},
   "source": [
    "#### 1. Reading Data"
   ]
  },
  {
   "cell_type": "code",
   "execution_count": 2,
   "metadata": {
    "scrolled": false
   },
   "outputs": [
    {
     "data": {
      "text/html": [
       "<div>\n",
       "<style scoped>\n",
       "    .dataframe tbody tr th:only-of-type {\n",
       "        vertical-align: middle;\n",
       "    }\n",
       "\n",
       "    .dataframe tbody tr th {\n",
       "        vertical-align: top;\n",
       "    }\n",
       "\n",
       "    .dataframe thead th {\n",
       "        text-align: right;\n",
       "    }\n",
       "</style>\n",
       "<table border=\"1\" class=\"dataframe\">\n",
       "  <thead>\n",
       "    <tr style=\"text-align: right;\">\n",
       "      <th></th>\n",
       "      <th>Date</th>\n",
       "      <th>Open</th>\n",
       "      <th>High</th>\n",
       "      <th>Low</th>\n",
       "      <th>Close</th>\n",
       "      <th>Volume</th>\n",
       "      <th>Market Cap</th>\n",
       "    </tr>\n",
       "  </thead>\n",
       "  <tbody>\n",
       "    <tr>\n",
       "      <th>0</th>\n",
       "      <td>2017-09-05</td>\n",
       "      <td>21.88</td>\n",
       "      <td>23.85</td>\n",
       "      <td>18.93</td>\n",
       "      <td>22.80</td>\n",
       "      <td>91,402,300</td>\n",
       "      <td>1,093,860,000</td>\n",
       "    </tr>\n",
       "    <tr>\n",
       "      <th>1</th>\n",
       "      <td>2017-09-04</td>\n",
       "      <td>30.44</td>\n",
       "      <td>30.44</td>\n",
       "      <td>17.40</td>\n",
       "      <td>21.83</td>\n",
       "      <td>189,917,000</td>\n",
       "      <td>1,522,090,000</td>\n",
       "    </tr>\n",
       "    <tr>\n",
       "      <th>2</th>\n",
       "      <td>2017-09-03</td>\n",
       "      <td>31.77</td>\n",
       "      <td>32.65</td>\n",
       "      <td>28.58</td>\n",
       "      <td>30.32</td>\n",
       "      <td>43,232,300</td>\n",
       "      <td>1,588,690,000</td>\n",
       "    </tr>\n",
       "    <tr>\n",
       "      <th>3</th>\n",
       "      <td>2017-09-02</td>\n",
       "      <td>31.69</td>\n",
       "      <td>34.81</td>\n",
       "      <td>28.55</td>\n",
       "      <td>31.72</td>\n",
       "      <td>92,722,600</td>\n",
       "      <td>1,584,390,000</td>\n",
       "    </tr>\n",
       "    <tr>\n",
       "      <th>4</th>\n",
       "      <td>2017-09-01</td>\n",
       "      <td>33.17</td>\n",
       "      <td>33.57</td>\n",
       "      <td>28.87</td>\n",
       "      <td>32.01</td>\n",
       "      <td>75,418,900</td>\n",
       "      <td>1,658,680,000</td>\n",
       "    </tr>\n",
       "  </tbody>\n",
       "</table>\n",
       "</div>"
      ],
      "text/plain": [
       "        Date   Open   High    Low  Close       Volume     Market Cap\n",
       "0 2017-09-05  21.88  23.85  18.93  22.80   91,402,300  1,093,860,000\n",
       "1 2017-09-04  30.44  30.44  17.40  21.83  189,917,000  1,522,090,000\n",
       "2 2017-09-03  31.77  32.65  28.58  30.32   43,232,300  1,588,690,000\n",
       "3 2017-09-02  31.69  34.81  28.55  31.72   92,722,600  1,584,390,000\n",
       "4 2017-09-01  33.17  33.57  28.87  32.01   75,418,900  1,658,680,000"
      ]
     },
     "execution_count": 2,
     "metadata": {},
     "output_type": "execute_result"
    }
   ],
   "source": [
    "# Read Bitcoin Cash Price\n",
    "df1 = pd.read_csv('../data/raw/cryptocurrencypricehistory/neo_price.csv', parse_dates = ['Date'])\n",
    "df1.head()"
   ]
  },
  {
   "cell_type": "code",
   "execution_count": 3,
   "metadata": {},
   "outputs": [
    {
     "data": {
      "text/plain": [
       "pandas._libs.tslibs.timestamps.Timestamp"
      ]
     },
     "execution_count": 3,
     "metadata": {},
     "output_type": "execute_result"
    }
   ],
   "source": [
    "type(df1.Date[0])"
   ]
  },
  {
   "cell_type": "code",
   "execution_count": 4,
   "metadata": {},
   "outputs": [],
   "source": [
    "# Set Date as it's index\n",
    "df1.set_index('Date', inplace = True )"
   ]
  },
  {
   "cell_type": "code",
   "execution_count": 5,
   "metadata": {
    "scrolled": true
   },
   "outputs": [
    {
     "name": "stdout",
     "output_type": "stream",
     "text": [
      "<class 'pandas.core.frame.DataFrame'>\n",
      "DatetimeIndex: 362 entries, 2017-09-05 to 2016-09-09\n",
      "Data columns (total 6 columns):\n",
      "Open          362 non-null float64\n",
      "High          362 non-null float64\n",
      "Low           362 non-null float64\n",
      "Close         362 non-null float64\n",
      "Volume        362 non-null object\n",
      "Market Cap    362 non-null object\n",
      "dtypes: float64(4), object(2)\n",
      "memory usage: 19.8+ KB\n"
     ]
    }
   ],
   "source": [
    "# Get General Information regarding data frame\n",
    "df1.info()"
   ]
  },
  {
   "cell_type": "markdown",
   "metadata": {},
   "source": [
    "- The data frame has 362 entries and 6 columns. \n",
    "- All columns has 362 elements, probably there's no missing data. To make it sure, We'll see for this\n",
    "- Volume and market cap's data type are an object, it should be number."
   ]
  },
  {
   "cell_type": "code",
   "execution_count": 6,
   "metadata": {},
   "outputs": [
    {
     "data": {
      "text/plain": [
       "Open           0\n",
       "High           0\n",
       "Low            0\n",
       "Close          0\n",
       "Volume         0\n",
       "Market Cap    47\n",
       "dtype: int64"
      ]
     },
     "execution_count": 6,
     "metadata": {},
     "output_type": "execute_result"
    }
   ],
   "source": [
    "# Replace missing data as NaN\n",
    "df1.replace('-', np.nan,inplace=True)\n",
    "# Count missing data\n",
    "df1.isnull().sum()"
   ]
  },
  {
   "cell_type": "markdown",
   "metadata": {},
   "source": [
    "#### 2. Cleaning Data Part (Deal with Wrong Format)"
   ]
  },
  {
   "cell_type": "markdown",
   "metadata": {},
   "source": [
    "Problem :\n",
    "- Some data has different format, therefore Volume recognize as a string, not a number.\n",
    "- There is null data in Market Cap\n",
    "\n",
    "Solution:\n",
    "- Convert to float number\n",
    "- Using interpolation to fill the missing data"
   ]
  },
  {
   "cell_type": "code",
   "execution_count": 7,
   "metadata": {},
   "outputs": [
    {
     "name": "stdout",
     "output_type": "stream",
     "text": [
      "Volume Data Type : <class 'str'>\n",
      "Market Cap Data Type : <class 'str'>\n"
     ]
    }
   ],
   "source": [
    "print('Volume Data Type :', type(df1.Volume[0]))\n",
    "print('Market Cap Data Type :', type(df1['Market Cap'][0]))"
   ]
  },
  {
   "cell_type": "code",
   "execution_count": 8,
   "metadata": {
    "scrolled": false
   },
   "outputs": [
    {
     "name": "stdout",
     "output_type": "stream",
     "text": [
      "<class 'pandas.core.frame.DataFrame'>\n",
      "DatetimeIndex: 362 entries, 2017-09-05 to 2016-09-09\n",
      "Data columns (total 6 columns):\n",
      "Open          362 non-null float64\n",
      "High          362 non-null float64\n",
      "Low           362 non-null float64\n",
      "Close         362 non-null float64\n",
      "Volume        362 non-null int64\n",
      "Market Cap    315 non-null float64\n",
      "dtypes: float64(5), int64(1)\n",
      "memory usage: 29.8 KB\n"
     ]
    }
   ],
   "source": [
    "#convert data to number\n",
    "def convert_to_number(x):\n",
    "    try:\n",
    "        return int(x.replace(',',''))\n",
    "    except:\n",
    "        return x\n",
    "\n",
    "df1.Volume = df1.Volume.apply(convert_to_number)\n",
    "df1['Market Cap'] = df1['Market Cap'].apply(convert_to_number)\n",
    "\n",
    "df1.info()"
   ]
  },
  {
   "cell_type": "code",
   "execution_count": 9,
   "metadata": {
    "scrolled": true
   },
   "outputs": [
    {
     "data": {
      "text/html": [
       "<div>\n",
       "<style scoped>\n",
       "    .dataframe tbody tr th:only-of-type {\n",
       "        vertical-align: middle;\n",
       "    }\n",
       "\n",
       "    .dataframe tbody tr th {\n",
       "        vertical-align: top;\n",
       "    }\n",
       "\n",
       "    .dataframe thead th {\n",
       "        text-align: right;\n",
       "    }\n",
       "</style>\n",
       "<table border=\"1\" class=\"dataframe\">\n",
       "  <thead>\n",
       "    <tr style=\"text-align: right;\">\n",
       "      <th></th>\n",
       "      <th>Open</th>\n",
       "      <th>High</th>\n",
       "      <th>Low</th>\n",
       "      <th>Close</th>\n",
       "      <th>Volume</th>\n",
       "      <th>Market Cap</th>\n",
       "    </tr>\n",
       "  </thead>\n",
       "  <tbody>\n",
       "    <tr>\n",
       "      <th>count</th>\n",
       "      <td>362.000000</td>\n",
       "      <td>362.000000</td>\n",
       "      <td>362.000000</td>\n",
       "      <td>362.000000</td>\n",
       "      <td>3.620000e+02</td>\n",
       "      <td>3.150000e+02</td>\n",
       "    </tr>\n",
       "    <tr>\n",
       "      <th>mean</th>\n",
       "      <td>4.172486</td>\n",
       "      <td>4.562649</td>\n",
       "      <td>3.760576</td>\n",
       "      <td>4.233630</td>\n",
       "      <td>1.910023e+07</td>\n",
       "      <td>2.380155e+08</td>\n",
       "    </tr>\n",
       "    <tr>\n",
       "      <th>std</th>\n",
       "      <td>9.946756</td>\n",
       "      <td>10.752224</td>\n",
       "      <td>8.971467</td>\n",
       "      <td>9.990614</td>\n",
       "      <td>5.516568e+07</td>\n",
       "      <td>5.269704e+08</td>\n",
       "    </tr>\n",
       "    <tr>\n",
       "      <th>min</th>\n",
       "      <td>0.080197</td>\n",
       "      <td>0.085211</td>\n",
       "      <td>0.072287</td>\n",
       "      <td>0.080181</td>\n",
       "      <td>1.560000e+02</td>\n",
       "      <td>5.292100e+06</td>\n",
       "    </tr>\n",
       "    <tr>\n",
       "      <th>25%</th>\n",
       "      <td>0.139660</td>\n",
       "      <td>0.146120</td>\n",
       "      <td>0.132966</td>\n",
       "      <td>0.139955</td>\n",
       "      <td>2.075275e+04</td>\n",
       "      <td>6.824825e+06</td>\n",
       "    </tr>\n",
       "    <tr>\n",
       "      <th>50%</th>\n",
       "      <td>0.189495</td>\n",
       "      <td>0.196152</td>\n",
       "      <td>0.179913</td>\n",
       "      <td>0.189814</td>\n",
       "      <td>1.633035e+05</td>\n",
       "      <td>9.234250e+06</td>\n",
       "    </tr>\n",
       "    <tr>\n",
       "      <th>75%</th>\n",
       "      <td>1.355000</td>\n",
       "      <td>1.542500</td>\n",
       "      <td>1.242500</td>\n",
       "      <td>1.357500</td>\n",
       "      <td>7.408840e+06</td>\n",
       "      <td>2.205580e+08</td>\n",
       "    </tr>\n",
       "    <tr>\n",
       "      <th>max</th>\n",
       "      <td>47.630000</td>\n",
       "      <td>52.630000</td>\n",
       "      <td>44.790000</td>\n",
       "      <td>47.490000</td>\n",
       "      <td>4.486540e+08</td>\n",
       "      <td>2.381360e+09</td>\n",
       "    </tr>\n",
       "  </tbody>\n",
       "</table>\n",
       "</div>"
      ],
      "text/plain": [
       "             Open        High         Low       Close        Volume  \\\n",
       "count  362.000000  362.000000  362.000000  362.000000  3.620000e+02   \n",
       "mean     4.172486    4.562649    3.760576    4.233630  1.910023e+07   \n",
       "std      9.946756   10.752224    8.971467    9.990614  5.516568e+07   \n",
       "min      0.080197    0.085211    0.072287    0.080181  1.560000e+02   \n",
       "25%      0.139660    0.146120    0.132966    0.139955  2.075275e+04   \n",
       "50%      0.189495    0.196152    0.179913    0.189814  1.633035e+05   \n",
       "75%      1.355000    1.542500    1.242500    1.357500  7.408840e+06   \n",
       "max     47.630000   52.630000   44.790000   47.490000  4.486540e+08   \n",
       "\n",
       "         Market Cap  \n",
       "count  3.150000e+02  \n",
       "mean   2.380155e+08  \n",
       "std    5.269704e+08  \n",
       "min    5.292100e+06  \n",
       "25%    6.824825e+06  \n",
       "50%    9.234250e+06  \n",
       "75%    2.205580e+08  \n",
       "max    2.381360e+09  "
      ]
     },
     "execution_count": 9,
     "metadata": {},
     "output_type": "execute_result"
    }
   ],
   "source": [
    "df1.describe()"
   ]
  },
  {
   "cell_type": "markdown",
   "metadata": {},
   "source": [
    "#### 3. Cleaning Data 2 (Deal with Missing Data)"
   ]
  },
  {
   "cell_type": "code",
   "execution_count": 10,
   "metadata": {
    "scrolled": true
   },
   "outputs": [
    {
     "data": {
      "text/plain": [
       "Open           0\n",
       "High           0\n",
       "Low            0\n",
       "Close          0\n",
       "Volume         0\n",
       "Market Cap    47\n",
       "dtype: int64"
      ]
     },
     "execution_count": 10,
     "metadata": {},
     "output_type": "execute_result"
    }
   ],
   "source": [
    "df1.isna().sum()"
   ]
  },
  {
   "cell_type": "code",
   "execution_count": 11,
   "metadata": {
    "scrolled": false
   },
   "outputs": [
    {
     "data": {
      "text/html": [
       "<div>\n",
       "<style scoped>\n",
       "    .dataframe tbody tr th:only-of-type {\n",
       "        vertical-align: middle;\n",
       "    }\n",
       "\n",
       "    .dataframe tbody tr th {\n",
       "        vertical-align: top;\n",
       "    }\n",
       "\n",
       "    .dataframe thead th {\n",
       "        text-align: right;\n",
       "    }\n",
       "</style>\n",
       "<table border=\"1\" class=\"dataframe\">\n",
       "  <thead>\n",
       "    <tr style=\"text-align: right;\">\n",
       "      <th></th>\n",
       "      <th>Open</th>\n",
       "      <th>High</th>\n",
       "      <th>Low</th>\n",
       "      <th>Close</th>\n",
       "      <th>Volume</th>\n",
       "      <th>Market Cap</th>\n",
       "    </tr>\n",
       "    <tr>\n",
       "      <th>Date</th>\n",
       "      <th></th>\n",
       "      <th></th>\n",
       "      <th></th>\n",
       "      <th></th>\n",
       "      <th></th>\n",
       "      <th></th>\n",
       "    </tr>\n",
       "  </thead>\n",
       "  <tbody>\n",
       "    <tr>\n",
       "      <th>2016-10-30</th>\n",
       "      <td>0.172946</td>\n",
       "      <td>0.183820</td>\n",
       "      <td>0.170264</td>\n",
       "      <td>0.181026</td>\n",
       "      <td>377793</td>\n",
       "      <td>8647300.0</td>\n",
       "    </tr>\n",
       "    <tr>\n",
       "      <th>2016-10-29</th>\n",
       "      <td>0.151237</td>\n",
       "      <td>0.176248</td>\n",
       "      <td>0.151237</td>\n",
       "      <td>0.170166</td>\n",
       "      <td>714101</td>\n",
       "      <td>7561850.0</td>\n",
       "    </tr>\n",
       "    <tr>\n",
       "      <th>2016-10-28</th>\n",
       "      <td>0.127447</td>\n",
       "      <td>0.159842</td>\n",
       "      <td>0.123780</td>\n",
       "      <td>0.151552</td>\n",
       "      <td>545958</td>\n",
       "      <td>6372350.0</td>\n",
       "    </tr>\n",
       "    <tr>\n",
       "      <th>2016-10-27</th>\n",
       "      <td>0.129608</td>\n",
       "      <td>0.140409</td>\n",
       "      <td>0.124055</td>\n",
       "      <td>0.127426</td>\n",
       "      <td>169528</td>\n",
       "      <td>6480400.0</td>\n",
       "    </tr>\n",
       "    <tr>\n",
       "      <th>2016-10-26</th>\n",
       "      <td>0.135700</td>\n",
       "      <td>0.169630</td>\n",
       "      <td>0.121312</td>\n",
       "      <td>0.129615</td>\n",
       "      <td>494772</td>\n",
       "      <td>6785000.0</td>\n",
       "    </tr>\n",
       "  </tbody>\n",
       "</table>\n",
       "</div>"
      ],
      "text/plain": [
       "                Open      High       Low     Close  Volume  Market Cap\n",
       "Date                                                                  \n",
       "2016-10-30  0.172946  0.183820  0.170264  0.181026  377793   8647300.0\n",
       "2016-10-29  0.151237  0.176248  0.151237  0.170166  714101   7561850.0\n",
       "2016-10-28  0.127447  0.159842  0.123780  0.151552  545958   6372350.0\n",
       "2016-10-27  0.129608  0.140409  0.124055  0.127426  169528   6480400.0\n",
       "2016-10-26  0.135700  0.169630  0.121312  0.129615  494772   6785000.0"
      ]
     },
     "execution_count": 11,
     "metadata": {},
     "output_type": "execute_result"
    }
   ],
   "source": [
    "#new_df is the data with non NaN value\n",
    "new_df = df1[np.isfinite(df1['Market Cap'])]\n",
    "new_df.tail()"
   ]
  },
  {
   "cell_type": "code",
   "execution_count": 12,
   "metadata": {},
   "outputs": [
    {
     "data": {
      "text/html": [
       "<div>\n",
       "<style scoped>\n",
       "    .dataframe tbody tr th:only-of-type {\n",
       "        vertical-align: middle;\n",
       "    }\n",
       "\n",
       "    .dataframe tbody tr th {\n",
       "        vertical-align: top;\n",
       "    }\n",
       "\n",
       "    .dataframe thead th {\n",
       "        text-align: right;\n",
       "    }\n",
       "</style>\n",
       "<table border=\"1\" class=\"dataframe\">\n",
       "  <thead>\n",
       "    <tr style=\"text-align: right;\">\n",
       "      <th></th>\n",
       "      <th>Open</th>\n",
       "      <th>High</th>\n",
       "      <th>Low</th>\n",
       "      <th>Close</th>\n",
       "      <th>Volume</th>\n",
       "      <th>Market Cap</th>\n",
       "    </tr>\n",
       "  </thead>\n",
       "  <tbody>\n",
       "    <tr>\n",
       "      <th>Open</th>\n",
       "      <td>1.000000</td>\n",
       "      <td>0.992477</td>\n",
       "      <td>0.995023</td>\n",
       "      <td>0.990855</td>\n",
       "      <td>0.747036</td>\n",
       "      <td>1.000000</td>\n",
       "    </tr>\n",
       "    <tr>\n",
       "      <th>High</th>\n",
       "      <td>0.992477</td>\n",
       "      <td>1.000000</td>\n",
       "      <td>0.991783</td>\n",
       "      <td>0.998147</td>\n",
       "      <td>0.798907</td>\n",
       "      <td>0.992478</td>\n",
       "    </tr>\n",
       "    <tr>\n",
       "      <th>Low</th>\n",
       "      <td>0.995023</td>\n",
       "      <td>0.991783</td>\n",
       "      <td>1.000000</td>\n",
       "      <td>0.993623</td>\n",
       "      <td>0.728139</td>\n",
       "      <td>0.995025</td>\n",
       "    </tr>\n",
       "    <tr>\n",
       "      <th>Close</th>\n",
       "      <td>0.990855</td>\n",
       "      <td>0.998147</td>\n",
       "      <td>0.993623</td>\n",
       "      <td>1.000000</td>\n",
       "      <td>0.784274</td>\n",
       "      <td>0.990857</td>\n",
       "    </tr>\n",
       "    <tr>\n",
       "      <th>Volume</th>\n",
       "      <td>0.747036</td>\n",
       "      <td>0.798907</td>\n",
       "      <td>0.728139</td>\n",
       "      <td>0.784274</td>\n",
       "      <td>1.000000</td>\n",
       "      <td>0.747026</td>\n",
       "    </tr>\n",
       "    <tr>\n",
       "      <th>Market Cap</th>\n",
       "      <td>1.000000</td>\n",
       "      <td>0.992478</td>\n",
       "      <td>0.995025</td>\n",
       "      <td>0.990857</td>\n",
       "      <td>0.747026</td>\n",
       "      <td>1.000000</td>\n",
       "    </tr>\n",
       "  </tbody>\n",
       "</table>\n",
       "</div>"
      ],
      "text/plain": [
       "                Open      High       Low     Close    Volume  Market Cap\n",
       "Open        1.000000  0.992477  0.995023  0.990855  0.747036    1.000000\n",
       "High        0.992477  1.000000  0.991783  0.998147  0.798907    0.992478\n",
       "Low         0.995023  0.991783  1.000000  0.993623  0.728139    0.995025\n",
       "Close       0.990855  0.998147  0.993623  1.000000  0.784274    0.990857\n",
       "Volume      0.747036  0.798907  0.728139  0.784274  1.000000    0.747026\n",
       "Market Cap  1.000000  0.992478  0.995025  0.990857  0.747026    1.000000"
      ]
     },
     "execution_count": 12,
     "metadata": {},
     "output_type": "execute_result"
    }
   ],
   "source": [
    "# Lets see the correlation between each column\n",
    "correlation = new_df.corr(method=\"pearson\")\n",
    "correlation"
   ]
  },
  {
   "cell_type": "markdown",
   "metadata": {},
   "source": [
    "In the data frame above, we can inferred that Market Cap has a strong relationship with Low."
   ]
  },
  {
   "cell_type": "markdown",
   "metadata": {},
   "source": [
    "Let's plot data between Market Cap and other variable, then see the relation between the data"
   ]
  },
  {
   "cell_type": "code",
   "execution_count": 13,
   "metadata": {
    "scrolled": true
   },
   "outputs": [
    {
     "data": {
      "image/png": "[encoded data removed]",
      "text/plain": [
       "<Figure size 432x288 with 5 Axes>"
      ]
     },
     "metadata": {
      "needs_background": "light"
     },
     "output_type": "display_data"
    }
   ],
   "source": [
    "import matplotlib.pyplot as plt\n",
    "def plot_data(xdata,ydata,xlabel):\n",
    "    plt.scatter(xdata,ydata,marker='+',color='red')\n",
    "    plt.ylabel('Market Cap')\n",
    "    plt.xlabel(xlabel)\n",
    "        \n",
    "plt.subplot(2,3,1)\n",
    "plot_data(new_df.Open, new_df['Market Cap'],'Open')\n",
    "plt.subplot(2,3,2)\n",
    "plot_data(new_df.Close, new_df['Market Cap'],'Close')\n",
    "plt.subplot(2,3,3)\n",
    "plot_data(new_df.High, new_df['Market Cap'],'High')\n",
    "plt.subplot(2,3,4)\n",
    "plot_data(new_df.Low, new_df['Market Cap'],'Low')\n",
    "plt.subplot(2,3,5)\n",
    "plot_data(new_df.Volume, new_df['Market Cap'],'Volume')"
   ]
  },
  {
   "cell_type": "code",
   "execution_count": 14,
   "metadata": {},
   "outputs": [],
   "source": [
    "from sklearn import linear_model\n",
    "\n",
    "model    = linear_model.LinearRegression()\n",
    "x        = new_df[['Low']]\n",
    "y        = new_df['Market Cap']"
   ]
  },
  {
   "cell_type": "code",
   "execution_count": 15,
   "metadata": {
    "scrolled": true
   },
   "outputs": [
    {
     "data": {
      "text/plain": [
       "LinearRegression(copy_X=True, fit_intercept=True, n_jobs=None,\n",
       "         normalize=False)"
      ]
     },
     "execution_count": 15,
     "metadata": {},
     "output_type": "execute_result"
    }
   ],
   "source": [
    "# train data using linear regression \n",
    "model.fit(x, y)"
   ]
  },
  {
   "cell_type": "code",
   "execution_count": 16,
   "metadata": {},
   "outputs": [
    {
     "data": {
      "text/plain": [
       "0.9900743767935667"
      ]
     },
     "execution_count": 16,
     "metadata": {},
     "output_type": "execute_result"
    }
   ],
   "source": [
    "# Model Score\n",
    "model.score(x, y)"
   ]
  },
  {
   "cell_type": "code",
   "execution_count": 17,
   "metadata": {},
   "outputs": [
    {
     "data": {
      "text/html": [
       "<div>\n",
       "<style scoped>\n",
       "    .dataframe tbody tr th:only-of-type {\n",
       "        vertical-align: middle;\n",
       "    }\n",
       "\n",
       "    .dataframe tbody tr th {\n",
       "        vertical-align: top;\n",
       "    }\n",
       "\n",
       "    .dataframe thead th {\n",
       "        text-align: right;\n",
       "    }\n",
       "</style>\n",
       "<table border=\"1\" class=\"dataframe\">\n",
       "  <thead>\n",
       "    <tr style=\"text-align: right;\">\n",
       "      <th></th>\n",
       "      <th>Open</th>\n",
       "      <th>High</th>\n",
       "      <th>Low</th>\n",
       "      <th>Close</th>\n",
       "      <th>Volume</th>\n",
       "      <th>Market Cap</th>\n",
       "      <th>Market Cap Predict</th>\n",
       "    </tr>\n",
       "    <tr>\n",
       "      <th>Date</th>\n",
       "      <th></th>\n",
       "      <th></th>\n",
       "      <th></th>\n",
       "      <th></th>\n",
       "      <th></th>\n",
       "      <th></th>\n",
       "      <th></th>\n",
       "    </tr>\n",
       "  </thead>\n",
       "  <tbody>\n",
       "    <tr>\n",
       "      <th>2016-10-25</th>\n",
       "      <td>0.093621</td>\n",
       "      <td>0.322439</td>\n",
       "      <td>0.092699</td>\n",
       "      <td>0.135712</td>\n",
       "      <td>365986</td>\n",
       "      <td>NaN</td>\n",
       "      <td>6485487</td>\n",
       "    </tr>\n",
       "    <tr>\n",
       "      <th>2016-10-24</th>\n",
       "      <td>0.081000</td>\n",
       "      <td>0.100103</td>\n",
       "      <td>0.076476</td>\n",
       "      <td>0.093762</td>\n",
       "      <td>522611</td>\n",
       "      <td>NaN</td>\n",
       "      <td>5590641</td>\n",
       "    </tr>\n",
       "    <tr>\n",
       "      <th>2016-10-23</th>\n",
       "      <td>0.081487</td>\n",
       "      <td>0.085211</td>\n",
       "      <td>0.076681</td>\n",
       "      <td>0.082726</td>\n",
       "      <td>107073</td>\n",
       "      <td>NaN</td>\n",
       "      <td>5601948</td>\n",
       "    </tr>\n",
       "    <tr>\n",
       "      <th>2016-10-22</th>\n",
       "      <td>0.080197</td>\n",
       "      <td>0.096001</td>\n",
       "      <td>0.080013</td>\n",
       "      <td>0.081484</td>\n",
       "      <td>293121</td>\n",
       "      <td>NaN</td>\n",
       "      <td>5785739</td>\n",
       "    </tr>\n",
       "    <tr>\n",
       "      <th>2016-10-21</th>\n",
       "      <td>0.092487</td>\n",
       "      <td>0.093918</td>\n",
       "      <td>0.072287</td>\n",
       "      <td>0.080181</td>\n",
       "      <td>269793</td>\n",
       "      <td>NaN</td>\n",
       "      <td>5359579</td>\n",
       "    </tr>\n",
       "  </tbody>\n",
       "</table>\n",
       "</div>"
      ],
      "text/plain": [
       "                Open      High       Low     Close  Volume  Market Cap  \\\n",
       "Date                                                                     \n",
       "2016-10-25  0.093621  0.322439  0.092699  0.135712  365986         NaN   \n",
       "2016-10-24  0.081000  0.100103  0.076476  0.093762  522611         NaN   \n",
       "2016-10-23  0.081487  0.085211  0.076681  0.082726  107073         NaN   \n",
       "2016-10-22  0.080197  0.096001  0.080013  0.081484  293121         NaN   \n",
       "2016-10-21  0.092487  0.093918  0.072287  0.080181  269793         NaN   \n",
       "\n",
       "            Market Cap Predict  \n",
       "Date                            \n",
       "2016-10-25             6485487  \n",
       "2016-10-24             5590641  \n",
       "2016-10-23             5601948  \n",
       "2016-10-22             5785739  \n",
       "2016-10-21             5359579  "
      ]
     },
     "execution_count": 17,
     "metadata": {},
     "output_type": "execute_result"
    }
   ],
   "source": [
    "# Fill Missing Data Using linear model prediction \n",
    "# and Assign it to new column\n",
    "x = df1[['Low']]\n",
    "y = model.predict(x) \n",
    "df1['Market Cap Predict'] = y.astype('int64')\n",
    "df1[df1['Market Cap'].isnull()].head()"
   ]
  },
  {
   "cell_type": "markdown",
   "metadata": {},
   "source": [
    "#### 4. Data Visualization"
   ]
  },
  {
   "cell_type": "code",
   "execution_count": 18,
   "metadata": {
    "scrolled": true
   },
   "outputs": [
    {
     "data": {
      "text/plain": [
       "<matplotlib.axes._subplots.AxesSubplot at 0x7f862f081cc0>"
      ]
     },
     "execution_count": 18,
     "metadata": {},
     "output_type": "execute_result"
    },
    {
     "data": {
      "image/png": "[encoded data removed]",
      "text/plain": [
       "<Figure size 432x288 with 6 Axes>"
      ]
     },
     "metadata": {
      "needs_background": "light"
     },
     "output_type": "display_data"
    }
   ],
   "source": [
    "# Visualization the average of Open based on time (Week)\n",
    "%matplotlib inline\n",
    "    \n",
    "plt.subplot(2,3,1)\n",
    "plt.ylabel('Open')\n",
    "df1.Open.resample('W').mean().plot()\n",
    "\n",
    "plt.subplot(2,3,2)\n",
    "plt.ylabel('High')\n",
    "df1.High.resample('W').mean().plot()\n",
    "\n",
    "plt.subplot(2,3,3)\n",
    "plt.ylabel('Low')\n",
    "df1.Low.resample('W').mean().plot()\n",
    "\n",
    "plt.subplot(2,3,4)\n",
    "plt.ylabel('Close')\n",
    "df1.Close.resample('W').mean().plot()\n",
    "\n",
    "plt.subplot(2,3,5)\n",
    "plt.ylabel('Volume')\n",
    "df1['Volume'].resample('W').mean().plot()\n",
    "\n",
    "plt.subplot(2,3,6)\n",
    "plt.ylabel('Market Cap Predict')\n",
    "df1['Market Cap Predict'].resample('W').mean().plot()"
   ]
  },
  {
   "cell_type": "code",
   "execution_count": null,
   "metadata": {},
   "outputs": [],
   "source": []
  }
 ],
 "metadata": {
  "kernelspec": {
   "display_name": "Python 3",
   "language": "python",
   "name": "python3"
  },
  "language_info": {
   "codemirror_mode": {
    "name": "ipython",
    "version": 3
   },
   "file_extension": ".py",
   "mimetype": "text/x-python",
   "name": "python",
   "nbconvert_exporter": "python",
   "pygments_lexer": "ipython3",
   "version": "3.7.1"
  }
 },
 "nbformat": 4,
 "nbformat_minor": 2
}
