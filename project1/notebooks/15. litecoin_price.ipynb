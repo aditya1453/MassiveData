{
 "cells": [
  {
   "cell_type": "markdown",
   "metadata": {},
   "source": [
    "### Masive Data Lab Activities\n",
    "\n",
    "Description : Read and Cleaning Data\n",
    "File        : litecoin_price.csv \n",
    "Name        : Yudi Aditya"
   ]
  },
  {
   "cell_type": "code",
   "execution_count": 1,
   "metadata": {},
   "outputs": [],
   "source": [
    "import pandas as pd\n",
    "import numpy as np\n",
    "import seaborn as sns\n",
    "import matplotlib.pyplot as plt"
   ]
  },
  {
   "cell_type": "markdown",
   "metadata": {},
   "source": [
    "### Bitcoin Cash Price"
   ]
  },
  {
   "cell_type": "markdown",
   "metadata": {},
   "source": [
    "#### 1. Reading Data"
   ]
  },
  {
   "cell_type": "code",
   "execution_count": 2,
   "metadata": {
    "scrolled": false
   },
   "outputs": [
    {
     "data": {
      "text/html": [
       "<div>\n",
       "<style scoped>\n",
       "    .dataframe tbody tr th:only-of-type {\n",
       "        vertical-align: middle;\n",
       "    }\n",
       "\n",
       "    .dataframe tbody tr th {\n",
       "        vertical-align: top;\n",
       "    }\n",
       "\n",
       "    .dataframe thead th {\n",
       "        text-align: right;\n",
       "    }\n",
       "</style>\n",
       "<table border=\"1\" class=\"dataframe\">\n",
       "  <thead>\n",
       "    <tr style=\"text-align: right;\">\n",
       "      <th></th>\n",
       "      <th>Date</th>\n",
       "      <th>Open</th>\n",
       "      <th>High</th>\n",
       "      <th>Low</th>\n",
       "      <th>Close</th>\n",
       "      <th>Volume</th>\n",
       "      <th>Market Cap</th>\n",
       "    </tr>\n",
       "  </thead>\n",
       "  <tbody>\n",
       "    <tr>\n",
       "      <th>0</th>\n",
       "      <td>2017-09-05</td>\n",
       "      <td>65.25</td>\n",
       "      <td>72.44</td>\n",
       "      <td>59.05</td>\n",
       "      <td>71.29</td>\n",
       "      <td>1016090000</td>\n",
       "      <td>3444150000</td>\n",
       "    </tr>\n",
       "    <tr>\n",
       "      <th>1</th>\n",
       "      <td>2017-09-04</td>\n",
       "      <td>76.73</td>\n",
       "      <td>76.73</td>\n",
       "      <td>61.24</td>\n",
       "      <td>65.21</td>\n",
       "      <td>922041000</td>\n",
       "      <td>4049140000</td>\n",
       "    </tr>\n",
       "    <tr>\n",
       "      <th>2</th>\n",
       "      <td>2017-09-03</td>\n",
       "      <td>78.98</td>\n",
       "      <td>82.83</td>\n",
       "      <td>73.61</td>\n",
       "      <td>76.84</td>\n",
       "      <td>675462000</td>\n",
       "      <td>4166600000</td>\n",
       "    </tr>\n",
       "    <tr>\n",
       "      <th>3</th>\n",
       "      <td>2017-09-02</td>\n",
       "      <td>85.83</td>\n",
       "      <td>92.07</td>\n",
       "      <td>72.23</td>\n",
       "      <td>79.02</td>\n",
       "      <td>1363990000</td>\n",
       "      <td>4526680000</td>\n",
       "    </tr>\n",
       "    <tr>\n",
       "      <th>4</th>\n",
       "      <td>2017-09-01</td>\n",
       "      <td>70.86</td>\n",
       "      <td>87.41</td>\n",
       "      <td>70.01</td>\n",
       "      <td>86.04</td>\n",
       "      <td>1551740000</td>\n",
       "      <td>3735870000</td>\n",
       "    </tr>\n",
       "  </tbody>\n",
       "</table>\n",
       "</div>"
      ],
      "text/plain": [
       "        Date   Open   High    Low  Close      Volume  Market Cap\n",
       "0 2017-09-05  65.25  72.44  59.05  71.29  1016090000  3444150000\n",
       "1 2017-09-04  76.73  76.73  61.24  65.21   922041000  4049140000\n",
       "2 2017-09-03  78.98  82.83  73.61  76.84   675462000  4166600000\n",
       "3 2017-09-02  85.83  92.07  72.23  79.02  1363990000  4526680000\n",
       "4 2017-09-01  70.86  87.41  70.01  86.04  1551740000  3735870000"
      ]
     },
     "execution_count": 2,
     "metadata": {},
     "output_type": "execute_result"
    }
   ],
   "source": [
    "# Read Bitcoin Cash Price\n",
    "df1 = pd.read_csv('../data/raw/cryptocurrencypricehistory/litecoin_price.csv', parse_dates = ['Date'])\n",
    "df1.head()"
   ]
  },
  {
   "cell_type": "code",
   "execution_count": 3,
   "metadata": {},
   "outputs": [
    {
     "data": {
      "text/plain": [
       "pandas._libs.tslibs.timestamps.Timestamp"
      ]
     },
     "execution_count": 3,
     "metadata": {},
     "output_type": "execute_result"
    }
   ],
   "source": [
    "type(df1.Date[0])"
   ]
  },
  {
   "cell_type": "code",
   "execution_count": 4,
   "metadata": {},
   "outputs": [],
   "source": [
    "# Set Date as it's index\n",
    "df1.set_index('Date', inplace = True )"
   ]
  },
  {
   "cell_type": "code",
   "execution_count": 5,
   "metadata": {
    "scrolled": true
   },
   "outputs": [
    {
     "name": "stdout",
     "output_type": "stream",
     "text": [
      "<class 'pandas.core.frame.DataFrame'>\n",
      "DatetimeIndex: 1592 entries, 2017-09-05 to 2013-04-28\n",
      "Data columns (total 6 columns):\n",
      "Open          1592 non-null float64\n",
      "High          1592 non-null float64\n",
      "Low           1592 non-null float64\n",
      "Close         1592 non-null float64\n",
      "Volume        1592 non-null object\n",
      "Market Cap    1592 non-null int64\n",
      "dtypes: float64(4), int64(1), object(1)\n",
      "memory usage: 87.1+ KB\n"
     ]
    }
   ],
   "source": [
    "# Get General Information regarding data frame\n",
    "df1.info()"
   ]
  },
  {
   "cell_type": "markdown",
   "metadata": {},
   "source": [
    "- The data frame has 1592 entries and 6 columns. \n",
    "- All columns has 1592 elements, probably there's no missing data. Especially for Open, high, Low, Close, and market cap. To make it sure, We'll see for this\n",
    "- Volume and Market Cap's data type are an object, it should be number."
   ]
  },
  {
   "cell_type": "code",
   "execution_count": 6,
   "metadata": {},
   "outputs": [
    {
     "data": {
      "text/plain": [
       "Open            0\n",
       "High            0\n",
       "Low             0\n",
       "Close           0\n",
       "Volume        243\n",
       "Market Cap      0\n",
       "dtype: int64"
      ]
     },
     "execution_count": 6,
     "metadata": {},
     "output_type": "execute_result"
    }
   ],
   "source": [
    "# Replace missing data as NaN\n",
    "df1.replace('-', np.nan,inplace=True)\n",
    "# Count missing data\n",
    "df1.isnull().sum()"
   ]
  },
  {
   "cell_type": "markdown",
   "metadata": {},
   "source": [
    "#### 2. Cleaning Data Part (Deal with Wrong Format)"
   ]
  },
  {
   "cell_type": "markdown",
   "metadata": {},
   "source": [
    "Problem :\n",
    "- Some data has different format, therefore Volume and Market Cap recognize as a string, not a number.\n",
    "- There are missing data in column volume\n",
    "\n",
    "Solution:\n",
    "- Convert to float number\n",
    "- Using Fillna or interpolation Method"
   ]
  },
  {
   "cell_type": "code",
   "execution_count": 7,
   "metadata": {},
   "outputs": [
    {
     "name": "stdout",
     "output_type": "stream",
     "text": [
      "Volume Data Type : <class 'str'>\n",
      "Market Cap Data Type : <class 'numpy.int64'>\n"
     ]
    }
   ],
   "source": [
    "print('Volume Data Type :', type(df1.Volume[0]))"
   ]
  },
  {
   "cell_type": "code",
   "execution_count": 8,
   "metadata": {
    "scrolled": false
   },
   "outputs": [
    {
     "name": "stdout",
     "output_type": "stream",
     "text": [
      "<class 'pandas.core.frame.DataFrame'>\n",
      "DatetimeIndex: 1592 entries, 2017-09-05 to 2013-04-28\n",
      "Data columns (total 6 columns):\n",
      "Open          1592 non-null float64\n",
      "High          1592 non-null float64\n",
      "Low           1592 non-null float64\n",
      "Close         1592 non-null float64\n",
      "Volume        1349 non-null float64\n",
      "Market Cap    1592 non-null int64\n",
      "dtypes: float64(5), int64(1)\n",
      "memory usage: 167.1 KB\n"
     ]
    }
   ],
   "source": [
    "#convert data to number\n",
    "def convert_to_number(x):\n",
    "    try:\n",
    "        return int(x.replace(',',''))\n",
    "    except:\n",
    "        return x\n",
    "\n",
    "df1.Volume = df1.Volume.apply(convert_to_number)\n",
    "\n",
    "df1.info()"
   ]
  },
  {
   "cell_type": "code",
   "execution_count": 9,
   "metadata": {
    "scrolled": true
   },
   "outputs": [
    {
     "data": {
      "text/html": [
       "<div>\n",
       "<style scoped>\n",
       "    .dataframe tbody tr th:only-of-type {\n",
       "        vertical-align: middle;\n",
       "    }\n",
       "\n",
       "    .dataframe tbody tr th {\n",
       "        vertical-align: top;\n",
       "    }\n",
       "\n",
       "    .dataframe thead th {\n",
       "        text-align: right;\n",
       "    }\n",
       "</style>\n",
       "<table border=\"1\" class=\"dataframe\">\n",
       "  <thead>\n",
       "    <tr style=\"text-align: right;\">\n",
       "      <th></th>\n",
       "      <th>Open</th>\n",
       "      <th>High</th>\n",
       "      <th>Low</th>\n",
       "      <th>Close</th>\n",
       "      <th>Volume</th>\n",
       "      <th>Market Cap</th>\n",
       "    </tr>\n",
       "  </thead>\n",
       "  <tbody>\n",
       "    <tr>\n",
       "      <th>count</th>\n",
       "      <td>1592.000000</td>\n",
       "      <td>1592.000000</td>\n",
       "      <td>1592.000000</td>\n",
       "      <td>1592.000000</td>\n",
       "      <td>1.349000e+03</td>\n",
       "      <td>1.592000e+03</td>\n",
       "    </tr>\n",
       "    <tr>\n",
       "      <th>mean</th>\n",
       "      <td>8.470741</td>\n",
       "      <td>8.870232</td>\n",
       "      <td>8.068172</td>\n",
       "      <td>8.510704</td>\n",
       "      <td>3.845104e+07</td>\n",
       "      <td>3.430766e+08</td>\n",
       "    </tr>\n",
       "    <tr>\n",
       "      <th>std</th>\n",
       "      <td>11.536448</td>\n",
       "      <td>12.246791</td>\n",
       "      <td>10.817646</td>\n",
       "      <td>11.641428</td>\n",
       "      <td>1.351195e+08</td>\n",
       "      <td>5.718122e+08</td>\n",
       "    </tr>\n",
       "    <tr>\n",
       "      <th>min</th>\n",
       "      <td>1.150000</td>\n",
       "      <td>1.340000</td>\n",
       "      <td>1.110000</td>\n",
       "      <td>1.160000</td>\n",
       "      <td>4.817140e+05</td>\n",
       "      <td>3.794370e+07</td>\n",
       "    </tr>\n",
       "    <tr>\n",
       "      <th>25%</th>\n",
       "      <td>3.050000</td>\n",
       "      <td>3.120000</td>\n",
       "      <td>2.970000</td>\n",
       "      <td>3.050000</td>\n",
       "      <td>1.712650e+06</td>\n",
       "      <td>1.186832e+08</td>\n",
       "    </tr>\n",
       "    <tr>\n",
       "      <th>50%</th>\n",
       "      <td>3.840000</td>\n",
       "      <td>3.880000</td>\n",
       "      <td>3.780000</td>\n",
       "      <td>3.835000</td>\n",
       "      <td>2.917800e+06</td>\n",
       "      <td>1.702760e+08</td>\n",
       "    </tr>\n",
       "    <tr>\n",
       "      <th>75%</th>\n",
       "      <td>7.780000</td>\n",
       "      <td>8.180000</td>\n",
       "      <td>7.552500</td>\n",
       "      <td>7.790000</td>\n",
       "      <td>7.278630e+06</td>\n",
       "      <td>2.432428e+08</td>\n",
       "    </tr>\n",
       "    <tr>\n",
       "      <th>max</th>\n",
       "      <td>85.830000</td>\n",
       "      <td>92.070000</td>\n",
       "      <td>73.610000</td>\n",
       "      <td>86.040000</td>\n",
       "      <td>1.730780e+09</td>\n",
       "      <td>4.526680e+09</td>\n",
       "    </tr>\n",
       "  </tbody>\n",
       "</table>\n",
       "</div>"
      ],
      "text/plain": [
       "              Open         High          Low        Close        Volume  \\\n",
       "count  1592.000000  1592.000000  1592.000000  1592.000000  1.349000e+03   \n",
       "mean      8.470741     8.870232     8.068172     8.510704  3.845104e+07   \n",
       "std      11.536448    12.246791    10.817646    11.641428  1.351195e+08   \n",
       "min       1.150000     1.340000     1.110000     1.160000  4.817140e+05   \n",
       "25%       3.050000     3.120000     2.970000     3.050000  1.712650e+06   \n",
       "50%       3.840000     3.880000     3.780000     3.835000  2.917800e+06   \n",
       "75%       7.780000     8.180000     7.552500     7.790000  7.278630e+06   \n",
       "max      85.830000    92.070000    73.610000    86.040000  1.730780e+09   \n",
       "\n",
       "         Market Cap  \n",
       "count  1.592000e+03  \n",
       "mean   3.430766e+08  \n",
       "std    5.718122e+08  \n",
       "min    3.794370e+07  \n",
       "25%    1.186832e+08  \n",
       "50%    1.702760e+08  \n",
       "75%    2.432428e+08  \n",
       "max    4.526680e+09  "
      ]
     },
     "execution_count": 9,
     "metadata": {},
     "output_type": "execute_result"
    }
   ],
   "source": [
    "df1.describe()"
   ]
  },
  {
   "cell_type": "markdown",
   "metadata": {},
   "source": [
    "#### 3. Cleaning Data 2 (Deal with Missing Data)"
   ]
  },
  {
   "cell_type": "code",
   "execution_count": 10,
   "metadata": {},
   "outputs": [
    {
     "data": {
      "text/plain": [
       "Open            0\n",
       "High            0\n",
       "Low             0\n",
       "Close           0\n",
       "Volume        243\n",
       "Market Cap      0\n",
       "dtype: int64"
      ]
     },
     "execution_count": 10,
     "metadata": {},
     "output_type": "execute_result"
    }
   ],
   "source": [
    "df1.isna().sum()"
   ]
  },
  {
   "cell_type": "code",
   "execution_count": 15,
   "metadata": {
    "scrolled": true
   },
   "outputs": [
    {
     "data": {
      "text/html": [
       "<div>\n",
       "<style scoped>\n",
       "    .dataframe tbody tr th:only-of-type {\n",
       "        vertical-align: middle;\n",
       "    }\n",
       "\n",
       "    .dataframe tbody tr th {\n",
       "        vertical-align: top;\n",
       "    }\n",
       "\n",
       "    .dataframe thead th {\n",
       "        text-align: right;\n",
       "    }\n",
       "</style>\n",
       "<table border=\"1\" class=\"dataframe\">\n",
       "  <thead>\n",
       "    <tr style=\"text-align: right;\">\n",
       "      <th></th>\n",
       "      <th>Open</th>\n",
       "      <th>High</th>\n",
       "      <th>Low</th>\n",
       "      <th>Close</th>\n",
       "      <th>Volume</th>\n",
       "      <th>Market Cap</th>\n",
       "    </tr>\n",
       "    <tr>\n",
       "      <th>Date</th>\n",
       "      <th></th>\n",
       "      <th></th>\n",
       "      <th></th>\n",
       "      <th></th>\n",
       "      <th></th>\n",
       "      <th></th>\n",
       "    </tr>\n",
       "  </thead>\n",
       "  <tbody>\n",
       "    <tr>\n",
       "      <th>2013-12-31</th>\n",
       "      <td>24.51</td>\n",
       "      <td>24.60</td>\n",
       "      <td>23.71</td>\n",
       "      <td>24.35</td>\n",
       "      <td>7446870.0</td>\n",
       "      <td>598381000</td>\n",
       "    </tr>\n",
       "    <tr>\n",
       "      <th>2013-12-30</th>\n",
       "      <td>23.89</td>\n",
       "      <td>24.95</td>\n",
       "      <td>23.74</td>\n",
       "      <td>24.38</td>\n",
       "      <td>12439600.0</td>\n",
       "      <td>582721000</td>\n",
       "    </tr>\n",
       "    <tr>\n",
       "      <th>2013-12-29</th>\n",
       "      <td>22.56</td>\n",
       "      <td>24.39</td>\n",
       "      <td>22.20</td>\n",
       "      <td>24.07</td>\n",
       "      <td>11384200.0</td>\n",
       "      <td>549577000</td>\n",
       "    </tr>\n",
       "    <tr>\n",
       "      <th>2013-12-28</th>\n",
       "      <td>23.19</td>\n",
       "      <td>23.22</td>\n",
       "      <td>21.93</td>\n",
       "      <td>22.56</td>\n",
       "      <td>11003700.0</td>\n",
       "      <td>564204000</td>\n",
       "    </tr>\n",
       "    <tr>\n",
       "      <th>2013-12-27</th>\n",
       "      <td>24.81</td>\n",
       "      <td>25.27</td>\n",
       "      <td>22.26</td>\n",
       "      <td>23.27</td>\n",
       "      <td>31112200.0</td>\n",
       "      <td>602608000</td>\n",
       "    </tr>\n",
       "  </tbody>\n",
       "</table>\n",
       "</div>"
      ],
      "text/plain": [
       "             Open   High    Low  Close      Volume  Market Cap\n",
       "Date                                                          \n",
       "2013-12-31  24.51  24.60  23.71  24.35   7446870.0   598381000\n",
       "2013-12-30  23.89  24.95  23.74  24.38  12439600.0   582721000\n",
       "2013-12-29  22.56  24.39  22.20  24.07  11384200.0   549577000\n",
       "2013-12-28  23.19  23.22  21.93  22.56  11003700.0   564204000\n",
       "2013-12-27  24.81  25.27  22.26  23.27  31112200.0   602608000"
      ]
     },
     "execution_count": 15,
     "metadata": {},
     "output_type": "execute_result"
    }
   ],
   "source": [
    "#new_df is the data with non NaN value\n",
    "new_df = df1[np.isfinite(df1['Volume'])]\n",
    "new_df.tail()"
   ]
  },
  {
   "cell_type": "code",
   "execution_count": 16,
   "metadata": {
    "scrolled": true
   },
   "outputs": [
    {
     "data": {
      "text/html": [
       "<div>\n",
       "<style scoped>\n",
       "    .dataframe tbody tr th:only-of-type {\n",
       "        vertical-align: middle;\n",
       "    }\n",
       "\n",
       "    .dataframe tbody tr th {\n",
       "        vertical-align: top;\n",
       "    }\n",
       "\n",
       "    .dataframe thead th {\n",
       "        text-align: right;\n",
       "    }\n",
       "</style>\n",
       "<table border=\"1\" class=\"dataframe\">\n",
       "  <thead>\n",
       "    <tr style=\"text-align: right;\">\n",
       "      <th></th>\n",
       "      <th>Open</th>\n",
       "      <th>High</th>\n",
       "      <th>Low</th>\n",
       "      <th>Close</th>\n",
       "      <th>Volume</th>\n",
       "      <th>Market Cap</th>\n",
       "    </tr>\n",
       "  </thead>\n",
       "  <tbody>\n",
       "    <tr>\n",
       "      <th>Open</th>\n",
       "      <td>1.000000</td>\n",
       "      <td>0.997364</td>\n",
       "      <td>0.997797</td>\n",
       "      <td>0.995452</td>\n",
       "      <td>0.740296</td>\n",
       "      <td>0.974086</td>\n",
       "    </tr>\n",
       "    <tr>\n",
       "      <th>High</th>\n",
       "      <td>0.997364</td>\n",
       "      <td>1.000000</td>\n",
       "      <td>0.996575</td>\n",
       "      <td>0.998568</td>\n",
       "      <td>0.767737</td>\n",
       "      <td>0.972690</td>\n",
       "    </tr>\n",
       "    <tr>\n",
       "      <th>Low</th>\n",
       "      <td>0.997797</td>\n",
       "      <td>0.996575</td>\n",
       "      <td>1.000000</td>\n",
       "      <td>0.997477</td>\n",
       "      <td>0.730245</td>\n",
       "      <td>0.971490</td>\n",
       "    </tr>\n",
       "    <tr>\n",
       "      <th>Close</th>\n",
       "      <td>0.995452</td>\n",
       "      <td>0.998568</td>\n",
       "      <td>0.997477</td>\n",
       "      <td>1.000000</td>\n",
       "      <td>0.759967</td>\n",
       "      <td>0.971313</td>\n",
       "    </tr>\n",
       "    <tr>\n",
       "      <th>Volume</th>\n",
       "      <td>0.740296</td>\n",
       "      <td>0.767737</td>\n",
       "      <td>0.730245</td>\n",
       "      <td>0.759967</td>\n",
       "      <td>1.000000</td>\n",
       "      <td>0.784359</td>\n",
       "    </tr>\n",
       "    <tr>\n",
       "      <th>Market Cap</th>\n",
       "      <td>0.974086</td>\n",
       "      <td>0.972690</td>\n",
       "      <td>0.971490</td>\n",
       "      <td>0.971313</td>\n",
       "      <td>0.784359</td>\n",
       "      <td>1.000000</td>\n",
       "    </tr>\n",
       "  </tbody>\n",
       "</table>\n",
       "</div>"
      ],
      "text/plain": [
       "                Open      High       Low     Close    Volume  Market Cap\n",
       "Open        1.000000  0.997364  0.997797  0.995452  0.740296    0.974086\n",
       "High        0.997364  1.000000  0.996575  0.998568  0.767737    0.972690\n",
       "Low         0.997797  0.996575  1.000000  0.997477  0.730245    0.971490\n",
       "Close       0.995452  0.998568  0.997477  1.000000  0.759967    0.971313\n",
       "Volume      0.740296  0.767737  0.730245  0.759967  1.000000    0.784359\n",
       "Market Cap  0.974086  0.972690  0.971490  0.971313  0.784359    1.000000"
      ]
     },
     "execution_count": 16,
     "metadata": {},
     "output_type": "execute_result"
    }
   ],
   "source": [
    "# Lets see the correlation between each column\n",
    "correlation = new_df.corr(method=\"pearson\")\n",
    "correlation"
   ]
  },
  {
   "cell_type": "markdown",
   "metadata": {},
   "source": [
    "In the data frame above, we can inferred that Volume has a relationship (Linear) with Market cap."
   ]
  },
  {
   "cell_type": "code",
   "execution_count": 23,
   "metadata": {},
   "outputs": [
    {
     "data": {
      "text/plain": [
       "Text(0, 0.5, 'Volume')"
      ]
     },
     "execution_count": 23,
     "metadata": {},
     "output_type": "execute_result"
    },
    {
     "data": {
      "image/png": "[encoded data removed]",
      "text/plain": [
       "<Figure size 432x288 with 1 Axes>"
      ]
     },
     "metadata": {
      "needs_background": "light"
     },
     "output_type": "display_data"
    }
   ],
   "source": [
    "# import matplotlib.pyplot as plt\n",
    "plt.scatter(new_df['Market Cap'],new_df.Volume,marker='+',color='red')\n",
    "plt.xlabel('Market Cap')\n",
    "plt.ylabel('Volume')"
   ]
  },
  {
   "cell_type": "code",
   "execution_count": 17,
   "metadata": {},
   "outputs": [],
   "source": [
    "from sklearn import linear_model\n",
    "\n",
    "model    = linear_model.LinearRegression()\n",
    "x        = new_df[['Market Cap']]\n",
    "y        = new_df['Volume']"
   ]
  },
  {
   "cell_type": "code",
   "execution_count": 18,
   "metadata": {},
   "outputs": [
    {
     "data": {
      "text/plain": [
       "LinearRegression(copy_X=True, fit_intercept=True, n_jobs=None,\n",
       "         normalize=False)"
      ]
     },
     "execution_count": 18,
     "metadata": {},
     "output_type": "execute_result"
    }
   ],
   "source": [
    "# train data using linear regression \n",
    "model.fit(x, y)"
   ]
  },
  {
   "cell_type": "code",
   "execution_count": 19,
   "metadata": {},
   "outputs": [
    {
     "data": {
      "text/plain": [
       "0.6152195535166604"
      ]
     },
     "execution_count": 19,
     "metadata": {},
     "output_type": "execute_result"
    }
   ],
   "source": [
    "# Model Score\n",
    "model.score(x, y)"
   ]
  },
  {
   "cell_type": "code",
   "execution_count": 21,
   "metadata": {},
   "outputs": [
    {
     "data": {
      "text/html": [
       "<div>\n",
       "<style scoped>\n",
       "    .dataframe tbody tr th:only-of-type {\n",
       "        vertical-align: middle;\n",
       "    }\n",
       "\n",
       "    .dataframe tbody tr th {\n",
       "        vertical-align: top;\n",
       "    }\n",
       "\n",
       "    .dataframe thead th {\n",
       "        text-align: right;\n",
       "    }\n",
       "</style>\n",
       "<table border=\"1\" class=\"dataframe\">\n",
       "  <thead>\n",
       "    <tr style=\"text-align: right;\">\n",
       "      <th></th>\n",
       "      <th>Open</th>\n",
       "      <th>High</th>\n",
       "      <th>Low</th>\n",
       "      <th>Close</th>\n",
       "      <th>Volume</th>\n",
       "      <th>Market Cap</th>\n",
       "      <th>Volume Predict</th>\n",
       "    </tr>\n",
       "    <tr>\n",
       "      <th>Date</th>\n",
       "      <th></th>\n",
       "      <th></th>\n",
       "      <th></th>\n",
       "      <th></th>\n",
       "      <th></th>\n",
       "      <th></th>\n",
       "      <th></th>\n",
       "    </tr>\n",
       "  </thead>\n",
       "  <tbody>\n",
       "    <tr>\n",
       "      <th>2013-12-26</th>\n",
       "      <td>21.65</td>\n",
       "      <td>25.42</td>\n",
       "      <td>21.65</td>\n",
       "      <td>24.76</td>\n",
       "      <td>NaN</td>\n",
       "      <td>525226000</td>\n",
       "      <td>63838249</td>\n",
       "    </tr>\n",
       "    <tr>\n",
       "      <th>2013-12-25</th>\n",
       "      <td>17.65</td>\n",
       "      <td>21.15</td>\n",
       "      <td>17.09</td>\n",
       "      <td>21.15</td>\n",
       "      <td>NaN</td>\n",
       "      <td>427762000</td>\n",
       "      <td>46820521</td>\n",
       "    </tr>\n",
       "    <tr>\n",
       "      <th>2013-12-24</th>\n",
       "      <td>17.81</td>\n",
       "      <td>18.11</td>\n",
       "      <td>17.09</td>\n",
       "      <td>17.64</td>\n",
       "      <td>NaN</td>\n",
       "      <td>431173000</td>\n",
       "      <td>47416100</td>\n",
       "    </tr>\n",
       "    <tr>\n",
       "      <th>2013-12-23</th>\n",
       "      <td>16.74</td>\n",
       "      <td>18.04</td>\n",
       "      <td>16.69</td>\n",
       "      <td>17.89</td>\n",
       "      <td>NaN</td>\n",
       "      <td>404707000</td>\n",
       "      <td>42794997</td>\n",
       "    </tr>\n",
       "    <tr>\n",
       "      <th>2013-12-22</th>\n",
       "      <td>16.60</td>\n",
       "      <td>18.23</td>\n",
       "      <td>16.19</td>\n",
       "      <td>16.86</td>\n",
       "      <td>NaN</td>\n",
       "      <td>401059000</td>\n",
       "      <td>42158037</td>\n",
       "    </tr>\n",
       "  </tbody>\n",
       "</table>\n",
       "</div>"
      ],
      "text/plain": [
       "             Open   High    Low  Close  Volume  Market Cap  Volume Predict\n",
       "Date                                                                      \n",
       "2013-12-26  21.65  25.42  21.65  24.76     NaN   525226000        63838249\n",
       "2013-12-25  17.65  21.15  17.09  21.15     NaN   427762000        46820521\n",
       "2013-12-24  17.81  18.11  17.09  17.64     NaN   431173000        47416100\n",
       "2013-12-23  16.74  18.04  16.69  17.89     NaN   404707000        42794997\n",
       "2013-12-22  16.60  18.23  16.19  16.86     NaN   401059000        42158037"
      ]
     },
     "execution_count": 21,
     "metadata": {},
     "output_type": "execute_result"
    }
   ],
   "source": [
    "# Fill Missing Data Using linear model prediction \n",
    "# and Assign it to new column\n",
    "x = df1[['Market Cap']]\n",
    "y = model.predict(x) \n",
    "df1['Volume Predict'] = y.astype('int64')\n",
    "df1[df1['Volume'].isnull()].head()"
   ]
  },
  {
   "cell_type": "markdown",
   "metadata": {},
   "source": [
    "#### 4. Data Visualization"
   ]
  },
  {
   "cell_type": "code",
   "execution_count": 22,
   "metadata": {
    "scrolled": true
   },
   "outputs": [
    {
     "data": {
      "text/plain": [
       "<matplotlib.axes._subplots.AxesSubplot at 0x7f06d0560b70>"
      ]
     },
     "execution_count": 22,
     "metadata": {},
     "output_type": "execute_result"
    },
    {
     "data": {
      "image/png": "[encoded data removed]",
      "text/plain": [
       "<Figure size 432x288 with 6 Axes>"
      ]
     },
     "metadata": {
      "needs_background": "light"
     },
     "output_type": "display_data"
    }
   ],
   "source": [
    "# Visualization the average of Open based on time (Week)\n",
    "%matplotlib inline\n",
    "    \n",
    "plt.subplot(2,3,1)\n",
    "plt.ylabel('Open')\n",
    "df1.Open.resample('W').mean().plot()\n",
    "\n",
    "plt.subplot(2,3,2)\n",
    "plt.ylabel('High')\n",
    "df1.High.resample('W').mean().plot()\n",
    "\n",
    "plt.subplot(2,3,3)\n",
    "plt.ylabel('Low')\n",
    "df1.Low.resample('W').mean().plot()\n",
    "\n",
    "plt.subplot(2,3,4)\n",
    "plt.ylabel('Close')\n",
    "df1.Close.resample('W').mean().plot()\n",
    "\n",
    "plt.subplot(2,3,5)\n",
    "plt.ylabel('Volume Predict')\n",
    "df1['Volume Predict'].resample('W').mean().plot()\n",
    "\n",
    "plt.subplot(2,3,6)\n",
    "plt.ylabel('Market Cap')\n",
    "df1['Market Cap'].resample('W').mean().plot()"
   ]
  },
  {
   "cell_type": "code",
   "execution_count": null,
   "metadata": {},
   "outputs": [],
   "source": []
  }
 ],
 "metadata": {
  "kernelspec": {
   "display_name": "Python 3",
   "language": "python",
   "name": "python3"
  },
  "language_info": {
   "codemirror_mode": {
    "name": "ipython",
    "version": 3
   },
   "file_extension": ".py",
   "mimetype": "text/x-python",
   "name": "python",
   "nbconvert_exporter": "python",
   "pygments_lexer": "ipython3",
   "version": "3.7.1"
  }
 },
 "nbformat": 4,
 "nbformat_minor": 2
}
