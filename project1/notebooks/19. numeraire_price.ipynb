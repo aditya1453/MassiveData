{
 "cells": [
  {
   "cell_type": "markdown",
   "metadata": {},
   "source": [
    "### Masive Data Lab Activities\n",
    "\n",
    "Description : Read and Cleaning Data\n",
    "File        : numeraire_price.csv \n",
    "Name        : Yudi Aditya"
   ]
  },
  {
   "cell_type": "code",
   "execution_count": 1,
   "metadata": {},
   "outputs": [],
   "source": [
    "import pandas as pd\n",
    "import numpy as np\n",
    "import seaborn as sns\n",
    "import matplotlib.pyplot as plt"
   ]
  },
  {
   "cell_type": "markdown",
   "metadata": {},
   "source": [
    "### Bitcoin Cash Price"
   ]
  },
  {
   "cell_type": "markdown",
   "metadata": {},
   "source": [
    "#### 1. Reading Data"
   ]
  },
  {
   "cell_type": "code",
   "execution_count": 2,
   "metadata": {
    "scrolled": false
   },
   "outputs": [
    {
     "data": {
      "text/html": [
       "<div>\n",
       "<style scoped>\n",
       "    .dataframe tbody tr th:only-of-type {\n",
       "        vertical-align: middle;\n",
       "    }\n",
       "\n",
       "    .dataframe tbody tr th {\n",
       "        vertical-align: top;\n",
       "    }\n",
       "\n",
       "    .dataframe thead th {\n",
       "        text-align: right;\n",
       "    }\n",
       "</style>\n",
       "<table border=\"1\" class=\"dataframe\">\n",
       "  <thead>\n",
       "    <tr style=\"text-align: right;\">\n",
       "      <th></th>\n",
       "      <th>Date</th>\n",
       "      <th>Open</th>\n",
       "      <th>High</th>\n",
       "      <th>Low</th>\n",
       "      <th>Close</th>\n",
       "      <th>Volume</th>\n",
       "      <th>Market Cap</th>\n",
       "    </tr>\n",
       "  </thead>\n",
       "  <tbody>\n",
       "    <tr>\n",
       "      <th>0</th>\n",
       "      <td>2017-09-05</td>\n",
       "      <td>20.87</td>\n",
       "      <td>23.62</td>\n",
       "      <td>18.91</td>\n",
       "      <td>21.53</td>\n",
       "      <td>349,885</td>\n",
       "      <td>26,115,800</td>\n",
       "    </tr>\n",
       "    <tr>\n",
       "      <th>1</th>\n",
       "      <td>2017-09-04</td>\n",
       "      <td>26.91</td>\n",
       "      <td>27.34</td>\n",
       "      <td>17.99</td>\n",
       "      <td>20.74</td>\n",
       "      <td>716,231</td>\n",
       "      <td>33,673,500</td>\n",
       "    </tr>\n",
       "    <tr>\n",
       "      <th>2</th>\n",
       "      <td>2017-09-03</td>\n",
       "      <td>27.70</td>\n",
       "      <td>29.36</td>\n",
       "      <td>24.99</td>\n",
       "      <td>26.90</td>\n",
       "      <td>493,926</td>\n",
       "      <td>34,662,300</td>\n",
       "    </tr>\n",
       "    <tr>\n",
       "      <th>3</th>\n",
       "      <td>2017-09-02</td>\n",
       "      <td>32.49</td>\n",
       "      <td>33.01</td>\n",
       "      <td>26.79</td>\n",
       "      <td>27.24</td>\n",
       "      <td>633,861</td>\n",
       "      <td>40,658,600</td>\n",
       "    </tr>\n",
       "    <tr>\n",
       "      <th>4</th>\n",
       "      <td>2017-09-01</td>\n",
       "      <td>35.67</td>\n",
       "      <td>35.90</td>\n",
       "      <td>31.35</td>\n",
       "      <td>32.45</td>\n",
       "      <td>1,024,920</td>\n",
       "      <td>44,636,600</td>\n",
       "    </tr>\n",
       "  </tbody>\n",
       "</table>\n",
       "</div>"
      ],
      "text/plain": [
       "        Date   Open   High    Low  Close     Volume  Market Cap\n",
       "0 2017-09-05  20.87  23.62  18.91  21.53    349,885  26,115,800\n",
       "1 2017-09-04  26.91  27.34  17.99  20.74    716,231  33,673,500\n",
       "2 2017-09-03  27.70  29.36  24.99  26.90    493,926  34,662,300\n",
       "3 2017-09-02  32.49  33.01  26.79  27.24    633,861  40,658,600\n",
       "4 2017-09-01  35.67  35.90  31.35  32.45  1,024,920  44,636,600"
      ]
     },
     "execution_count": 2,
     "metadata": {},
     "output_type": "execute_result"
    }
   ],
   "source": [
    "# Read Bitcoin Cash Price\n",
    "df1 = pd.read_csv('../data/raw/cryptocurrencypricehistory/numeraire_price.csv', parse_dates = ['Date'])\n",
    "df1.head()"
   ]
  },
  {
   "cell_type": "code",
   "execution_count": 3,
   "metadata": {},
   "outputs": [
    {
     "data": {
      "text/plain": [
       "pandas._libs.tslibs.timestamps.Timestamp"
      ]
     },
     "execution_count": 3,
     "metadata": {},
     "output_type": "execute_result"
    }
   ],
   "source": [
    "type(df1.Date[0])"
   ]
  },
  {
   "cell_type": "code",
   "execution_count": 4,
   "metadata": {},
   "outputs": [],
   "source": [
    "# Set Date as it's index\n",
    "df1.set_index('Date', inplace = True )"
   ]
  },
  {
   "cell_type": "code",
   "execution_count": 5,
   "metadata": {
    "scrolled": true
   },
   "outputs": [
    {
     "name": "stdout",
     "output_type": "stream",
     "text": [
      "<class 'pandas.core.frame.DataFrame'>\n",
      "DatetimeIndex: 30 entries, 2017-09-05 to 2017-08-07\n",
      "Data columns (total 6 columns):\n",
      "Open          30 non-null float64\n",
      "High          30 non-null float64\n",
      "Low           30 non-null float64\n",
      "Close         30 non-null float64\n",
      "Volume        30 non-null object\n",
      "Market Cap    30 non-null object\n",
      "dtypes: float64(4), object(2)\n",
      "memory usage: 1.6+ KB\n"
     ]
    }
   ],
   "source": [
    "# Get General Information regarding data frame\n",
    "df1.info()"
   ]
  },
  {
   "cell_type": "markdown",
   "metadata": {},
   "source": [
    "- The data frame has 30 entries and 6 columns. \n",
    "- All columns has 30 elements, probably there's no missing data. To make it sure, We'll see for this\n",
    "- Volume and market cap's data type are an object, it should be number."
   ]
  },
  {
   "cell_type": "code",
   "execution_count": 6,
   "metadata": {},
   "outputs": [
    {
     "data": {
      "text/plain": [
       "Open          0\n",
       "High          0\n",
       "Low           0\n",
       "Close         0\n",
       "Volume        0\n",
       "Market Cap    0\n",
       "dtype: int64"
      ]
     },
     "execution_count": 6,
     "metadata": {},
     "output_type": "execute_result"
    }
   ],
   "source": [
    "# Replace missing data as NaN\n",
    "df1.replace('-', np.nan,inplace=True)\n",
    "# Count missing data\n",
    "df1.isnull().sum()"
   ]
  },
  {
   "cell_type": "markdown",
   "metadata": {},
   "source": [
    "#### 2. Cleaning Data Part (Deal with Wrong Format)"
   ]
  },
  {
   "cell_type": "markdown",
   "metadata": {},
   "source": [
    "Problem :\n",
    "- Some data has different format, therefore Volume recognize as a string, not a number.\n",
    "\n",
    "Solution:\n",
    "- Convert to float number"
   ]
  },
  {
   "cell_type": "code",
   "execution_count": 7,
   "metadata": {},
   "outputs": [
    {
     "name": "stdout",
     "output_type": "stream",
     "text": [
      "Volume Data Type : <class 'str'>\n",
      "Market Cap Data Type : <class 'str'>\n"
     ]
    }
   ],
   "source": [
    "print('Volume Data Type :', type(df1.Volume[0]))\n",
    "print('Market Cap Data Type :', type(df1['Market Cap'][0]))"
   ]
  },
  {
   "cell_type": "code",
   "execution_count": 8,
   "metadata": {
    "scrolled": false
   },
   "outputs": [
    {
     "name": "stdout",
     "output_type": "stream",
     "text": [
      "<class 'pandas.core.frame.DataFrame'>\n",
      "DatetimeIndex: 30 entries, 2017-09-05 to 2017-08-07\n",
      "Data columns (total 6 columns):\n",
      "Open          30 non-null float64\n",
      "High          30 non-null float64\n",
      "Low           30 non-null float64\n",
      "Close         30 non-null float64\n",
      "Volume        30 non-null int64\n",
      "Market Cap    30 non-null int64\n",
      "dtypes: float64(4), int64(2)\n",
      "memory usage: 2.9 KB\n"
     ]
    }
   ],
   "source": [
    "#convert data to number\n",
    "def convert_to_number(x):\n",
    "    try:\n",
    "        return int(x.replace(',',''))\n",
    "    except:\n",
    "        return x\n",
    "\n",
    "df1.Volume = df1.Volume.apply(convert_to_number)\n",
    "df1['Market Cap'] = df1['Market Cap'].apply(convert_to_number)\n",
    "\n",
    "df1.info()"
   ]
  },
  {
   "cell_type": "code",
   "execution_count": 9,
   "metadata": {
    "scrolled": true
   },
   "outputs": [
    {
     "data": {
      "text/html": [
       "<div>\n",
       "<style scoped>\n",
       "    .dataframe tbody tr th:only-of-type {\n",
       "        vertical-align: middle;\n",
       "    }\n",
       "\n",
       "    .dataframe tbody tr th {\n",
       "        vertical-align: top;\n",
       "    }\n",
       "\n",
       "    .dataframe thead th {\n",
       "        text-align: right;\n",
       "    }\n",
       "</style>\n",
       "<table border=\"1\" class=\"dataframe\">\n",
       "  <thead>\n",
       "    <tr style=\"text-align: right;\">\n",
       "      <th></th>\n",
       "      <th>Open</th>\n",
       "      <th>High</th>\n",
       "      <th>Low</th>\n",
       "      <th>Close</th>\n",
       "      <th>Volume</th>\n",
       "      <th>Market Cap</th>\n",
       "    </tr>\n",
       "  </thead>\n",
       "  <tbody>\n",
       "    <tr>\n",
       "      <th>count</th>\n",
       "      <td>30.000000</td>\n",
       "      <td>30.000000</td>\n",
       "      <td>30.000000</td>\n",
       "      <td>30.000000</td>\n",
       "      <td>3.000000e+01</td>\n",
       "      <td>3.000000e+01</td>\n",
       "    </tr>\n",
       "    <tr>\n",
       "      <th>mean</th>\n",
       "      <td>33.311333</td>\n",
       "      <td>36.487333</td>\n",
       "      <td>30.395667</td>\n",
       "      <td>33.009667</td>\n",
       "      <td>9.233835e+05</td>\n",
       "      <td>4.166209e+07</td>\n",
       "    </tr>\n",
       "    <tr>\n",
       "      <th>std</th>\n",
       "      <td>4.740261</td>\n",
       "      <td>5.773530</td>\n",
       "      <td>4.509950</td>\n",
       "      <td>5.114229</td>\n",
       "      <td>7.136879e+05</td>\n",
       "      <td>6.007867e+06</td>\n",
       "    </tr>\n",
       "    <tr>\n",
       "      <th>min</th>\n",
       "      <td>20.870000</td>\n",
       "      <td>23.620000</td>\n",
       "      <td>17.990000</td>\n",
       "      <td>20.740000</td>\n",
       "      <td>3.498850e+05</td>\n",
       "      <td>2.611580e+07</td>\n",
       "    </tr>\n",
       "    <tr>\n",
       "      <th>25%</th>\n",
       "      <td>29.447500</td>\n",
       "      <td>33.755000</td>\n",
       "      <td>26.790000</td>\n",
       "      <td>29.737500</td>\n",
       "      <td>4.721230e+05</td>\n",
       "      <td>3.689638e+07</td>\n",
       "    </tr>\n",
       "    <tr>\n",
       "      <th>50%</th>\n",
       "      <td>34.800000</td>\n",
       "      <td>36.925000</td>\n",
       "      <td>31.895000</td>\n",
       "      <td>34.745000</td>\n",
       "      <td>6.750460e+05</td>\n",
       "      <td>4.359285e+07</td>\n",
       "    </tr>\n",
       "    <tr>\n",
       "      <th>75%</th>\n",
       "      <td>35.560000</td>\n",
       "      <td>38.277500</td>\n",
       "      <td>33.525000</td>\n",
       "      <td>35.590000</td>\n",
       "      <td>9.848892e+05</td>\n",
       "      <td>4.454140e+07</td>\n",
       "    </tr>\n",
       "    <tr>\n",
       "      <th>max</th>\n",
       "      <td>43.830000</td>\n",
       "      <td>48.730000</td>\n",
       "      <td>34.850000</td>\n",
       "      <td>43.370000</td>\n",
       "      <td>3.202390e+06</td>\n",
       "      <td>5.491300e+07</td>\n",
       "    </tr>\n",
       "  </tbody>\n",
       "</table>\n",
       "</div>"
      ],
      "text/plain": [
       "            Open       High        Low      Close        Volume    Market Cap\n",
       "count  30.000000  30.000000  30.000000  30.000000  3.000000e+01  3.000000e+01\n",
       "mean   33.311333  36.487333  30.395667  33.009667  9.233835e+05  4.166209e+07\n",
       "std     4.740261   5.773530   4.509950   5.114229  7.136879e+05  6.007867e+06\n",
       "min    20.870000  23.620000  17.990000  20.740000  3.498850e+05  2.611580e+07\n",
       "25%    29.447500  33.755000  26.790000  29.737500  4.721230e+05  3.689638e+07\n",
       "50%    34.800000  36.925000  31.895000  34.745000  6.750460e+05  4.359285e+07\n",
       "75%    35.560000  38.277500  33.525000  35.590000  9.848892e+05  4.454140e+07\n",
       "max    43.830000  48.730000  34.850000  43.370000  3.202390e+06  5.491300e+07"
      ]
     },
     "execution_count": 9,
     "metadata": {},
     "output_type": "execute_result"
    }
   ],
   "source": [
    "df1.describe()"
   ]
  },
  {
   "cell_type": "markdown",
   "metadata": {},
   "source": [
    "#### 3. Cleaning Data 2 (Deal with Missing Data)"
   ]
  },
  {
   "cell_type": "code",
   "execution_count": 10,
   "metadata": {
    "scrolled": true
   },
   "outputs": [
    {
     "data": {
      "text/plain": [
       "Open          0\n",
       "High          0\n",
       "Low           0\n",
       "Close         0\n",
       "Volume        0\n",
       "Market Cap    0\n",
       "dtype: int64"
      ]
     },
     "execution_count": 10,
     "metadata": {},
     "output_type": "execute_result"
    }
   ],
   "source": [
    "df1.isna().sum()"
   ]
  },
  {
   "cell_type": "markdown",
   "metadata": {
    "scrolled": false
   },
   "source": [
    "All data is clear"
   ]
  },
  {
   "cell_type": "markdown",
   "metadata": {},
   "source": [
    "#### 4. Data Visualization"
   ]
  },
  {
   "cell_type": "code",
   "execution_count": 11,
   "metadata": {
    "scrolled": true
   },
   "outputs": [
    {
     "data": {
      "text/plain": [
       "<matplotlib.axes._subplots.AxesSubplot at 0x7f40a0050f98>"
      ]
     },
     "execution_count": 11,
     "metadata": {},
     "output_type": "execute_result"
    },
    {
     "data": {
      "image/png": "[encoded data removed]",
      "text/plain": [
       "<Figure size 432x288 with 6 Axes>"
      ]
     },
     "metadata": {
      "needs_background": "light"
     },
     "output_type": "display_data"
    }
   ],
   "source": [
    "# Visualization the average of Open based on time (Week)\n",
    "%matplotlib inline\n",
    "    \n",
    "plt.subplot(2,3,1)\n",
    "plt.ylabel('Open')\n",
    "df1.Open.resample('W').mean().plot()\n",
    "\n",
    "plt.subplot(2,3,2)\n",
    "plt.ylabel('High')\n",
    "df1.High.resample('W').mean().plot()\n",
    "\n",
    "plt.subplot(2,3,3)\n",
    "plt.ylabel('Low')\n",
    "df1.Low.resample('W').mean().plot()\n",
    "\n",
    "plt.subplot(2,3,4)\n",
    "plt.ylabel('Close')\n",
    "df1.Close.resample('W').mean().plot()\n",
    "\n",
    "plt.subplot(2,3,5)\n",
    "plt.ylabel('Volume')\n",
    "df1['Volume'].resample('W').mean().plot()\n",
    "\n",
    "plt.subplot(2,3,6)\n",
    "plt.ylabel('Market Cap')\n",
    "df1['Market Cap'].resample('W').mean().plot()"
   ]
  },
  {
   "cell_type": "code",
   "execution_count": null,
   "metadata": {},
   "outputs": [],
   "source": []
  }
 ],
 "metadata": {
  "kernelspec": {
   "display_name": "Python 3",
   "language": "python",
   "name": "python3"
  },
  "language_info": {
   "codemirror_mode": {
    "name": "ipython",
    "version": 3
   },
   "file_extension": ".py",
   "mimetype": "text/x-python",
   "name": "python",
   "nbconvert_exporter": "python",
   "pygments_lexer": "ipython3",
   "version": "3.7.1"
  }
 },
 "nbformat": 4,
 "nbformat_minor": 2
}
