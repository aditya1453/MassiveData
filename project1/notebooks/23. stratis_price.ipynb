{
 "cells": [
  {
   "cell_type": "markdown",
   "metadata": {},
   "source": [
    "### Masive Data Lab Activities\n",
    "\n",
    "Description : Read and Cleaning Data\n",
    "File        : stratis_price.csv \n",
    "Name        : Yudi Aditya"
   ]
  },
  {
   "cell_type": "code",
   "execution_count": 1,
   "metadata": {},
   "outputs": [],
   "source": [
    "import pandas as pd\n",
    "import numpy as np\n",
    "import seaborn as sns\n",
    "import matplotlib.pyplot as plt"
   ]
  },
  {
   "cell_type": "markdown",
   "metadata": {},
   "source": [
    "### Bitcoin Cash Price"
   ]
  },
  {
   "cell_type": "markdown",
   "metadata": {},
   "source": [
    "#### 1. Reading Data"
   ]
  },
  {
   "cell_type": "code",
   "execution_count": 7,
   "metadata": {
    "scrolled": false
   },
   "outputs": [
    {
     "data": {
      "text/html": [
       "<div>\n",
       "<style scoped>\n",
       "    .dataframe tbody tr th:only-of-type {\n",
       "        vertical-align: middle;\n",
       "    }\n",
       "\n",
       "    .dataframe tbody tr th {\n",
       "        vertical-align: top;\n",
       "    }\n",
       "\n",
       "    .dataframe thead th {\n",
       "        text-align: right;\n",
       "    }\n",
       "</style>\n",
       "<table border=\"1\" class=\"dataframe\">\n",
       "  <thead>\n",
       "    <tr style=\"text-align: right;\">\n",
       "      <th></th>\n",
       "      <th>Date</th>\n",
       "      <th>Open</th>\n",
       "      <th>High</th>\n",
       "      <th>Low</th>\n",
       "      <th>Close</th>\n",
       "      <th>Volume</th>\n",
       "      <th>Market Cap</th>\n",
       "    </tr>\n",
       "  </thead>\n",
       "  <tbody>\n",
       "    <tr>\n",
       "      <th>0</th>\n",
       "      <td>2017-09-05</td>\n",
       "      <td>5.79</td>\n",
       "      <td>6.23</td>\n",
       "      <td>5.11</td>\n",
       "      <td>6.03</td>\n",
       "      <td>8,514,110</td>\n",
       "      <td>570,643,000</td>\n",
       "    </tr>\n",
       "    <tr>\n",
       "      <th>1</th>\n",
       "      <td>2017-09-04</td>\n",
       "      <td>6.61</td>\n",
       "      <td>6.74</td>\n",
       "      <td>5.35</td>\n",
       "      <td>5.77</td>\n",
       "      <td>14,669,700</td>\n",
       "      <td>651,334,000</td>\n",
       "    </tr>\n",
       "    <tr>\n",
       "      <th>2</th>\n",
       "      <td>2017-09-03</td>\n",
       "      <td>6.36</td>\n",
       "      <td>6.59</td>\n",
       "      <td>5.99</td>\n",
       "      <td>6.59</td>\n",
       "      <td>8,487,740</td>\n",
       "      <td>626,826,000</td>\n",
       "    </tr>\n",
       "    <tr>\n",
       "      <th>3</th>\n",
       "      <td>2017-09-02</td>\n",
       "      <td>7.27</td>\n",
       "      <td>7.27</td>\n",
       "      <td>6.18</td>\n",
       "      <td>6.34</td>\n",
       "      <td>11,500,400</td>\n",
       "      <td>716,038,000</td>\n",
       "    </tr>\n",
       "    <tr>\n",
       "      <th>4</th>\n",
       "      <td>2017-09-01</td>\n",
       "      <td>7.28</td>\n",
       "      <td>7.78</td>\n",
       "      <td>6.97</td>\n",
       "      <td>7.25</td>\n",
       "      <td>22,610,800</td>\n",
       "      <td>717,199,000</td>\n",
       "    </tr>\n",
       "  </tbody>\n",
       "</table>\n",
       "</div>"
      ],
      "text/plain": [
       "        Date  Open  High   Low  Close      Volume   Market Cap\n",
       "0 2017-09-05  5.79  6.23  5.11   6.03   8,514,110  570,643,000\n",
       "1 2017-09-04  6.61  6.74  5.35   5.77  14,669,700  651,334,000\n",
       "2 2017-09-03  6.36  6.59  5.99   6.59   8,487,740  626,826,000\n",
       "3 2017-09-02  7.27  7.27  6.18   6.34  11,500,400  716,038,000\n",
       "4 2017-09-01  7.28  7.78  6.97   7.25  22,610,800  717,199,000"
      ]
     },
     "execution_count": 7,
     "metadata": {},
     "output_type": "execute_result"
    }
   ],
   "source": [
    "# Read Bitcoin Cash Price\n",
    "df1 = pd.read_csv('../data/raw/cryptocurrencypricehistory/stratis_price.csv', parse_dates = ['Date'])\n",
    "df1.head()"
   ]
  },
  {
   "cell_type": "code",
   "execution_count": 8,
   "metadata": {},
   "outputs": [
    {
     "data": {
      "text/plain": [
       "pandas._libs.tslibs.timestamps.Timestamp"
      ]
     },
     "execution_count": 8,
     "metadata": {},
     "output_type": "execute_result"
    }
   ],
   "source": [
    "type(df1.Date[0])"
   ]
  },
  {
   "cell_type": "code",
   "execution_count": 9,
   "metadata": {},
   "outputs": [],
   "source": [
    "# Set Date as it's index\n",
    "df1.set_index('Date', inplace = True )"
   ]
  },
  {
   "cell_type": "code",
   "execution_count": 5,
   "metadata": {
    "scrolled": true
   },
   "outputs": [
    {
     "name": "stdout",
     "output_type": "stream",
     "text": [
      "<class 'pandas.core.frame.DataFrame'>\n",
      "DatetimeIndex: 1494 entries, 2017-09-05 to 2013-08-04\n",
      "Data columns (total 6 columns):\n",
      "Open          1494 non-null float64\n",
      "High          1494 non-null float64\n",
      "Low           1494 non-null float64\n",
      "Close         1494 non-null float64\n",
      "Volume        1494 non-null object\n",
      "Market Cap    1494 non-null object\n",
      "dtypes: float64(4), object(2)\n",
      "memory usage: 81.7+ KB\n"
     ]
    }
   ],
   "source": [
    "# Get General Information regarding data frame\n",
    "df1.info()"
   ]
  },
  {
   "cell_type": "markdown",
   "metadata": {},
   "source": [
    "- The data frame has 1494 entries and 6 columns. \n",
    "- All columns has 1494 elements, probably there's no missing data. To make it sure, We'll see for this\n",
    "- Volume and market cap's data type are an object, it should be number."
   ]
  },
  {
   "cell_type": "code",
   "execution_count": 10,
   "metadata": {},
   "outputs": [
    {
     "data": {
      "text/plain": [
       "Open          0\n",
       "High          0\n",
       "Low           0\n",
       "Close         0\n",
       "Volume        0\n",
       "Market Cap    1\n",
       "dtype: int64"
      ]
     },
     "execution_count": 10,
     "metadata": {},
     "output_type": "execute_result"
    }
   ],
   "source": [
    "# Replace missing data as NaN\n",
    "df1.replace('-', np.nan,inplace=True)\n",
    "# Count missing data\n",
    "df1.isnull().sum()"
   ]
  },
  {
   "cell_type": "markdown",
   "metadata": {},
   "source": [
    "#### 2. Cleaning Data Part (Deal with Wrong Format)"
   ]
  },
  {
   "cell_type": "markdown",
   "metadata": {},
   "source": [
    "Problem :\n",
    "- Some data has different format, therefore Volume recognize as a string, not a number.\n",
    "- There is null data in Market Cap\n",
    "\n",
    "Solution:\n",
    "- Convert to float number\n",
    "- Using interpolation to fill the missing data"
   ]
  },
  {
   "cell_type": "code",
   "execution_count": 11,
   "metadata": {},
   "outputs": [
    {
     "name": "stdout",
     "output_type": "stream",
     "text": [
      "Volume Data Type : <class 'str'>\n",
      "Market Cap Data Type : <class 'str'>\n"
     ]
    }
   ],
   "source": [
    "print('Volume Data Type :', type(df1.Volume[0]))\n",
    "print('Market Cap Data Type :', type(df1['Market Cap'][0]))"
   ]
  },
  {
   "cell_type": "code",
   "execution_count": 12,
   "metadata": {
    "scrolled": false
   },
   "outputs": [
    {
     "name": "stdout",
     "output_type": "stream",
     "text": [
      "<class 'pandas.core.frame.DataFrame'>\n",
      "DatetimeIndex: 390 entries, 2017-09-05 to 2016-08-12\n",
      "Data columns (total 6 columns):\n",
      "Open          390 non-null float64\n",
      "High          390 non-null float64\n",
      "Low           390 non-null float64\n",
      "Close         390 non-null float64\n",
      "Volume        390 non-null int64\n",
      "Market Cap    389 non-null float64\n",
      "dtypes: float64(5), int64(1)\n",
      "memory usage: 31.3 KB\n"
     ]
    }
   ],
   "source": [
    "#convert data to number\n",
    "def convert_to_number(x):\n",
    "    try:\n",
    "        return int(x.replace(',',''))\n",
    "    except:\n",
    "        return x\n",
    "\n",
    "df1.Volume = df1.Volume.apply(convert_to_number)\n",
    "df1['Market Cap'] = df1['Market Cap'].apply(convert_to_number)\n",
    "\n",
    "df1.info()"
   ]
  },
  {
   "cell_type": "code",
   "execution_count": 13,
   "metadata": {
    "scrolled": true
   },
   "outputs": [
    {
     "data": {
      "text/html": [
       "<div>\n",
       "<style scoped>\n",
       "    .dataframe tbody tr th:only-of-type {\n",
       "        vertical-align: middle;\n",
       "    }\n",
       "\n",
       "    .dataframe tbody tr th {\n",
       "        vertical-align: top;\n",
       "    }\n",
       "\n",
       "    .dataframe thead th {\n",
       "        text-align: right;\n",
       "    }\n",
       "</style>\n",
       "<table border=\"1\" class=\"dataframe\">\n",
       "  <thead>\n",
       "    <tr style=\"text-align: right;\">\n",
       "      <th></th>\n",
       "      <th>Open</th>\n",
       "      <th>High</th>\n",
       "      <th>Low</th>\n",
       "      <th>Close</th>\n",
       "      <th>Volume</th>\n",
       "      <th>Market Cap</th>\n",
       "    </tr>\n",
       "  </thead>\n",
       "  <tbody>\n",
       "    <tr>\n",
       "      <th>count</th>\n",
       "      <td>390.000000</td>\n",
       "      <td>390.000000</td>\n",
       "      <td>390.000000</td>\n",
       "      <td>390.000000</td>\n",
       "      <td>3.900000e+02</td>\n",
       "      <td>3.890000e+02</td>\n",
       "    </tr>\n",
       "    <tr>\n",
       "      <th>mean</th>\n",
       "      <td>1.823314</td>\n",
       "      <td>1.990140</td>\n",
       "      <td>1.671701</td>\n",
       "      <td>1.837540</td>\n",
       "      <td>4.782751e+06</td>\n",
       "      <td>1.799519e+08</td>\n",
       "    </tr>\n",
       "    <tr>\n",
       "      <th>std</th>\n",
       "      <td>2.830232</td>\n",
       "      <td>3.082738</td>\n",
       "      <td>2.596490</td>\n",
       "      <td>2.837244</td>\n",
       "      <td>9.211456e+06</td>\n",
       "      <td>2.788660e+08</td>\n",
       "    </tr>\n",
       "    <tr>\n",
       "      <th>min</th>\n",
       "      <td>0.011171</td>\n",
       "      <td>0.013897</td>\n",
       "      <td>0.008483</td>\n",
       "      <td>0.011175</td>\n",
       "      <td>6.461000e+03</td>\n",
       "      <td>1.095050e+06</td>\n",
       "    </tr>\n",
       "    <tr>\n",
       "      <th>25%</th>\n",
       "      <td>0.055957</td>\n",
       "      <td>0.060666</td>\n",
       "      <td>0.052541</td>\n",
       "      <td>0.056644</td>\n",
       "      <td>4.569400e+04</td>\n",
       "      <td>5.542380e+06</td>\n",
       "    </tr>\n",
       "    <tr>\n",
       "      <th>50%</th>\n",
       "      <td>0.090728</td>\n",
       "      <td>0.097877</td>\n",
       "      <td>0.085325</td>\n",
       "      <td>0.091032</td>\n",
       "      <td>1.889225e+05</td>\n",
       "      <td>8.935720e+06</td>\n",
       "    </tr>\n",
       "    <tr>\n",
       "      <th>75%</th>\n",
       "      <td>3.060000</td>\n",
       "      <td>3.522500</td>\n",
       "      <td>2.667500</td>\n",
       "      <td>3.100000</td>\n",
       "      <td>5.725200e+06</td>\n",
       "      <td>3.013810e+08</td>\n",
       "    </tr>\n",
       "    <tr>\n",
       "      <th>max</th>\n",
       "      <td>10.560000</td>\n",
       "      <td>11.680000</td>\n",
       "      <td>10.030000</td>\n",
       "      <td>10.620000</td>\n",
       "      <td>7.668770e+07</td>\n",
       "      <td>1.039320e+09</td>\n",
       "    </tr>\n",
       "  </tbody>\n",
       "</table>\n",
       "</div>"
      ],
      "text/plain": [
       "             Open        High         Low       Close        Volume  \\\n",
       "count  390.000000  390.000000  390.000000  390.000000  3.900000e+02   \n",
       "mean     1.823314    1.990140    1.671701    1.837540  4.782751e+06   \n",
       "std      2.830232    3.082738    2.596490    2.837244  9.211456e+06   \n",
       "min      0.011171    0.013897    0.008483    0.011175  6.461000e+03   \n",
       "25%      0.055957    0.060666    0.052541    0.056644  4.569400e+04   \n",
       "50%      0.090728    0.097877    0.085325    0.091032  1.889225e+05   \n",
       "75%      3.060000    3.522500    2.667500    3.100000  5.725200e+06   \n",
       "max     10.560000   11.680000   10.030000   10.620000  7.668770e+07   \n",
       "\n",
       "         Market Cap  \n",
       "count  3.890000e+02  \n",
       "mean   1.799519e+08  \n",
       "std    2.788660e+08  \n",
       "min    1.095050e+06  \n",
       "25%    5.542380e+06  \n",
       "50%    8.935720e+06  \n",
       "75%    3.013810e+08  \n",
       "max    1.039320e+09  "
      ]
     },
     "execution_count": 13,
     "metadata": {},
     "output_type": "execute_result"
    }
   ],
   "source": [
    "df1.describe()"
   ]
  },
  {
   "cell_type": "markdown",
   "metadata": {},
   "source": [
    "#### 3. Cleaning Data 2 (Deal with Missing Data)"
   ]
  },
  {
   "cell_type": "code",
   "execution_count": 14,
   "metadata": {
    "scrolled": true
   },
   "outputs": [
    {
     "data": {
      "text/plain": [
       "Open          0\n",
       "High          0\n",
       "Low           0\n",
       "Close         0\n",
       "Volume        0\n",
       "Market Cap    1\n",
       "dtype: int64"
      ]
     },
     "execution_count": 14,
     "metadata": {},
     "output_type": "execute_result"
    }
   ],
   "source": [
    "df1.isna().sum()"
   ]
  },
  {
   "cell_type": "code",
   "execution_count": 23,
   "metadata": {
    "scrolled": false
   },
   "outputs": [
    {
     "data": {
      "text/html": [
       "<div>\n",
       "<style scoped>\n",
       "    .dataframe tbody tr th:only-of-type {\n",
       "        vertical-align: middle;\n",
       "    }\n",
       "\n",
       "    .dataframe tbody tr th {\n",
       "        vertical-align: top;\n",
       "    }\n",
       "\n",
       "    .dataframe thead th {\n",
       "        text-align: right;\n",
       "    }\n",
       "</style>\n",
       "<table border=\"1\" class=\"dataframe\">\n",
       "  <thead>\n",
       "    <tr style=\"text-align: right;\">\n",
       "      <th></th>\n",
       "      <th>Open</th>\n",
       "      <th>High</th>\n",
       "      <th>Low</th>\n",
       "      <th>Close</th>\n",
       "      <th>Volume</th>\n",
       "      <th>Market Cap</th>\n",
       "    </tr>\n",
       "    <tr>\n",
       "      <th>Date</th>\n",
       "      <th></th>\n",
       "      <th></th>\n",
       "      <th></th>\n",
       "      <th></th>\n",
       "      <th></th>\n",
       "      <th></th>\n",
       "    </tr>\n",
       "  </thead>\n",
       "  <tbody>\n",
       "    <tr>\n",
       "      <th>2016-08-17</th>\n",
       "      <td>0.028310</td>\n",
       "      <td>0.030283</td>\n",
       "      <td>0.024678</td>\n",
       "      <td>0.027411</td>\n",
       "      <td>153193</td>\n",
       "      <td>2775420.0</td>\n",
       "    </tr>\n",
       "    <tr>\n",
       "      <th>2016-08-16</th>\n",
       "      <td>0.023893</td>\n",
       "      <td>0.031045</td>\n",
       "      <td>0.022763</td>\n",
       "      <td>0.028699</td>\n",
       "      <td>218752</td>\n",
       "      <td>2342370.0</td>\n",
       "    </tr>\n",
       "    <tr>\n",
       "      <th>2016-08-15</th>\n",
       "      <td>0.024023</td>\n",
       "      <td>0.027224</td>\n",
       "      <td>0.019404</td>\n",
       "      <td>0.024511</td>\n",
       "      <td>221564</td>\n",
       "      <td>2355090.0</td>\n",
       "    </tr>\n",
       "    <tr>\n",
       "      <th>2016-08-14</th>\n",
       "      <td>0.014405</td>\n",
       "      <td>0.033588</td>\n",
       "      <td>0.013431</td>\n",
       "      <td>0.023960</td>\n",
       "      <td>603562</td>\n",
       "      <td>1412140.0</td>\n",
       "    </tr>\n",
       "    <tr>\n",
       "      <th>2016-08-13</th>\n",
       "      <td>0.011171</td>\n",
       "      <td>0.016318</td>\n",
       "      <td>0.008483</td>\n",
       "      <td>0.014405</td>\n",
       "      <td>156217</td>\n",
       "      <td>1095050.0</td>\n",
       "    </tr>\n",
       "  </tbody>\n",
       "</table>\n",
       "</div>"
      ],
      "text/plain": [
       "                Open      High       Low     Close  Volume  Market Cap\n",
       "Date                                                                  \n",
       "2016-08-17  0.028310  0.030283  0.024678  0.027411  153193   2775420.0\n",
       "2016-08-16  0.023893  0.031045  0.022763  0.028699  218752   2342370.0\n",
       "2016-08-15  0.024023  0.027224  0.019404  0.024511  221564   2355090.0\n",
       "2016-08-14  0.014405  0.033588  0.013431  0.023960  603562   1412140.0\n",
       "2016-08-13  0.011171  0.016318  0.008483  0.014405  156217   1095050.0"
      ]
     },
     "execution_count": 23,
     "metadata": {},
     "output_type": "execute_result"
    }
   ],
   "source": [
    "#new_df is the data with non NaN value\n",
    "new_df = df1[np.isfinite(df1['Market Cap'])]\n",
    "new_df.tail()"
   ]
  },
  {
   "cell_type": "code",
   "execution_count": 24,
   "metadata": {},
   "outputs": [
    {
     "data": {
      "text/html": [
       "<div>\n",
       "<style scoped>\n",
       "    .dataframe tbody tr th:only-of-type {\n",
       "        vertical-align: middle;\n",
       "    }\n",
       "\n",
       "    .dataframe tbody tr th {\n",
       "        vertical-align: top;\n",
       "    }\n",
       "\n",
       "    .dataframe thead th {\n",
       "        text-align: right;\n",
       "    }\n",
       "</style>\n",
       "<table border=\"1\" class=\"dataframe\">\n",
       "  <thead>\n",
       "    <tr style=\"text-align: right;\">\n",
       "      <th></th>\n",
       "      <th>Open</th>\n",
       "      <th>High</th>\n",
       "      <th>Low</th>\n",
       "      <th>Close</th>\n",
       "      <th>Volume</th>\n",
       "      <th>Market Cap</th>\n",
       "    </tr>\n",
       "  </thead>\n",
       "  <tbody>\n",
       "    <tr>\n",
       "      <th>Open</th>\n",
       "      <td>1.000000</td>\n",
       "      <td>0.994220</td>\n",
       "      <td>0.996361</td>\n",
       "      <td>0.990878</td>\n",
       "      <td>0.793638</td>\n",
       "      <td>1.000000</td>\n",
       "    </tr>\n",
       "    <tr>\n",
       "      <th>High</th>\n",
       "      <td>0.994220</td>\n",
       "      <td>1.000000</td>\n",
       "      <td>0.994195</td>\n",
       "      <td>0.996693</td>\n",
       "      <td>0.836907</td>\n",
       "      <td>0.994204</td>\n",
       "    </tr>\n",
       "    <tr>\n",
       "      <th>Low</th>\n",
       "      <td>0.996361</td>\n",
       "      <td>0.994195</td>\n",
       "      <td>1.000000</td>\n",
       "      <td>0.994821</td>\n",
       "      <td>0.796817</td>\n",
       "      <td>0.996365</td>\n",
       "    </tr>\n",
       "    <tr>\n",
       "      <th>Close</th>\n",
       "      <td>0.990878</td>\n",
       "      <td>0.996693</td>\n",
       "      <td>0.994821</td>\n",
       "      <td>1.000000</td>\n",
       "      <td>0.819005</td>\n",
       "      <td>0.990867</td>\n",
       "    </tr>\n",
       "    <tr>\n",
       "      <th>Volume</th>\n",
       "      <td>0.793638</td>\n",
       "      <td>0.836907</td>\n",
       "      <td>0.796817</td>\n",
       "      <td>0.819005</td>\n",
       "      <td>1.000000</td>\n",
       "      <td>0.793602</td>\n",
       "    </tr>\n",
       "    <tr>\n",
       "      <th>Market Cap</th>\n",
       "      <td>1.000000</td>\n",
       "      <td>0.994204</td>\n",
       "      <td>0.996365</td>\n",
       "      <td>0.990867</td>\n",
       "      <td>0.793602</td>\n",
       "      <td>1.000000</td>\n",
       "    </tr>\n",
       "  </tbody>\n",
       "</table>\n",
       "</div>"
      ],
      "text/plain": [
       "                Open      High       Low     Close    Volume  Market Cap\n",
       "Open        1.000000  0.994220  0.996361  0.990878  0.793638    1.000000\n",
       "High        0.994220  1.000000  0.994195  0.996693  0.836907    0.994204\n",
       "Low         0.996361  0.994195  1.000000  0.994821  0.796817    0.996365\n",
       "Close       0.990878  0.996693  0.994821  1.000000  0.819005    0.990867\n",
       "Volume      0.793638  0.836907  0.796817  0.819005  1.000000    0.793602\n",
       "Market Cap  1.000000  0.994204  0.996365  0.990867  0.793602    1.000000"
      ]
     },
     "execution_count": 24,
     "metadata": {},
     "output_type": "execute_result"
    }
   ],
   "source": [
    "# Lets see the correlation between each column\n",
    "correlation = new_df.corr(method=\"pearson\")\n",
    "correlation"
   ]
  },
  {
   "cell_type": "markdown",
   "metadata": {},
   "source": [
    "In the data frame above, we can inferred that Market Cap has a perfect relationship with Open"
   ]
  },
  {
   "cell_type": "markdown",
   "metadata": {},
   "source": [
    "Let's plot data between Market Cap and other variable, then see the relation between the data"
   ]
  },
  {
   "cell_type": "code",
   "execution_count": 25,
   "metadata": {
    "scrolled": true
   },
   "outputs": [
    {
     "data": {
      "image/png": "[encoded data removed]",
      "text/plain": [
       "<Figure size 432x288 with 5 Axes>"
      ]
     },
     "metadata": {
      "needs_background": "light"
     },
     "output_type": "display_data"
    }
   ],
   "source": [
    "import matplotlib.pyplot as plt\n",
    "def plot_data(xdata,ydata,xlabel):\n",
    "    plt.scatter(xdata,ydata,marker='+',color='red')\n",
    "    plt.ylabel('Market Cap')\n",
    "    plt.xlabel(xlabel)\n",
    "        \n",
    "plt.subplot(2,3,1)\n",
    "plot_data(new_df.Open, new_df['Market Cap'],'Open')\n",
    "plt.subplot(2,3,2)\n",
    "plot_data(new_df.Close, new_df['Market Cap'],'Close')\n",
    "plt.subplot(2,3,3)\n",
    "plot_data(new_df.High, new_df['Market Cap'],'High')\n",
    "plt.subplot(2,3,4)\n",
    "plot_data(new_df.Low, new_df['Market Cap'],'Low')\n",
    "plt.subplot(2,3,5)\n",
    "plot_data(new_df.Volume, new_df['Market Cap'],'Volume')"
   ]
  },
  {
   "cell_type": "code",
   "execution_count": 26,
   "metadata": {},
   "outputs": [],
   "source": [
    "from sklearn import linear_model\n",
    "\n",
    "model    = linear_model.LinearRegression()\n",
    "x        = new_df[['Open']]\n",
    "y        = new_df['Market Cap']"
   ]
  },
  {
   "cell_type": "code",
   "execution_count": 27,
   "metadata": {
    "scrolled": true
   },
   "outputs": [
    {
     "data": {
      "text/plain": [
       "LinearRegression(copy_X=True, fit_intercept=True, n_jobs=None,\n",
       "         normalize=False)"
      ]
     },
     "execution_count": 27,
     "metadata": {},
     "output_type": "execute_result"
    }
   ],
   "source": [
    "# train data using linear regression \n",
    "model.fit(x, y)"
   ]
  },
  {
   "cell_type": "code",
   "execution_count": 28,
   "metadata": {},
   "outputs": [
    {
     "data": {
      "text/plain": [
       "0.9999993479730721"
      ]
     },
     "execution_count": 28,
     "metadata": {},
     "output_type": "execute_result"
    }
   ],
   "source": [
    "# Model Score\n",
    "model.score(x, y)"
   ]
  },
  {
   "cell_type": "code",
   "execution_count": 29,
   "metadata": {},
   "outputs": [
    {
     "data": {
      "text/html": [
       "<div>\n",
       "<style scoped>\n",
       "    .dataframe tbody tr th:only-of-type {\n",
       "        vertical-align: middle;\n",
       "    }\n",
       "\n",
       "    .dataframe tbody tr th {\n",
       "        vertical-align: top;\n",
       "    }\n",
       "\n",
       "    .dataframe thead th {\n",
       "        text-align: right;\n",
       "    }\n",
       "</style>\n",
       "<table border=\"1\" class=\"dataframe\">\n",
       "  <thead>\n",
       "    <tr style=\"text-align: right;\">\n",
       "      <th></th>\n",
       "      <th>Open</th>\n",
       "      <th>High</th>\n",
       "      <th>Low</th>\n",
       "      <th>Close</th>\n",
       "      <th>Volume</th>\n",
       "      <th>Market Cap</th>\n",
       "      <th>Market Cap Predict</th>\n",
       "    </tr>\n",
       "    <tr>\n",
       "      <th>Date</th>\n",
       "      <th></th>\n",
       "      <th></th>\n",
       "      <th></th>\n",
       "      <th></th>\n",
       "      <th></th>\n",
       "      <th></th>\n",
       "      <th></th>\n",
       "    </tr>\n",
       "  </thead>\n",
       "  <tbody>\n",
       "    <tr>\n",
       "      <th>2016-08-12</th>\n",
       "      <td>0.013826</td>\n",
       "      <td>0.013897</td>\n",
       "      <td>0.009226</td>\n",
       "      <td>0.011175</td>\n",
       "      <td>48504</td>\n",
       "      <td>NaN</td>\n",
       "      <td>1338501</td>\n",
       "    </tr>\n",
       "  </tbody>\n",
       "</table>\n",
       "</div>"
      ],
      "text/plain": [
       "                Open      High       Low     Close  Volume  Market Cap  \\\n",
       "Date                                                                     \n",
       "2016-08-12  0.013826  0.013897  0.009226  0.011175   48504         NaN   \n",
       "\n",
       "            Market Cap Predict  \n",
       "Date                            \n",
       "2016-08-12             1338501  "
      ]
     },
     "execution_count": 29,
     "metadata": {},
     "output_type": "execute_result"
    }
   ],
   "source": [
    "# Fill Missing Data Using linear model prediction \n",
    "# and Assign it to new column\n",
    "x = df1[['Open']]\n",
    "y = model.predict(x) \n",
    "df1['Market Cap Predict'] = y.astype('int64')\n",
    "df1[df1['Market Cap'].isnull()].head()"
   ]
  },
  {
   "cell_type": "markdown",
   "metadata": {},
   "source": [
    "#### 4. Data Visualization"
   ]
  },
  {
   "cell_type": "code",
   "execution_count": 31,
   "metadata": {
    "scrolled": true
   },
   "outputs": [
    {
     "data": {
      "text/plain": [
       "<matplotlib.axes._subplots.AxesSubplot at 0x7f587960c710>"
      ]
     },
     "execution_count": 31,
     "metadata": {},
     "output_type": "execute_result"
    },
    {
     "data": {
      "image/png": "[encoded data removed]",
      "text/plain": [
       "<Figure size 432x288 with 6 Axes>"
      ]
     },
     "metadata": {
      "needs_background": "light"
     },
     "output_type": "display_data"
    }
   ],
   "source": [
    "# Visualization the average of Open based on time (Week)\n",
    "%matplotlib inline\n",
    "    \n",
    "plt.subplot(2,3,1)\n",
    "plt.ylabel('Open')\n",
    "df1.Open.resample('W').mean().plot()\n",
    "\n",
    "plt.subplot(2,3,2)\n",
    "plt.ylabel('High')\n",
    "df1.High.resample('W').mean().plot()\n",
    "\n",
    "plt.subplot(2,3,3)\n",
    "plt.ylabel('Low')\n",
    "df1.Low.resample('W').mean().plot()\n",
    "\n",
    "plt.subplot(2,3,4)\n",
    "plt.ylabel('Close')\n",
    "df1.Close.resample('W').mean().plot()\n",
    "\n",
    "plt.subplot(2,3,5)\n",
    "plt.ylabel('Volume')\n",
    "df1['Volume'].resample('W').mean().plot()\n",
    "\n",
    "plt.subplot(2,3,6)\n",
    "plt.ylabel('Market Cap Predict')\n",
    "df1['Market Cap Predict'].resample('W').mean().plot()"
   ]
  },
  {
   "cell_type": "code",
   "execution_count": null,
   "metadata": {},
   "outputs": [],
   "source": []
  }
 ],
 "metadata": {
  "kernelspec": {
   "display_name": "Python 3",
   "language": "python",
   "name": "python3"
  },
  "language_info": {
   "codemirror_mode": {
    "name": "ipython",
    "version": 3
   },
   "file_extension": ".py",
   "mimetype": "text/x-python",
   "name": "python",
   "nbconvert_exporter": "python",
   "pygments_lexer": "ipython3",
   "version": "3.7.1"
  }
 },
 "nbformat": 4,
 "nbformat_minor": 2
}
