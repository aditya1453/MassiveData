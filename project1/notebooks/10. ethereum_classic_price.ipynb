{
 "cells": [
  {
   "cell_type": "markdown",
   "metadata": {},
   "source": [
    "### Masive Data Lab Activities\n",
    "\n",
    "Description : Read and Cleaning Data\n",
    "File        : ethereum_classic_price.csv \n",
    "Name        : Yudi Aditya"
   ]
  },
  {
   "cell_type": "code",
   "execution_count": 1,
   "metadata": {},
   "outputs": [],
   "source": [
    "import pandas as pd\n",
    "import numpy as np\n",
    "import seaborn as sns\n",
    "import matplotlib.pyplot as plt"
   ]
  },
  {
   "cell_type": "markdown",
   "metadata": {},
   "source": [
    "### Bitcoin Cash Price"
   ]
  },
  {
   "cell_type": "markdown",
   "metadata": {},
   "source": [
    "#### 1. Reading Data"
   ]
  },
  {
   "cell_type": "code",
   "execution_count": 2,
   "metadata": {
    "scrolled": false
   },
   "outputs": [
    {
     "data": {
      "text/html": [
       "<div>\n",
       "<style scoped>\n",
       "    .dataframe tbody tr th:only-of-type {\n",
       "        vertical-align: middle;\n",
       "    }\n",
       "\n",
       "    .dataframe tbody tr th {\n",
       "        vertical-align: top;\n",
       "    }\n",
       "\n",
       "    .dataframe thead th {\n",
       "        text-align: right;\n",
       "    }\n",
       "</style>\n",
       "<table border=\"1\" class=\"dataframe\">\n",
       "  <thead>\n",
       "    <tr style=\"text-align: right;\">\n",
       "      <th></th>\n",
       "      <th>Date</th>\n",
       "      <th>Open</th>\n",
       "      <th>High</th>\n",
       "      <th>Low</th>\n",
       "      <th>Close</th>\n",
       "      <th>Volume</th>\n",
       "      <th>Market Cap</th>\n",
       "    </tr>\n",
       "  </thead>\n",
       "  <tbody>\n",
       "    <tr>\n",
       "      <th>0</th>\n",
       "      <td>2017-09-05</td>\n",
       "      <td>15.82</td>\n",
       "      <td>16.85</td>\n",
       "      <td>14.30</td>\n",
       "      <td>16.58</td>\n",
       "      <td>218,190,000</td>\n",
       "      <td>1,506,490,000</td>\n",
       "    </tr>\n",
       "    <tr>\n",
       "      <th>1</th>\n",
       "      <td>2017-09-04</td>\n",
       "      <td>18.54</td>\n",
       "      <td>18.71</td>\n",
       "      <td>15.37</td>\n",
       "      <td>15.84</td>\n",
       "      <td>243,535,000</td>\n",
       "      <td>1,764,650,000</td>\n",
       "    </tr>\n",
       "    <tr>\n",
       "      <th>2</th>\n",
       "      <td>2017-09-03</td>\n",
       "      <td>20.18</td>\n",
       "      <td>20.47</td>\n",
       "      <td>18.07</td>\n",
       "      <td>18.57</td>\n",
       "      <td>221,986,000</td>\n",
       "      <td>1,920,050,000</td>\n",
       "    </tr>\n",
       "    <tr>\n",
       "      <th>3</th>\n",
       "      <td>2017-09-02</td>\n",
       "      <td>22.04</td>\n",
       "      <td>23.68</td>\n",
       "      <td>18.18</td>\n",
       "      <td>20.08</td>\n",
       "      <td>648,787,000</td>\n",
       "      <td>2,096,550,000</td>\n",
       "    </tr>\n",
       "    <tr>\n",
       "      <th>4</th>\n",
       "      <td>2017-09-01</td>\n",
       "      <td>16.40</td>\n",
       "      <td>22.45</td>\n",
       "      <td>16.32</td>\n",
       "      <td>21.94</td>\n",
       "      <td>821,440,000</td>\n",
       "      <td>1,559,510,000</td>\n",
       "    </tr>\n",
       "  </tbody>\n",
       "</table>\n",
       "</div>"
      ],
      "text/plain": [
       "        Date   Open   High    Low  Close       Volume     Market Cap\n",
       "0 2017-09-05  15.82  16.85  14.30  16.58  218,190,000  1,506,490,000\n",
       "1 2017-09-04  18.54  18.71  15.37  15.84  243,535,000  1,764,650,000\n",
       "2 2017-09-03  20.18  20.47  18.07  18.57  221,986,000  1,920,050,000\n",
       "3 2017-09-02  22.04  23.68  18.18  20.08  648,787,000  2,096,550,000\n",
       "4 2017-09-01  16.40  22.45  16.32  21.94  821,440,000  1,559,510,000"
      ]
     },
     "execution_count": 2,
     "metadata": {},
     "output_type": "execute_result"
    }
   ],
   "source": [
    "# Read Bitcoin Cash Price\n",
    "df1 = pd.read_csv('../data/raw/cryptocurrencypricehistory/ethereum_classic_price.csv', parse_dates = ['Date'])\n",
    "df1.head()"
   ]
  },
  {
   "cell_type": "code",
   "execution_count": 3,
   "metadata": {},
   "outputs": [
    {
     "data": {
      "text/plain": [
       "pandas._libs.tslibs.timestamps.Timestamp"
      ]
     },
     "execution_count": 3,
     "metadata": {},
     "output_type": "execute_result"
    }
   ],
   "source": [
    "type(df1.Date[0])"
   ]
  },
  {
   "cell_type": "code",
   "execution_count": 4,
   "metadata": {},
   "outputs": [],
   "source": [
    "# Set Date as it's index\n",
    "df1.set_index('Date', inplace = True )"
   ]
  },
  {
   "cell_type": "code",
   "execution_count": 5,
   "metadata": {
    "scrolled": true
   },
   "outputs": [
    {
     "name": "stdout",
     "output_type": "stream",
     "text": [
      "<class 'pandas.core.frame.DataFrame'>\n",
      "DatetimeIndex: 409 entries, 2017-09-05 to 2016-07-24\n",
      "Data columns (total 6 columns):\n",
      "Open          409 non-null float64\n",
      "High          409 non-null float64\n",
      "Low           409 non-null float64\n",
      "Close         409 non-null float64\n",
      "Volume        409 non-null object\n",
      "Market Cap    409 non-null object\n",
      "dtypes: float64(4), object(2)\n",
      "memory usage: 22.4+ KB\n"
     ]
    }
   ],
   "source": [
    "# Get General Information regarding data frame\n",
    "df1.info()"
   ]
  },
  {
   "cell_type": "markdown",
   "metadata": {},
   "source": [
    "- The data frame has 409 entries and 6 columns. \n",
    "- All columns has 409 elements, probably there's no missing data. Especially for Open, high, Low, and Close. To make it sure, We'll see for this\n",
    "- Volume and Market Cap's data type are an object, it should be number."
   ]
  },
  {
   "cell_type": "code",
   "execution_count": 6,
   "metadata": {},
   "outputs": [],
   "source": [
    "# Replace missing data as NaN\n",
    "df1.replace('-', np.nan,inplace=True)"
   ]
  },
  {
   "cell_type": "code",
   "execution_count": 7,
   "metadata": {
    "scrolled": true
   },
   "outputs": [
    {
     "data": {
      "text/plain": [
       "Open          0\n",
       "High          0\n",
       "Low           0\n",
       "Close         0\n",
       "Volume        0\n",
       "Market Cap    1\n",
       "dtype: int64"
      ]
     },
     "execution_count": 7,
     "metadata": {},
     "output_type": "execute_result"
    }
   ],
   "source": [
    "# Count missing data in each column\n",
    "df1.isnull().sum()"
   ]
  },
  {
   "cell_type": "markdown",
   "metadata": {},
   "source": [
    "#### 2. Cleaning Data Part (Deal with Wrong Format)"
   ]
  },
  {
   "cell_type": "markdown",
   "metadata": {},
   "source": [
    "Problem :\n",
    "- Some data has different format, therefore Volume and Market Cap recognize as a string, not a number.\n",
    "- There are missing data (1 Data)\n",
    "\n",
    "Solution:\n",
    "- Convert to float number\n",
    "- Using Fillna or interpolation Method"
   ]
  },
  {
   "cell_type": "code",
   "execution_count": 8,
   "metadata": {},
   "outputs": [
    {
     "name": "stdout",
     "output_type": "stream",
     "text": [
      "Volume Data Type : <class 'str'>\n",
      "Market Cap Data Type : <class 'str'>\n"
     ]
    }
   ],
   "source": [
    "print('Volume Data Type :', type(df1.Volume[0]))\n",
    "print('Market Cap Data Type :', type(df1['Market Cap'][0]))"
   ]
  },
  {
   "cell_type": "code",
   "execution_count": 9,
   "metadata": {
    "scrolled": false
   },
   "outputs": [
    {
     "name": "stdout",
     "output_type": "stream",
     "text": [
      "<class 'pandas.core.frame.DataFrame'>\n",
      "DatetimeIndex: 409 entries, 2017-09-05 to 2016-07-24\n",
      "Data columns (total 6 columns):\n",
      "Open          409 non-null float64\n",
      "High          409 non-null float64\n",
      "Low           409 non-null float64\n",
      "Close         409 non-null float64\n",
      "Volume        409 non-null int64\n",
      "Market Cap    408 non-null float64\n",
      "dtypes: float64(5), int64(1)\n",
      "memory usage: 42.4 KB\n"
     ]
    }
   ],
   "source": [
    "#convert data to number\n",
    "def convert_to_number(x):\n",
    "    try:\n",
    "        return int(x.replace(',',''))\n",
    "    except:\n",
    "        return x\n",
    "\n",
    "df1.Volume = df1.Volume.apply(convert_to_number)\n",
    "df1['Market Cap'] = df1['Market Cap'].apply(convert_to_number)\n",
    "\n",
    "df1.info()"
   ]
  },
  {
   "cell_type": "code",
   "execution_count": 10,
   "metadata": {
    "scrolled": true
   },
   "outputs": [
    {
     "data": {
      "text/html": [
       "<div>\n",
       "<style scoped>\n",
       "    .dataframe tbody tr th:only-of-type {\n",
       "        vertical-align: middle;\n",
       "    }\n",
       "\n",
       "    .dataframe tbody tr th {\n",
       "        vertical-align: top;\n",
       "    }\n",
       "\n",
       "    .dataframe thead th {\n",
       "        text-align: right;\n",
       "    }\n",
       "</style>\n",
       "<table border=\"1\" class=\"dataframe\">\n",
       "  <thead>\n",
       "    <tr style=\"text-align: right;\">\n",
       "      <th></th>\n",
       "      <th>Open</th>\n",
       "      <th>High</th>\n",
       "      <th>Low</th>\n",
       "      <th>Close</th>\n",
       "      <th>Volume</th>\n",
       "      <th>Market Cap</th>\n",
       "    </tr>\n",
       "  </thead>\n",
       "  <tbody>\n",
       "    <tr>\n",
       "      <th>count</th>\n",
       "      <td>409.000000</td>\n",
       "      <td>409.000000</td>\n",
       "      <td>409.000000</td>\n",
       "      <td>409.000000</td>\n",
       "      <td>4.090000e+02</td>\n",
       "      <td>4.080000e+02</td>\n",
       "    </tr>\n",
       "    <tr>\n",
       "      <th>mean</th>\n",
       "      <td>5.775844</td>\n",
       "      <td>6.094761</td>\n",
       "      <td>5.475332</td>\n",
       "      <td>5.812246</td>\n",
       "      <td>4.833992e+07</td>\n",
       "      <td>5.338094e+08</td>\n",
       "    </tr>\n",
       "    <tr>\n",
       "      <th>std</th>\n",
       "      <td>6.794953</td>\n",
       "      <td>7.170771</td>\n",
       "      <td>6.398472</td>\n",
       "      <td>6.806962</td>\n",
       "      <td>1.008472e+08</td>\n",
       "      <td>6.388339e+08</td>\n",
       "    </tr>\n",
       "    <tr>\n",
       "      <th>min</th>\n",
       "      <td>0.604737</td>\n",
       "      <td>0.766068</td>\n",
       "      <td>0.452446</td>\n",
       "      <td>0.602402</td>\n",
       "      <td>2.673670e+05</td>\n",
       "      <td>4.976830e+07</td>\n",
       "    </tr>\n",
       "    <tr>\n",
       "      <th>25%</th>\n",
       "      <td>1.210000</td>\n",
       "      <td>1.240000</td>\n",
       "      <td>1.170000</td>\n",
       "      <td>1.210000</td>\n",
       "      <td>1.366170e+06</td>\n",
       "      <td>1.045622e+08</td>\n",
       "    </tr>\n",
       "    <tr>\n",
       "      <th>50%</th>\n",
       "      <td>1.610000</td>\n",
       "      <td>1.740000</td>\n",
       "      <td>1.440000</td>\n",
       "      <td>1.610000</td>\n",
       "      <td>5.549740e+06</td>\n",
       "      <td>1.358010e+08</td>\n",
       "    </tr>\n",
       "    <tr>\n",
       "      <th>75%</th>\n",
       "      <td>13.690000</td>\n",
       "      <td>14.110000</td>\n",
       "      <td>12.250000</td>\n",
       "      <td>13.810000</td>\n",
       "      <td>5.243400e+07</td>\n",
       "      <td>1.294485e+09</td>\n",
       "    </tr>\n",
       "    <tr>\n",
       "      <th>max</th>\n",
       "      <td>23.030000</td>\n",
       "      <td>24.620000</td>\n",
       "      <td>21.970000</td>\n",
       "      <td>23.270000</td>\n",
       "      <td>8.214400e+08</td>\n",
       "      <td>2.135600e+09</td>\n",
       "    </tr>\n",
       "  </tbody>\n",
       "</table>\n",
       "</div>"
      ],
      "text/plain": [
       "             Open        High         Low       Close        Volume  \\\n",
       "count  409.000000  409.000000  409.000000  409.000000  4.090000e+02   \n",
       "mean     5.775844    6.094761    5.475332    5.812246  4.833992e+07   \n",
       "std      6.794953    7.170771    6.398472    6.806962  1.008472e+08   \n",
       "min      0.604737    0.766068    0.452446    0.602402  2.673670e+05   \n",
       "25%      1.210000    1.240000    1.170000    1.210000  1.366170e+06   \n",
       "50%      1.610000    1.740000    1.440000    1.610000  5.549740e+06   \n",
       "75%     13.690000   14.110000   12.250000   13.810000  5.243400e+07   \n",
       "max     23.030000   24.620000   21.970000   23.270000  8.214400e+08   \n",
       "\n",
       "         Market Cap  \n",
       "count  4.080000e+02  \n",
       "mean   5.338094e+08  \n",
       "std    6.388339e+08  \n",
       "min    4.976830e+07  \n",
       "25%    1.045622e+08  \n",
       "50%    1.358010e+08  \n",
       "75%    1.294485e+09  \n",
       "max    2.135600e+09  "
      ]
     },
     "execution_count": 10,
     "metadata": {},
     "output_type": "execute_result"
    }
   ],
   "source": [
    "df1.describe()"
   ]
  },
  {
   "cell_type": "code",
   "execution_count": 11,
   "metadata": {
    "scrolled": true
   },
   "outputs": [
    {
     "data": {
      "text/html": [
       "<div>\n",
       "<style scoped>\n",
       "    .dataframe tbody tr th:only-of-type {\n",
       "        vertical-align: middle;\n",
       "    }\n",
       "\n",
       "    .dataframe tbody tr th {\n",
       "        vertical-align: top;\n",
       "    }\n",
       "\n",
       "    .dataframe thead th {\n",
       "        text-align: right;\n",
       "    }\n",
       "</style>\n",
       "<table border=\"1\" class=\"dataframe\">\n",
       "  <thead>\n",
       "    <tr style=\"text-align: right;\">\n",
       "      <th></th>\n",
       "      <th>Open</th>\n",
       "      <th>High</th>\n",
       "      <th>Low</th>\n",
       "      <th>Close</th>\n",
       "      <th>Volume</th>\n",
       "      <th>Market Cap</th>\n",
       "    </tr>\n",
       "    <tr>\n",
       "      <th>Date</th>\n",
       "      <th></th>\n",
       "      <th></th>\n",
       "      <th></th>\n",
       "      <th></th>\n",
       "      <th></th>\n",
       "      <th></th>\n",
       "    </tr>\n",
       "  </thead>\n",
       "  <tbody>\n",
       "    <tr>\n",
       "      <th>2016-07-28</th>\n",
       "      <td>1.560000</td>\n",
       "      <td>1.920000</td>\n",
       "      <td>1.370000</td>\n",
       "      <td>1.730000</td>\n",
       "      <td>40291300</td>\n",
       "      <td>128530000.0</td>\n",
       "    </tr>\n",
       "    <tr>\n",
       "      <th>2016-07-27</th>\n",
       "      <td>2.460000</td>\n",
       "      <td>2.460000</td>\n",
       "      <td>1.260000</td>\n",
       "      <td>1.600000</td>\n",
       "      <td>62645700</td>\n",
       "      <td>202315000.0</td>\n",
       "    </tr>\n",
       "    <tr>\n",
       "      <th>2016-07-26</th>\n",
       "      <td>0.604737</td>\n",
       "      <td>2.850000</td>\n",
       "      <td>0.600358</td>\n",
       "      <td>2.550000</td>\n",
       "      <td>103066000</td>\n",
       "      <td>49768300.0</td>\n",
       "    </tr>\n",
       "    <tr>\n",
       "      <th>2016-07-25</th>\n",
       "      <td>0.931993</td>\n",
       "      <td>0.932862</td>\n",
       "      <td>0.452446</td>\n",
       "      <td>0.602402</td>\n",
       "      <td>9308400</td>\n",
       "      <td>76700600.0</td>\n",
       "    </tr>\n",
       "    <tr>\n",
       "      <th>2016-07-24</th>\n",
       "      <td>0.752345</td>\n",
       "      <td>0.959354</td>\n",
       "      <td>0.737342</td>\n",
       "      <td>0.928814</td>\n",
       "      <td>17769300</td>\n",
       "      <td>NaN</td>\n",
       "    </tr>\n",
       "  </tbody>\n",
       "</table>\n",
       "</div>"
      ],
      "text/plain": [
       "                Open      High       Low     Close     Volume   Market Cap\n",
       "Date                                                                      \n",
       "2016-07-28  1.560000  1.920000  1.370000  1.730000   40291300  128530000.0\n",
       "2016-07-27  2.460000  2.460000  1.260000  1.600000   62645700  202315000.0\n",
       "2016-07-26  0.604737  2.850000  0.600358  2.550000  103066000   49768300.0\n",
       "2016-07-25  0.931993  0.932862  0.452446  0.602402    9308400   76700600.0\n",
       "2016-07-24  0.752345  0.959354  0.737342  0.928814   17769300          NaN"
      ]
     },
     "execution_count": 11,
     "metadata": {},
     "output_type": "execute_result"
    }
   ],
   "source": [
    "df1.tail()"
   ]
  },
  {
   "cell_type": "markdown",
   "metadata": {},
   "source": [
    "#### 3. Cleaning Data 2 (Deal with Missing Data)"
   ]
  },
  {
   "cell_type": "code",
   "execution_count": 12,
   "metadata": {},
   "outputs": [
    {
     "data": {
      "text/html": [
       "<div>\n",
       "<style scoped>\n",
       "    .dataframe tbody tr th:only-of-type {\n",
       "        vertical-align: middle;\n",
       "    }\n",
       "\n",
       "    .dataframe tbody tr th {\n",
       "        vertical-align: top;\n",
       "    }\n",
       "\n",
       "    .dataframe thead th {\n",
       "        text-align: right;\n",
       "    }\n",
       "</style>\n",
       "<table border=\"1\" class=\"dataframe\">\n",
       "  <thead>\n",
       "    <tr style=\"text-align: right;\">\n",
       "      <th></th>\n",
       "      <th>Open</th>\n",
       "      <th>High</th>\n",
       "      <th>Low</th>\n",
       "      <th>Close</th>\n",
       "      <th>Volume</th>\n",
       "      <th>Market Cap</th>\n",
       "    </tr>\n",
       "    <tr>\n",
       "      <th>Date</th>\n",
       "      <th></th>\n",
       "      <th></th>\n",
       "      <th></th>\n",
       "      <th></th>\n",
       "      <th></th>\n",
       "      <th></th>\n",
       "    </tr>\n",
       "  </thead>\n",
       "  <tbody>\n",
       "    <tr>\n",
       "      <th>2016-07-29</th>\n",
       "      <td>1.710000</td>\n",
       "      <td>1.800000</td>\n",
       "      <td>1.550000</td>\n",
       "      <td>1.640000</td>\n",
       "      <td>20745500</td>\n",
       "      <td>140887000.0</td>\n",
       "    </tr>\n",
       "    <tr>\n",
       "      <th>2016-07-28</th>\n",
       "      <td>1.560000</td>\n",
       "      <td>1.920000</td>\n",
       "      <td>1.370000</td>\n",
       "      <td>1.730000</td>\n",
       "      <td>40291300</td>\n",
       "      <td>128530000.0</td>\n",
       "    </tr>\n",
       "    <tr>\n",
       "      <th>2016-07-27</th>\n",
       "      <td>2.460000</td>\n",
       "      <td>2.460000</td>\n",
       "      <td>1.260000</td>\n",
       "      <td>1.600000</td>\n",
       "      <td>62645700</td>\n",
       "      <td>202315000.0</td>\n",
       "    </tr>\n",
       "    <tr>\n",
       "      <th>2016-07-26</th>\n",
       "      <td>0.604737</td>\n",
       "      <td>2.850000</td>\n",
       "      <td>0.600358</td>\n",
       "      <td>2.550000</td>\n",
       "      <td>103066000</td>\n",
       "      <td>49768300.0</td>\n",
       "    </tr>\n",
       "    <tr>\n",
       "      <th>2016-07-25</th>\n",
       "      <td>0.931993</td>\n",
       "      <td>0.932862</td>\n",
       "      <td>0.452446</td>\n",
       "      <td>0.602402</td>\n",
       "      <td>9308400</td>\n",
       "      <td>76700600.0</td>\n",
       "    </tr>\n",
       "  </tbody>\n",
       "</table>\n",
       "</div>"
      ],
      "text/plain": [
       "                Open      High       Low     Close     Volume   Market Cap\n",
       "Date                                                                      \n",
       "2016-07-29  1.710000  1.800000  1.550000  1.640000   20745500  140887000.0\n",
       "2016-07-28  1.560000  1.920000  1.370000  1.730000   40291300  128530000.0\n",
       "2016-07-27  2.460000  2.460000  1.260000  1.600000   62645700  202315000.0\n",
       "2016-07-26  0.604737  2.850000  0.600358  2.550000  103066000   49768300.0\n",
       "2016-07-25  0.931993  0.932862  0.452446  0.602402    9308400   76700600.0"
      ]
     },
     "execution_count": 12,
     "metadata": {},
     "output_type": "execute_result"
    }
   ],
   "source": [
    "#new_df is the data with non NaN value\n",
    "new_df = df1[np.isfinite(df1['Market Cap'])]\n",
    "new_df.tail()"
   ]
  },
  {
   "cell_type": "code",
   "execution_count": 13,
   "metadata": {
    "scrolled": true
   },
   "outputs": [
    {
     "data": {
      "text/html": [
       "<div>\n",
       "<style scoped>\n",
       "    .dataframe tbody tr th:only-of-type {\n",
       "        vertical-align: middle;\n",
       "    }\n",
       "\n",
       "    .dataframe tbody tr th {\n",
       "        vertical-align: top;\n",
       "    }\n",
       "\n",
       "    .dataframe thead th {\n",
       "        text-align: right;\n",
       "    }\n",
       "</style>\n",
       "<table border=\"1\" class=\"dataframe\">\n",
       "  <thead>\n",
       "    <tr style=\"text-align: right;\">\n",
       "      <th></th>\n",
       "      <th>Open</th>\n",
       "      <th>High</th>\n",
       "      <th>Low</th>\n",
       "      <th>Close</th>\n",
       "      <th>Volume</th>\n",
       "      <th>Market Cap</th>\n",
       "    </tr>\n",
       "  </thead>\n",
       "  <tbody>\n",
       "    <tr>\n",
       "      <th>Open</th>\n",
       "      <td>1.000000</td>\n",
       "      <td>0.994666</td>\n",
       "      <td>0.996921</td>\n",
       "      <td>0.993347</td>\n",
       "      <td>0.686222</td>\n",
       "      <td>0.999885</td>\n",
       "    </tr>\n",
       "    <tr>\n",
       "      <th>High</th>\n",
       "      <td>0.994666</td>\n",
       "      <td>1.000000</td>\n",
       "      <td>0.992387</td>\n",
       "      <td>0.997626</td>\n",
       "      <td>0.736228</td>\n",
       "      <td>0.994373</td>\n",
       "    </tr>\n",
       "    <tr>\n",
       "      <th>Low</th>\n",
       "      <td>0.996921</td>\n",
       "      <td>0.992387</td>\n",
       "      <td>1.000000</td>\n",
       "      <td>0.994867</td>\n",
       "      <td>0.665171</td>\n",
       "      <td>0.997050</td>\n",
       "    </tr>\n",
       "    <tr>\n",
       "      <th>Close</th>\n",
       "      <td>0.993347</td>\n",
       "      <td>0.997626</td>\n",
       "      <td>0.994867</td>\n",
       "      <td>1.000000</td>\n",
       "      <td>0.712638</td>\n",
       "      <td>0.993213</td>\n",
       "    </tr>\n",
       "    <tr>\n",
       "      <th>Volume</th>\n",
       "      <td>0.686222</td>\n",
       "      <td>0.736228</td>\n",
       "      <td>0.665171</td>\n",
       "      <td>0.712638</td>\n",
       "      <td>1.000000</td>\n",
       "      <td>0.685504</td>\n",
       "    </tr>\n",
       "    <tr>\n",
       "      <th>Market Cap</th>\n",
       "      <td>0.999885</td>\n",
       "      <td>0.994373</td>\n",
       "      <td>0.997050</td>\n",
       "      <td>0.993213</td>\n",
       "      <td>0.685504</td>\n",
       "      <td>1.000000</td>\n",
       "    </tr>\n",
       "  </tbody>\n",
       "</table>\n",
       "</div>"
      ],
      "text/plain": [
       "                Open      High       Low     Close    Volume  Market Cap\n",
       "Open        1.000000  0.994666  0.996921  0.993347  0.686222    0.999885\n",
       "High        0.994666  1.000000  0.992387  0.997626  0.736228    0.994373\n",
       "Low         0.996921  0.992387  1.000000  0.994867  0.665171    0.997050\n",
       "Close       0.993347  0.997626  0.994867  1.000000  0.712638    0.993213\n",
       "Volume      0.686222  0.736228  0.665171  0.712638  1.000000    0.685504\n",
       "Market Cap  0.999885  0.994373  0.997050  0.993213  0.685504    1.000000"
      ]
     },
     "execution_count": 13,
     "metadata": {},
     "output_type": "execute_result"
    }
   ],
   "source": [
    "# Lets see the correlation between each column\n",
    "correlation = new_df.corr(method=\"pearson\")\n",
    "correlation"
   ]
  },
  {
   "cell_type": "markdown",
   "metadata": {},
   "source": [
    "In the data frame above, we can inferred that Market Cap has a strong relationship (Linear) with Open."
   ]
  },
  {
   "cell_type": "code",
   "execution_count": 14,
   "metadata": {},
   "outputs": [],
   "source": [
    "from sklearn import linear_model\n",
    "\n",
    "model       = linear_model.LinearRegression()\n",
    "Open        = new_df[['Open']]\n",
    "Market_Cap  = new_df['Market Cap']"
   ]
  },
  {
   "cell_type": "code",
   "execution_count": 15,
   "metadata": {},
   "outputs": [
    {
     "data": {
      "text/plain": [
       "LinearRegression(copy_X=True, fit_intercept=True, n_jobs=None,\n",
       "         normalize=False)"
      ]
     },
     "execution_count": 15,
     "metadata": {},
     "output_type": "execute_result"
    }
   ],
   "source": [
    "# train data using linear regression \n",
    "model.fit(Open, Market_Cap)"
   ]
  },
  {
   "cell_type": "code",
   "execution_count": 16,
   "metadata": {},
   "outputs": [
    {
     "data": {
      "text/plain": [
       "0.999769768196787"
      ]
     },
     "execution_count": 16,
     "metadata": {},
     "output_type": "execute_result"
    }
   ],
   "source": [
    "# Model Score\n",
    "model.score(Open, Market_Cap)"
   ]
  },
  {
   "cell_type": "code",
   "execution_count": 17,
   "metadata": {},
   "outputs": [
    {
     "data": {
      "text/html": [
       "<div>\n",
       "<style scoped>\n",
       "    .dataframe tbody tr th:only-of-type {\n",
       "        vertical-align: middle;\n",
       "    }\n",
       "\n",
       "    .dataframe tbody tr th {\n",
       "        vertical-align: top;\n",
       "    }\n",
       "\n",
       "    .dataframe thead th {\n",
       "        text-align: right;\n",
       "    }\n",
       "</style>\n",
       "<table border=\"1\" class=\"dataframe\">\n",
       "  <thead>\n",
       "    <tr style=\"text-align: right;\">\n",
       "      <th></th>\n",
       "      <th>Open</th>\n",
       "      <th>High</th>\n",
       "      <th>Low</th>\n",
       "      <th>Close</th>\n",
       "      <th>Volume</th>\n",
       "      <th>Market Cap</th>\n",
       "      <th>Market Cap Predict</th>\n",
       "    </tr>\n",
       "    <tr>\n",
       "      <th>Date</th>\n",
       "      <th></th>\n",
       "      <th></th>\n",
       "      <th></th>\n",
       "      <th></th>\n",
       "      <th></th>\n",
       "      <th></th>\n",
       "      <th></th>\n",
       "    </tr>\n",
       "  </thead>\n",
       "  <tbody>\n",
       "    <tr>\n",
       "      <th>2016-07-24</th>\n",
       "      <td>0.752345</td>\n",
       "      <td>0.959354</td>\n",
       "      <td>0.737342</td>\n",
       "      <td>0.928814</td>\n",
       "      <td>17769300</td>\n",
       "      <td>NaN</td>\n",
       "      <td>60679985</td>\n",
       "    </tr>\n",
       "  </tbody>\n",
       "</table>\n",
       "</div>"
      ],
      "text/plain": [
       "                Open      High       Low     Close    Volume  Market Cap  \\\n",
       "Date                                                                       \n",
       "2016-07-24  0.752345  0.959354  0.737342  0.928814  17769300         NaN   \n",
       "\n",
       "            Market Cap Predict  \n",
       "Date                            \n",
       "2016-07-24            60679985  "
      ]
     },
     "execution_count": 17,
     "metadata": {},
     "output_type": "execute_result"
    }
   ],
   "source": [
    "# Fill Missing Data Using linear model prediction \n",
    "# and Assign it to new column\n",
    "open = df1[['Open']]\n",
    "market_cap_predict = model.predict(open) \n",
    "df1['Market Cap Predict'] = market_cap_predict.astype('int64')\n",
    "df1[df1['Market Cap'].isnull()].head()"
   ]
  },
  {
   "cell_type": "markdown",
   "metadata": {},
   "source": [
    "#### 4. Data Visualization"
   ]
  },
  {
   "cell_type": "code",
   "execution_count": 18,
   "metadata": {
    "scrolled": true
   },
   "outputs": [
    {
     "data": {
      "text/plain": [
       "<matplotlib.axes._subplots.AxesSubplot at 0x7f44f320e320>"
      ]
     },
     "execution_count": 18,
     "metadata": {},
     "output_type": "execute_result"
    },
    {
     "data": {
      "image/png": "[encoded data removed]",
      "text/plain": [
       "<Figure size 432x288 with 6 Axes>"
      ]
     },
     "metadata": {
      "needs_background": "light"
     },
     "output_type": "display_data"
    }
   ],
   "source": [
    "# Visualization the average of Open based on time (Week)\n",
    "%matplotlib inline\n",
    "    \n",
    "plt.subplot(2,3,1)\n",
    "plt.ylabel('Open')\n",
    "df1.Open.resample('W').mean().plot()\n",
    "\n",
    "plt.subplot(2,3,2)\n",
    "plt.ylabel('High')\n",
    "df1.High.resample('W').mean().plot()\n",
    "\n",
    "plt.subplot(2,3,3)\n",
    "plt.ylabel('Low')\n",
    "df1.Low.resample('W').mean().plot()\n",
    "\n",
    "plt.subplot(2,3,4)\n",
    "plt.ylabel('Close')\n",
    "df1.Close.resample('W').mean().plot()\n",
    "\n",
    "plt.subplot(2,3,5)\n",
    "plt.ylabel('Volume')\n",
    "df1.Volume.resample('W').mean().plot()\n",
    "\n",
    "plt.subplot(2,3,6)\n",
    "plt.ylabel('Market Cap Predict')\n",
    "df1['Market Cap Predict'].resample('W').mean().plot()"
   ]
  },
  {
   "cell_type": "code",
   "execution_count": null,
   "metadata": {},
   "outputs": [],
   "source": []
  }
 ],
 "metadata": {
  "kernelspec": {
   "display_name": "Python 3",
   "language": "python",
   "name": "python3"
  },
  "language_info": {
   "codemirror_mode": {
    "name": "ipython",
    "version": 3
   },
   "file_extension": ".py",
   "mimetype": "text/x-python",
   "name": "python",
   "nbconvert_exporter": "python",
   "pygments_lexer": "ipython3",
   "version": "3.7.1"
  }
 },
 "nbformat": 4,
 "nbformat_minor": 2
}
