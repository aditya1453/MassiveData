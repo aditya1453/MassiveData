{
 "cells": [
  {
   "cell_type": "markdown",
   "metadata": {},
   "source": [
    "### Masive Data Lab Activities\n",
    "\n",
    "Description : Read and Cleaning Data\n",
    "File        : ripple_price.csv \n",
    "Name        : Yudi Aditya"
   ]
  },
  {
   "cell_type": "code",
   "execution_count": 1,
   "metadata": {},
   "outputs": [],
   "source": [
    "import pandas as pd\n",
    "import numpy as np\n",
    "import seaborn as sns\n",
    "import matplotlib.pyplot as plt"
   ]
  },
  {
   "cell_type": "markdown",
   "metadata": {},
   "source": [
    "### Bitcoin Cash Price"
   ]
  },
  {
   "cell_type": "markdown",
   "metadata": {},
   "source": [
    "#### 1. Reading Data"
   ]
  },
  {
   "cell_type": "code",
   "execution_count": 2,
   "metadata": {
    "scrolled": false
   },
   "outputs": [
    {
     "data": {
      "text/html": [
       "<div>\n",
       "<style scoped>\n",
       "    .dataframe tbody tr th:only-of-type {\n",
       "        vertical-align: middle;\n",
       "    }\n",
       "\n",
       "    .dataframe tbody tr th {\n",
       "        vertical-align: top;\n",
       "    }\n",
       "\n",
       "    .dataframe thead th {\n",
       "        text-align: right;\n",
       "    }\n",
       "</style>\n",
       "<table border=\"1\" class=\"dataframe\">\n",
       "  <thead>\n",
       "    <tr style=\"text-align: right;\">\n",
       "      <th></th>\n",
       "      <th>Date</th>\n",
       "      <th>Open</th>\n",
       "      <th>High</th>\n",
       "      <th>Low</th>\n",
       "      <th>Close</th>\n",
       "      <th>Volume</th>\n",
       "      <th>Market Cap</th>\n",
       "    </tr>\n",
       "  </thead>\n",
       "  <tbody>\n",
       "    <tr>\n",
       "      <th>0</th>\n",
       "      <td>2017-09-05</td>\n",
       "      <td>0.205110</td>\n",
       "      <td>0.218674</td>\n",
       "      <td>0.190232</td>\n",
       "      <td>0.215189</td>\n",
       "      <td>242,636,000</td>\n",
       "      <td>7,864,700,000</td>\n",
       "    </tr>\n",
       "    <tr>\n",
       "      <th>1</th>\n",
       "      <td>2017-09-04</td>\n",
       "      <td>0.228781</td>\n",
       "      <td>0.228781</td>\n",
       "      <td>0.195960</td>\n",
       "      <td>0.204968</td>\n",
       "      <td>239,613,000</td>\n",
       "      <td>8,772,340,000</td>\n",
       "    </tr>\n",
       "    <tr>\n",
       "      <th>2</th>\n",
       "      <td>2017-09-03</td>\n",
       "      <td>0.227229</td>\n",
       "      <td>0.236443</td>\n",
       "      <td>0.218662</td>\n",
       "      <td>0.228811</td>\n",
       "      <td>186,526,000</td>\n",
       "      <td>8,712,840,000</td>\n",
       "    </tr>\n",
       "    <tr>\n",
       "      <th>3</th>\n",
       "      <td>2017-09-02</td>\n",
       "      <td>0.249348</td>\n",
       "      <td>0.249680</td>\n",
       "      <td>0.217774</td>\n",
       "      <td>0.226669</td>\n",
       "      <td>329,928,000</td>\n",
       "      <td>9,560,940,000</td>\n",
       "    </tr>\n",
       "    <tr>\n",
       "      <th>4</th>\n",
       "      <td>2017-09-01</td>\n",
       "      <td>0.255803</td>\n",
       "      <td>0.256162</td>\n",
       "      <td>0.243833</td>\n",
       "      <td>0.248479</td>\n",
       "      <td>283,576,000</td>\n",
       "      <td>9,808,460,000</td>\n",
       "    </tr>\n",
       "  </tbody>\n",
       "</table>\n",
       "</div>"
      ],
      "text/plain": [
       "        Date      Open      High       Low     Close       Volume  \\\n",
       "0 2017-09-05  0.205110  0.218674  0.190232  0.215189  242,636,000   \n",
       "1 2017-09-04  0.228781  0.228781  0.195960  0.204968  239,613,000   \n",
       "2 2017-09-03  0.227229  0.236443  0.218662  0.228811  186,526,000   \n",
       "3 2017-09-02  0.249348  0.249680  0.217774  0.226669  329,928,000   \n",
       "4 2017-09-01  0.255803  0.256162  0.243833  0.248479  283,576,000   \n",
       "\n",
       "      Market Cap  \n",
       "0  7,864,700,000  \n",
       "1  8,772,340,000  \n",
       "2  8,712,840,000  \n",
       "3  9,560,940,000  \n",
       "4  9,808,460,000  "
      ]
     },
     "execution_count": 2,
     "metadata": {},
     "output_type": "execute_result"
    }
   ],
   "source": [
    "# Read Bitcoin Cash Price\n",
    "df1 = pd.read_csv('../data/raw/cryptocurrencypricehistory/ripple_price.csv', parse_dates = ['Date'])\n",
    "df1.head()"
   ]
  },
  {
   "cell_type": "code",
   "execution_count": 3,
   "metadata": {},
   "outputs": [
    {
     "data": {
      "text/plain": [
       "pandas._libs.tslibs.timestamps.Timestamp"
      ]
     },
     "execution_count": 3,
     "metadata": {},
     "output_type": "execute_result"
    }
   ],
   "source": [
    "type(df1.Date[0])"
   ]
  },
  {
   "cell_type": "code",
   "execution_count": 4,
   "metadata": {},
   "outputs": [],
   "source": [
    "# Set Date as it's index\n",
    "df1.set_index('Date', inplace = True )"
   ]
  },
  {
   "cell_type": "code",
   "execution_count": 5,
   "metadata": {
    "scrolled": true
   },
   "outputs": [
    {
     "name": "stdout",
     "output_type": "stream",
     "text": [
      "<class 'pandas.core.frame.DataFrame'>\n",
      "DatetimeIndex: 1494 entries, 2017-09-05 to 2013-08-04\n",
      "Data columns (total 6 columns):\n",
      "Open          1494 non-null float64\n",
      "High          1494 non-null float64\n",
      "Low           1494 non-null float64\n",
      "Close         1494 non-null float64\n",
      "Volume        1494 non-null object\n",
      "Market Cap    1494 non-null object\n",
      "dtypes: float64(4), object(2)\n",
      "memory usage: 81.7+ KB\n"
     ]
    }
   ],
   "source": [
    "# Get General Information regarding data frame\n",
    "df1.info()"
   ]
  },
  {
   "cell_type": "markdown",
   "metadata": {},
   "source": [
    "- The data frame has 1494 entries and 6 columns. \n",
    "- All columns has 1494 elements, probably there's no missing data. To make it sure, We'll see for this\n",
    "- Volume and market cap's data type are an object, it should be number."
   ]
  },
  {
   "cell_type": "code",
   "execution_count": 6,
   "metadata": {},
   "outputs": [
    {
     "data": {
      "text/plain": [
       "Open            0\n",
       "High            0\n",
       "Low             0\n",
       "Close           0\n",
       "Volume        145\n",
       "Market Cap      0\n",
       "dtype: int64"
      ]
     },
     "execution_count": 6,
     "metadata": {},
     "output_type": "execute_result"
    }
   ],
   "source": [
    "# Replace missing data as NaN\n",
    "df1.replace('-', np.nan,inplace=True)\n",
    "# Count missing data\n",
    "df1.isnull().sum()"
   ]
  },
  {
   "cell_type": "markdown",
   "metadata": {},
   "source": [
    "#### 2. Cleaning Data Part (Deal with Wrong Format)"
   ]
  },
  {
   "cell_type": "markdown",
   "metadata": {},
   "source": [
    "Problem :\n",
    "- Some data has different format, therefore Volume recognize as a string, not a number.\n",
    "- There is null data in Volume\n",
    "\n",
    "Solution:\n",
    "- Convert to float number\n",
    "- Using interpolation to fill the missing data"
   ]
  },
  {
   "cell_type": "code",
   "execution_count": 7,
   "metadata": {},
   "outputs": [
    {
     "name": "stdout",
     "output_type": "stream",
     "text": [
      "Volume Data Type : <class 'str'>\n",
      "Market Cap Data Type : <class 'str'>\n"
     ]
    }
   ],
   "source": [
    "print('Volume Data Type :', type(df1.Volume[0]))\n",
    "print('Market Cap Data Type :', type(df1['Market Cap'][0]))"
   ]
  },
  {
   "cell_type": "code",
   "execution_count": 8,
   "metadata": {
    "scrolled": false
   },
   "outputs": [
    {
     "name": "stdout",
     "output_type": "stream",
     "text": [
      "<class 'pandas.core.frame.DataFrame'>\n",
      "DatetimeIndex: 1494 entries, 2017-09-05 to 2013-08-04\n",
      "Data columns (total 6 columns):\n",
      "Open          1494 non-null float64\n",
      "High          1494 non-null float64\n",
      "Low           1494 non-null float64\n",
      "Close         1494 non-null float64\n",
      "Volume        1349 non-null float64\n",
      "Market Cap    1494 non-null int64\n",
      "dtypes: float64(5), int64(1)\n",
      "memory usage: 121.7 KB\n"
     ]
    }
   ],
   "source": [
    "#convert data to number\n",
    "def convert_to_number(x):\n",
    "    try:\n",
    "        return int(x.replace(',',''))\n",
    "    except:\n",
    "        return x\n",
    "\n",
    "df1.Volume = df1.Volume.apply(convert_to_number)\n",
    "df1['Market Cap'] = df1['Market Cap'].apply(convert_to_number)\n",
    "\n",
    "df1.info()"
   ]
  },
  {
   "cell_type": "code",
   "execution_count": 9,
   "metadata": {
    "scrolled": true
   },
   "outputs": [
    {
     "data": {
      "text/html": [
       "<div>\n",
       "<style scoped>\n",
       "    .dataframe tbody tr th:only-of-type {\n",
       "        vertical-align: middle;\n",
       "    }\n",
       "\n",
       "    .dataframe tbody tr th {\n",
       "        vertical-align: top;\n",
       "    }\n",
       "\n",
       "    .dataframe thead th {\n",
       "        text-align: right;\n",
       "    }\n",
       "</style>\n",
       "<table border=\"1\" class=\"dataframe\">\n",
       "  <thead>\n",
       "    <tr style=\"text-align: right;\">\n",
       "      <th></th>\n",
       "      <th>Open</th>\n",
       "      <th>High</th>\n",
       "      <th>Low</th>\n",
       "      <th>Close</th>\n",
       "      <th>Volume</th>\n",
       "      <th>Market Cap</th>\n",
       "    </tr>\n",
       "  </thead>\n",
       "  <tbody>\n",
       "    <tr>\n",
       "      <th>count</th>\n",
       "      <td>1494.000000</td>\n",
       "      <td>1494.000000</td>\n",
       "      <td>1494.000000</td>\n",
       "      <td>1494.000000</td>\n",
       "      <td>1.349000e+03</td>\n",
       "      <td>1.494000e+03</td>\n",
       "    </tr>\n",
       "    <tr>\n",
       "      <th>mean</th>\n",
       "      <td>0.027803</td>\n",
       "      <td>0.029456</td>\n",
       "      <td>0.026254</td>\n",
       "      <td>0.027934</td>\n",
       "      <td>2.111592e+07</td>\n",
       "      <td>9.496100e+08</td>\n",
       "    </tr>\n",
       "    <tr>\n",
       "      <th>std</th>\n",
       "      <td>0.063325</td>\n",
       "      <td>0.067624</td>\n",
       "      <td>0.059060</td>\n",
       "      <td>0.063490</td>\n",
       "      <td>9.559944e+07</td>\n",
       "      <td>2.456712e+09</td>\n",
       "    </tr>\n",
       "    <tr>\n",
       "      <th>min</th>\n",
       "      <td>0.002809</td>\n",
       "      <td>0.003082</td>\n",
       "      <td>0.002802</td>\n",
       "      <td>0.002810</td>\n",
       "      <td>8.316000e+03</td>\n",
       "      <td>2.196030e+07</td>\n",
       "    </tr>\n",
       "    <tr>\n",
       "      <th>25%</th>\n",
       "      <td>0.005974</td>\n",
       "      <td>0.006084</td>\n",
       "      <td>0.005894</td>\n",
       "      <td>0.005982</td>\n",
       "      <td>2.725070e+05</td>\n",
       "      <td>1.413848e+08</td>\n",
       "    </tr>\n",
       "    <tr>\n",
       "      <th>50%</th>\n",
       "      <td>0.007478</td>\n",
       "      <td>0.007698</td>\n",
       "      <td>0.007296</td>\n",
       "      <td>0.007484</td>\n",
       "      <td>6.042140e+05</td>\n",
       "      <td>2.292110e+08</td>\n",
       "    </tr>\n",
       "    <tr>\n",
       "      <th>75%</th>\n",
       "      <td>0.012785</td>\n",
       "      <td>0.013157</td>\n",
       "      <td>0.011890</td>\n",
       "      <td>0.012859</td>\n",
       "      <td>1.642070e+06</td>\n",
       "      <td>2.852108e+08</td>\n",
       "    </tr>\n",
       "    <tr>\n",
       "      <th>max</th>\n",
       "      <td>0.394931</td>\n",
       "      <td>0.435170</td>\n",
       "      <td>0.332222</td>\n",
       "      <td>0.394132</td>\n",
       "      <td>1.770400e+09</td>\n",
       "      <td>1.512820e+10</td>\n",
       "    </tr>\n",
       "  </tbody>\n",
       "</table>\n",
       "</div>"
      ],
      "text/plain": [
       "              Open         High          Low        Close        Volume  \\\n",
       "count  1494.000000  1494.000000  1494.000000  1494.000000  1.349000e+03   \n",
       "mean      0.027803     0.029456     0.026254     0.027934  2.111592e+07   \n",
       "std       0.063325     0.067624     0.059060     0.063490  9.559944e+07   \n",
       "min       0.002809     0.003082     0.002802     0.002810  8.316000e+03   \n",
       "25%       0.005974     0.006084     0.005894     0.005982  2.725070e+05   \n",
       "50%       0.007478     0.007698     0.007296     0.007484  6.042140e+05   \n",
       "75%       0.012785     0.013157     0.011890     0.012859  1.642070e+06   \n",
       "max       0.394931     0.435170     0.332222     0.394132  1.770400e+09   \n",
       "\n",
       "         Market Cap  \n",
       "count  1.494000e+03  \n",
       "mean   9.496100e+08  \n",
       "std    2.456712e+09  \n",
       "min    2.196030e+07  \n",
       "25%    1.413848e+08  \n",
       "50%    2.292110e+08  \n",
       "75%    2.852108e+08  \n",
       "max    1.512820e+10  "
      ]
     },
     "execution_count": 9,
     "metadata": {},
     "output_type": "execute_result"
    }
   ],
   "source": [
    "df1.describe()"
   ]
  },
  {
   "cell_type": "markdown",
   "metadata": {},
   "source": [
    "#### 3. Cleaning Data 2 (Deal with Missing Data)"
   ]
  },
  {
   "cell_type": "code",
   "execution_count": 10,
   "metadata": {
    "scrolled": true
   },
   "outputs": [
    {
     "data": {
      "text/plain": [
       "Open            0\n",
       "High            0\n",
       "Low             0\n",
       "Close           0\n",
       "Volume        145\n",
       "Market Cap      0\n",
       "dtype: int64"
      ]
     },
     "execution_count": 10,
     "metadata": {},
     "output_type": "execute_result"
    }
   ],
   "source": [
    "df1.isna().sum()"
   ]
  },
  {
   "cell_type": "code",
   "execution_count": 11,
   "metadata": {
    "scrolled": false
   },
   "outputs": [
    {
     "data": {
      "text/html": [
       "<div>\n",
       "<style scoped>\n",
       "    .dataframe tbody tr th:only-of-type {\n",
       "        vertical-align: middle;\n",
       "    }\n",
       "\n",
       "    .dataframe tbody tr th {\n",
       "        vertical-align: top;\n",
       "    }\n",
       "\n",
       "    .dataframe thead th {\n",
       "        text-align: right;\n",
       "    }\n",
       "</style>\n",
       "<table border=\"1\" class=\"dataframe\">\n",
       "  <thead>\n",
       "    <tr style=\"text-align: right;\">\n",
       "      <th></th>\n",
       "      <th>Open</th>\n",
       "      <th>High</th>\n",
       "      <th>Low</th>\n",
       "      <th>Close</th>\n",
       "      <th>Volume</th>\n",
       "      <th>Market Cap</th>\n",
       "    </tr>\n",
       "    <tr>\n",
       "      <th>Date</th>\n",
       "      <th></th>\n",
       "      <th></th>\n",
       "      <th></th>\n",
       "      <th></th>\n",
       "      <th></th>\n",
       "      <th></th>\n",
       "    </tr>\n",
       "  </thead>\n",
       "  <tbody>\n",
       "    <tr>\n",
       "      <th>2013-12-31</th>\n",
       "      <td>0.027675</td>\n",
       "      <td>0.027738</td>\n",
       "      <td>0.027022</td>\n",
       "      <td>0.027330</td>\n",
       "      <td>63621.0</td>\n",
       "      <td>216359000</td>\n",
       "    </tr>\n",
       "    <tr>\n",
       "      <th>2013-12-30</th>\n",
       "      <td>0.027055</td>\n",
       "      <td>0.027750</td>\n",
       "      <td>0.026985</td>\n",
       "      <td>0.027460</td>\n",
       "      <td>72634.0</td>\n",
       "      <td>211515000</td>\n",
       "    </tr>\n",
       "    <tr>\n",
       "      <th>2013-12-29</th>\n",
       "      <td>0.027311</td>\n",
       "      <td>0.027535</td>\n",
       "      <td>0.026627</td>\n",
       "      <td>0.027218</td>\n",
       "      <td>56772.0</td>\n",
       "      <td>213518000</td>\n",
       "    </tr>\n",
       "    <tr>\n",
       "      <th>2013-12-28</th>\n",
       "      <td>0.027554</td>\n",
       "      <td>0.028106</td>\n",
       "      <td>0.026629</td>\n",
       "      <td>0.027303</td>\n",
       "      <td>143404.0</td>\n",
       "      <td>215413000</td>\n",
       "    </tr>\n",
       "    <tr>\n",
       "      <th>2013-12-27</th>\n",
       "      <td>0.024427</td>\n",
       "      <td>0.027123</td>\n",
       "      <td>0.023527</td>\n",
       "      <td>0.027076</td>\n",
       "      <td>148422.0</td>\n",
       "      <td>190964000</td>\n",
       "    </tr>\n",
       "  </tbody>\n",
       "</table>\n",
       "</div>"
      ],
      "text/plain": [
       "                Open      High       Low     Close    Volume  Market Cap\n",
       "Date                                                                    \n",
       "2013-12-31  0.027675  0.027738  0.027022  0.027330   63621.0   216359000\n",
       "2013-12-30  0.027055  0.027750  0.026985  0.027460   72634.0   211515000\n",
       "2013-12-29  0.027311  0.027535  0.026627  0.027218   56772.0   213518000\n",
       "2013-12-28  0.027554  0.028106  0.026629  0.027303  143404.0   215413000\n",
       "2013-12-27  0.024427  0.027123  0.023527  0.027076  148422.0   190964000"
      ]
     },
     "execution_count": 11,
     "metadata": {},
     "output_type": "execute_result"
    }
   ],
   "source": [
    "#new_df is the data with non NaN value\n",
    "new_df = df1[np.isfinite(df1['Volume'])]\n",
    "new_df.tail()"
   ]
  },
  {
   "cell_type": "code",
   "execution_count": 12,
   "metadata": {},
   "outputs": [
    {
     "data": {
      "text/html": [
       "<div>\n",
       "<style scoped>\n",
       "    .dataframe tbody tr th:only-of-type {\n",
       "        vertical-align: middle;\n",
       "    }\n",
       "\n",
       "    .dataframe tbody tr th {\n",
       "        vertical-align: top;\n",
       "    }\n",
       "\n",
       "    .dataframe thead th {\n",
       "        text-align: right;\n",
       "    }\n",
       "</style>\n",
       "<table border=\"1\" class=\"dataframe\">\n",
       "  <thead>\n",
       "    <tr style=\"text-align: right;\">\n",
       "      <th></th>\n",
       "      <th>Open</th>\n",
       "      <th>High</th>\n",
       "      <th>Low</th>\n",
       "      <th>Close</th>\n",
       "      <th>Volume</th>\n",
       "      <th>Market Cap</th>\n",
       "    </tr>\n",
       "  </thead>\n",
       "  <tbody>\n",
       "    <tr>\n",
       "      <th>Open</th>\n",
       "      <td>1.000000</td>\n",
       "      <td>0.995909</td>\n",
       "      <td>0.996778</td>\n",
       "      <td>0.994731</td>\n",
       "      <td>0.628818</td>\n",
       "      <td>0.998464</td>\n",
       "    </tr>\n",
       "    <tr>\n",
       "      <th>High</th>\n",
       "      <td>0.995909</td>\n",
       "      <td>1.000000</td>\n",
       "      <td>0.994105</td>\n",
       "      <td>0.997938</td>\n",
       "      <td>0.665021</td>\n",
       "      <td>0.994452</td>\n",
       "    </tr>\n",
       "    <tr>\n",
       "      <th>Low</th>\n",
       "      <td>0.996778</td>\n",
       "      <td>0.994105</td>\n",
       "      <td>1.000000</td>\n",
       "      <td>0.996637</td>\n",
       "      <td>0.618890</td>\n",
       "      <td>0.995252</td>\n",
       "    </tr>\n",
       "    <tr>\n",
       "      <th>Close</th>\n",
       "      <td>0.994731</td>\n",
       "      <td>0.997938</td>\n",
       "      <td>0.996637</td>\n",
       "      <td>1.000000</td>\n",
       "      <td>0.647339</td>\n",
       "      <td>0.993267</td>\n",
       "    </tr>\n",
       "    <tr>\n",
       "      <th>Volume</th>\n",
       "      <td>0.628818</td>\n",
       "      <td>0.665021</td>\n",
       "      <td>0.618890</td>\n",
       "      <td>0.647339</td>\n",
       "      <td>1.000000</td>\n",
       "      <td>0.629679</td>\n",
       "    </tr>\n",
       "    <tr>\n",
       "      <th>Market Cap</th>\n",
       "      <td>0.998464</td>\n",
       "      <td>0.994452</td>\n",
       "      <td>0.995252</td>\n",
       "      <td>0.993267</td>\n",
       "      <td>0.629679</td>\n",
       "      <td>1.000000</td>\n",
       "    </tr>\n",
       "  </tbody>\n",
       "</table>\n",
       "</div>"
      ],
      "text/plain": [
       "                Open      High       Low     Close    Volume  Market Cap\n",
       "Open        1.000000  0.995909  0.996778  0.994731  0.628818    0.998464\n",
       "High        0.995909  1.000000  0.994105  0.997938  0.665021    0.994452\n",
       "Low         0.996778  0.994105  1.000000  0.996637  0.618890    0.995252\n",
       "Close       0.994731  0.997938  0.996637  1.000000  0.647339    0.993267\n",
       "Volume      0.628818  0.665021  0.618890  0.647339  1.000000    0.629679\n",
       "Market Cap  0.998464  0.994452  0.995252  0.993267  0.629679    1.000000"
      ]
     },
     "execution_count": 12,
     "metadata": {},
     "output_type": "execute_result"
    }
   ],
   "source": [
    "# Lets see the correlation between each column\n",
    "correlation = new_df.corr(method=\"pearson\")\n",
    "correlation"
   ]
  },
  {
   "cell_type": "markdown",
   "metadata": {},
   "source": [
    "In the data frame above, we can inferred that Volume has a relationship with High"
   ]
  },
  {
   "cell_type": "markdown",
   "metadata": {},
   "source": [
    "Let's plot data between Market Cap and other variable, then see the relation between the data"
   ]
  },
  {
   "cell_type": "code",
   "execution_count": 14,
   "metadata": {
    "scrolled": true
   },
   "outputs": [
    {
     "data": {
      "image/png": "[encoded data removed]",
      "text/plain": [
       "<Figure size 432x288 with 5 Axes>"
      ]
     },
     "metadata": {
      "needs_background": "light"
     },
     "output_type": "display_data"
    }
   ],
   "source": [
    "import matplotlib.pyplot as plt\n",
    "def plot_data(xdata,ydata,xlabel):\n",
    "    plt.scatter(xdata,ydata,marker='+',color='red')\n",
    "    plt.ylabel('Volume')\n",
    "    plt.xlabel(xlabel)\n",
    "        \n",
    "plt.subplot(2,3,1)\n",
    "plot_data(new_df.Open, new_df['Volume'],'Open')\n",
    "plt.subplot(2,3,2)\n",
    "plot_data(new_df.Close, new_df['Volume'],'Close')\n",
    "plt.subplot(2,3,3)\n",
    "plot_data(new_df.High, new_df['Volume'],'High')\n",
    "plt.subplot(2,3,4)\n",
    "plot_data(new_df.Low, new_df['Volume'],'Low')\n",
    "plt.subplot(2,3,5)\n",
    "plot_data(new_df['Market Cap'], new_df['Volume'],'Market Cap')"
   ]
  },
  {
   "cell_type": "code",
   "execution_count": 15,
   "metadata": {},
   "outputs": [],
   "source": [
    "from sklearn import linear_model\n",
    "\n",
    "model    = linear_model.LinearRegression()\n",
    "x        = new_df[['High']]\n",
    "y        = new_df['Volume']"
   ]
  },
  {
   "cell_type": "code",
   "execution_count": 16,
   "metadata": {
    "scrolled": true
   },
   "outputs": [
    {
     "data": {
      "text/plain": [
       "LinearRegression(copy_X=True, fit_intercept=True, n_jobs=None,\n",
       "         normalize=False)"
      ]
     },
     "execution_count": 16,
     "metadata": {},
     "output_type": "execute_result"
    }
   ],
   "source": [
    "# train data using linear regression \n",
    "model.fit(x, y)"
   ]
  },
  {
   "cell_type": "code",
   "execution_count": 17,
   "metadata": {},
   "outputs": [
    {
     "data": {
      "text/plain": [
       "0.44225280175522086"
      ]
     },
     "execution_count": 17,
     "metadata": {},
     "output_type": "execute_result"
    }
   ],
   "source": [
    "# Model Score\n",
    "model.score(x, y)"
   ]
  },
  {
   "cell_type": "code",
   "execution_count": 18,
   "metadata": {},
   "outputs": [
    {
     "data": {
      "text/html": [
       "<div>\n",
       "<style scoped>\n",
       "    .dataframe tbody tr th:only-of-type {\n",
       "        vertical-align: middle;\n",
       "    }\n",
       "\n",
       "    .dataframe tbody tr th {\n",
       "        vertical-align: top;\n",
       "    }\n",
       "\n",
       "    .dataframe thead th {\n",
       "        text-align: right;\n",
       "    }\n",
       "</style>\n",
       "<table border=\"1\" class=\"dataframe\">\n",
       "  <thead>\n",
       "    <tr style=\"text-align: right;\">\n",
       "      <th></th>\n",
       "      <th>Open</th>\n",
       "      <th>High</th>\n",
       "      <th>Low</th>\n",
       "      <th>Close</th>\n",
       "      <th>Volume</th>\n",
       "      <th>Market Cap</th>\n",
       "      <th>Volume Predict</th>\n",
       "    </tr>\n",
       "    <tr>\n",
       "      <th>Date</th>\n",
       "      <th></th>\n",
       "      <th></th>\n",
       "      <th></th>\n",
       "      <th></th>\n",
       "      <th></th>\n",
       "      <th></th>\n",
       "      <th></th>\n",
       "    </tr>\n",
       "  </thead>\n",
       "  <tbody>\n",
       "    <tr>\n",
       "      <th>2013-12-26</th>\n",
       "      <td>0.022097</td>\n",
       "      <td>0.024891</td>\n",
       "      <td>0.022097</td>\n",
       "      <td>0.024385</td>\n",
       "      <td>NaN</td>\n",
       "      <td>172756000</td>\n",
       "      <td>15541183</td>\n",
       "    </tr>\n",
       "    <tr>\n",
       "      <th>2013-12-25</th>\n",
       "      <td>0.022600</td>\n",
       "      <td>0.022600</td>\n",
       "      <td>0.021434</td>\n",
       "      <td>0.022042</td>\n",
       "      <td>NaN</td>\n",
       "      <td>176680000</td>\n",
       "      <td>13485145</td>\n",
       "    </tr>\n",
       "    <tr>\n",
       "      <th>2013-12-24</th>\n",
       "      <td>0.023698</td>\n",
       "      <td>0.024124</td>\n",
       "      <td>0.022305</td>\n",
       "      <td>0.022575</td>\n",
       "      <td>NaN</td>\n",
       "      <td>185269000</td>\n",
       "      <td>14852846</td>\n",
       "    </tr>\n",
       "    <tr>\n",
       "      <th>2013-12-23</th>\n",
       "      <td>0.021571</td>\n",
       "      <td>0.023965</td>\n",
       "      <td>0.021485</td>\n",
       "      <td>0.023702</td>\n",
       "      <td>NaN</td>\n",
       "      <td>168640000</td>\n",
       "      <td>14710152</td>\n",
       "    </tr>\n",
       "    <tr>\n",
       "      <th>2013-12-22</th>\n",
       "      <td>0.021571</td>\n",
       "      <td>0.023839</td>\n",
       "      <td>0.020959</td>\n",
       "      <td>0.021716</td>\n",
       "      <td>NaN</td>\n",
       "      <td>168637000</td>\n",
       "      <td>14597075</td>\n",
       "    </tr>\n",
       "  </tbody>\n",
       "</table>\n",
       "</div>"
      ],
      "text/plain": [
       "                Open      High       Low     Close  Volume  Market Cap  \\\n",
       "Date                                                                     \n",
       "2013-12-26  0.022097  0.024891  0.022097  0.024385     NaN   172756000   \n",
       "2013-12-25  0.022600  0.022600  0.021434  0.022042     NaN   176680000   \n",
       "2013-12-24  0.023698  0.024124  0.022305  0.022575     NaN   185269000   \n",
       "2013-12-23  0.021571  0.023965  0.021485  0.023702     NaN   168640000   \n",
       "2013-12-22  0.021571  0.023839  0.020959  0.021716     NaN   168637000   \n",
       "\n",
       "            Volume Predict  \n",
       "Date                        \n",
       "2013-12-26        15541183  \n",
       "2013-12-25        13485145  \n",
       "2013-12-24        14852846  \n",
       "2013-12-23        14710152  \n",
       "2013-12-22        14597075  "
      ]
     },
     "execution_count": 18,
     "metadata": {},
     "output_type": "execute_result"
    }
   ],
   "source": [
    "# Fill Missing Data Using linear model prediction \n",
    "# and Assign it to new column\n",
    "x = df1[['High']]\n",
    "y = model.predict(x) \n",
    "df1['Volume Predict'] = y.astype('int64')\n",
    "df1[df1['Volume'].isnull()].head()"
   ]
  },
  {
   "cell_type": "markdown",
   "metadata": {},
   "source": [
    "#### 4. Data Visualization"
   ]
  },
  {
   "cell_type": "code",
   "execution_count": 19,
   "metadata": {
    "scrolled": true
   },
   "outputs": [
    {
     "data": {
      "text/plain": [
       "<matplotlib.axes._subplots.AxesSubplot at 0x7fa32d2477b8>"
      ]
     },
     "execution_count": 19,
     "metadata": {},
     "output_type": "execute_result"
    },
    {
     "data": {
      "image/png": "[encoded data removed]",
      "text/plain": [
       "<Figure size 432x288 with 6 Axes>"
      ]
     },
     "metadata": {
      "needs_background": "light"
     },
     "output_type": "display_data"
    }
   ],
   "source": [
    "# Visualization the average of Open based on time (Week)\n",
    "%matplotlib inline\n",
    "    \n",
    "plt.subplot(2,3,1)\n",
    "plt.ylabel('Open')\n",
    "df1.Open.resample('W').mean().plot()\n",
    "\n",
    "plt.subplot(2,3,2)\n",
    "plt.ylabel('High')\n",
    "df1.High.resample('W').mean().plot()\n",
    "\n",
    "plt.subplot(2,3,3)\n",
    "plt.ylabel('Low')\n",
    "df1.Low.resample('W').mean().plot()\n",
    "\n",
    "plt.subplot(2,3,4)\n",
    "plt.ylabel('Close')\n",
    "df1.Close.resample('W').mean().plot()\n",
    "\n",
    "plt.subplot(2,3,5)\n",
    "plt.ylabel('Volume Predict')\n",
    "df1['Volume Predict'].resample('W').mean().plot()\n",
    "\n",
    "plt.subplot(2,3,6)\n",
    "plt.ylabel('Market Cap')\n",
    "df1['Market Cap'].resample('W').mean().plot()"
   ]
  },
  {
   "cell_type": "code",
   "execution_count": null,
   "metadata": {},
   "outputs": [],
   "source": []
  }
 ],
 "metadata": {
  "kernelspec": {
   "display_name": "Python 3",
   "language": "python",
   "name": "python3"
  },
  "language_info": {
   "codemirror_mode": {
    "name": "ipython",
    "version": 3
   },
   "file_extension": ".py",
   "mimetype": "text/x-python",
   "name": "python",
   "nbconvert_exporter": "python",
   "pygments_lexer": "ipython3",
   "version": "3.7.1"
  }
 },
 "nbformat": 4,
 "nbformat_minor": 2
}
