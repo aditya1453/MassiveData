{
 "cells": [
  {
   "cell_type": "markdown",
   "metadata": {},
   "source": [
    "### Masive Data Lab Activities\n",
    "\n",
    "Description : Read and Cleaning Data\n",
    "File        : bitcoin_price.csv\n",
    "Name        : Yudi Aditya"
   ]
  },
  {
   "cell_type": "code",
   "execution_count": 75,
   "metadata": {
    "scrolled": false
   },
   "outputs": [
    {
     "name": "stdout",
     "output_type": "stream",
     "text": [
      "(1592, 7)\n"
     ]
    },
    {
     "data": {
      "text/html": [
       "<div>\n",
       "<style scoped>\n",
       "    .dataframe tbody tr th:only-of-type {\n",
       "        vertical-align: middle;\n",
       "    }\n",
       "\n",
       "    .dataframe tbody tr th {\n",
       "        vertical-align: top;\n",
       "    }\n",
       "\n",
       "    .dataframe thead th {\n",
       "        text-align: right;\n",
       "    }\n",
       "</style>\n",
       "<table border=\"1\" class=\"dataframe\">\n",
       "  <thead>\n",
       "    <tr style=\"text-align: right;\">\n",
       "      <th></th>\n",
       "      <th>Date</th>\n",
       "      <th>Open</th>\n",
       "      <th>High</th>\n",
       "      <th>Low</th>\n",
       "      <th>Close</th>\n",
       "      <th>Volume</th>\n",
       "      <th>Market Cap</th>\n",
       "    </tr>\n",
       "  </thead>\n",
       "  <tbody>\n",
       "    <tr>\n",
       "      <th>0</th>\n",
       "      <td>Sep 05, 2017</td>\n",
       "      <td>4228.29</td>\n",
       "      <td>4427.84</td>\n",
       "      <td>3998.11</td>\n",
       "      <td>4376.53</td>\n",
       "      <td>2697970000</td>\n",
       "      <td>69954400000</td>\n",
       "    </tr>\n",
       "    <tr>\n",
       "      <th>1</th>\n",
       "      <td>Sep 04, 2017</td>\n",
       "      <td>4591.63</td>\n",
       "      <td>4591.63</td>\n",
       "      <td>4108.40</td>\n",
       "      <td>4236.31</td>\n",
       "      <td>2987330000</td>\n",
       "      <td>75955500000</td>\n",
       "    </tr>\n",
       "    <tr>\n",
       "      <th>2</th>\n",
       "      <td>Sep 03, 2017</td>\n",
       "      <td>4585.27</td>\n",
       "      <td>4714.08</td>\n",
       "      <td>4417.59</td>\n",
       "      <td>4582.96</td>\n",
       "      <td>1933190000</td>\n",
       "      <td>75841700000</td>\n",
       "    </tr>\n",
       "    <tr>\n",
       "      <th>3</th>\n",
       "      <td>Sep 02, 2017</td>\n",
       "      <td>4901.42</td>\n",
       "      <td>4975.04</td>\n",
       "      <td>4469.24</td>\n",
       "      <td>4578.77</td>\n",
       "      <td>2722140000</td>\n",
       "      <td>81060600000</td>\n",
       "    </tr>\n",
       "    <tr>\n",
       "      <th>4</th>\n",
       "      <td>Sep 01, 2017</td>\n",
       "      <td>4701.76</td>\n",
       "      <td>4892.01</td>\n",
       "      <td>4678.53</td>\n",
       "      <td>4892.01</td>\n",
       "      <td>2599080000</td>\n",
       "      <td>77748400000</td>\n",
       "    </tr>\n",
       "  </tbody>\n",
       "</table>\n",
       "</div>"
      ],
      "text/plain": [
       "           Date     Open     High      Low    Close      Volume   Market Cap\n",
       "0  Sep 05, 2017  4228.29  4427.84  3998.11  4376.53  2697970000  69954400000\n",
       "1  Sep 04, 2017  4591.63  4591.63  4108.40  4236.31  2987330000  75955500000\n",
       "2  Sep 03, 2017  4585.27  4714.08  4417.59  4582.96  1933190000  75841700000\n",
       "3  Sep 02, 2017  4901.42  4975.04  4469.24  4578.77  2722140000  81060600000\n",
       "4  Sep 01, 2017  4701.76  4892.01  4678.53  4892.01  2599080000  77748400000"
      ]
     },
     "execution_count": 75,
     "metadata": {},
     "output_type": "execute_result"
    }
   ],
   "source": [
    "import pandas as pd\n",
    "import numpy as np\n",
    "# Read Bitcoin Cash Price\n",
    "df = pd.read_csv('../data/raw/cryptocurrencypricehistory/bitcoin_price.csv')\n",
    "print(df.shape)\n",
    "df.head()"
   ]
  },
  {
   "cell_type": "code",
   "execution_count": 76,
   "metadata": {},
   "outputs": [
    {
     "data": {
      "text/html": [
       "<div>\n",
       "<style scoped>\n",
       "    .dataframe tbody tr th:only-of-type {\n",
       "        vertical-align: middle;\n",
       "    }\n",
       "\n",
       "    .dataframe tbody tr th {\n",
       "        vertical-align: top;\n",
       "    }\n",
       "\n",
       "    .dataframe thead th {\n",
       "        text-align: right;\n",
       "    }\n",
       "</style>\n",
       "<table border=\"1\" class=\"dataframe\">\n",
       "  <thead>\n",
       "    <tr style=\"text-align: right;\">\n",
       "      <th></th>\n",
       "      <th>Date</th>\n",
       "      <th>Open</th>\n",
       "      <th>High</th>\n",
       "      <th>Low</th>\n",
       "      <th>Close</th>\n",
       "      <th>Volume</th>\n",
       "      <th>Market Cap</th>\n",
       "    </tr>\n",
       "  </thead>\n",
       "  <tbody>\n",
       "    <tr>\n",
       "      <th>1587</th>\n",
       "      <td>May 02, 2013</td>\n",
       "      <td>116.38</td>\n",
       "      <td>125.60</td>\n",
       "      <td>92.28</td>\n",
       "      <td>105.21</td>\n",
       "      <td>NaN</td>\n",
       "      <td>1292190000</td>\n",
       "    </tr>\n",
       "    <tr>\n",
       "      <th>1588</th>\n",
       "      <td>May 01, 2013</td>\n",
       "      <td>139.00</td>\n",
       "      <td>139.89</td>\n",
       "      <td>107.72</td>\n",
       "      <td>116.99</td>\n",
       "      <td>NaN</td>\n",
       "      <td>1542820000</td>\n",
       "    </tr>\n",
       "    <tr>\n",
       "      <th>1589</th>\n",
       "      <td>Apr 30, 2013</td>\n",
       "      <td>144.00</td>\n",
       "      <td>146.93</td>\n",
       "      <td>134.05</td>\n",
       "      <td>139.00</td>\n",
       "      <td>NaN</td>\n",
       "      <td>1597780000</td>\n",
       "    </tr>\n",
       "    <tr>\n",
       "      <th>1590</th>\n",
       "      <td>Apr 29, 2013</td>\n",
       "      <td>134.44</td>\n",
       "      <td>147.49</td>\n",
       "      <td>134.00</td>\n",
       "      <td>144.54</td>\n",
       "      <td>NaN</td>\n",
       "      <td>1491160000</td>\n",
       "    </tr>\n",
       "    <tr>\n",
       "      <th>1591</th>\n",
       "      <td>Apr 28, 2013</td>\n",
       "      <td>135.30</td>\n",
       "      <td>135.98</td>\n",
       "      <td>132.10</td>\n",
       "      <td>134.21</td>\n",
       "      <td>NaN</td>\n",
       "      <td>1500520000</td>\n",
       "    </tr>\n",
       "  </tbody>\n",
       "</table>\n",
       "</div>"
      ],
      "text/plain": [
       "              Date    Open    High     Low   Close Volume  Market Cap\n",
       "1587  May 02, 2013  116.38  125.60   92.28  105.21    NaN  1292190000\n",
       "1588  May 01, 2013  139.00  139.89  107.72  116.99    NaN  1542820000\n",
       "1589  Apr 30, 2013  144.00  146.93  134.05  139.00    NaN  1597780000\n",
       "1590  Apr 29, 2013  134.44  147.49  134.00  144.54    NaN  1491160000\n",
       "1591  Apr 28, 2013  135.30  135.98  132.10  134.21    NaN  1500520000"
      ]
     },
     "execution_count": 76,
     "metadata": {},
     "output_type": "execute_result"
    }
   ],
   "source": [
    "#Replace missing data as NaN\n",
    "df.replace('-', np.nan,inplace=True)\n",
    "df.tail()"
   ]
  },
  {
   "cell_type": "code",
   "execution_count": 77,
   "metadata": {},
   "outputs": [
    {
     "data": {
      "text/html": [
       "<div>\n",
       "<style scoped>\n",
       "    .dataframe tbody tr th:only-of-type {\n",
       "        vertical-align: middle;\n",
       "    }\n",
       "\n",
       "    .dataframe tbody tr th {\n",
       "        vertical-align: top;\n",
       "    }\n",
       "\n",
       "    .dataframe thead th {\n",
       "        text-align: right;\n",
       "    }\n",
       "</style>\n",
       "<table border=\"1\" class=\"dataframe\">\n",
       "  <thead>\n",
       "    <tr style=\"text-align: right;\">\n",
       "      <th></th>\n",
       "      <th>Date</th>\n",
       "      <th>Open</th>\n",
       "      <th>High</th>\n",
       "      <th>Low</th>\n",
       "      <th>Close</th>\n",
       "      <th>Volume</th>\n",
       "      <th>Market Cap</th>\n",
       "    </tr>\n",
       "  </thead>\n",
       "  <tbody>\n",
       "    <tr>\n",
       "      <th>0</th>\n",
       "      <td>0</td>\n",
       "      <td>0</td>\n",
       "      <td>0</td>\n",
       "      <td>0</td>\n",
       "      <td>0</td>\n",
       "      <td>243</td>\n",
       "      <td>0</td>\n",
       "    </tr>\n",
       "  </tbody>\n",
       "</table>\n",
       "</div>"
      ],
      "text/plain": [
       "   Date  Open  High  Low  Close  Volume  Market Cap\n",
       "0     0     0     0    0      0     243           0"
      ]
     },
     "execution_count": 77,
     "metadata": {},
     "output_type": "execute_result"
    }
   ],
   "source": [
    "# Count missing data in each column\n",
    "missing_date   = df.Date.isnull().sum()\n",
    "missing_open   = df.Open.isnull().sum()\n",
    "missing_high   = df.High.isnull().sum()\n",
    "missing_low    = df.Low.isnull().sum()\n",
    "missing_close  = df.Close.isnull().sum()\n",
    "missing_volume = df.Volume.isnull().sum()\n",
    "missing_market_cap = df['Market Cap'].isnull().sum()\n",
    "\n",
    "missing_data = pd.DataFrame([[missing_date,missing_open, missing_high, missing_low,missing_close,missing_volume,missing_market_cap]],\n",
    "                            columns=['Date', 'Open', 'High', 'Low', 'Close', 'Volume', 'Market Cap'])\n",
    "\n",
    "missing_data"
   ]
  },
  {
   "cell_type": "markdown",
   "metadata": {},
   "source": [
    "Problem  : \n",
    "- Volume recognized as a string \n",
    "- Missing 243 from 1592 data in Volume \n",
    "\n",
    "Solution :\n",
    "- Convert volume from string to float data type\n",
    "- interpolation or using mean"
   ]
  },
  {
   "cell_type": "code",
   "execution_count": 78,
   "metadata": {},
   "outputs": [
    {
     "data": {
      "text/html": [
       "<div>\n",
       "<style scoped>\n",
       "    .dataframe tbody tr th:only-of-type {\n",
       "        vertical-align: middle;\n",
       "    }\n",
       "\n",
       "    .dataframe tbody tr th {\n",
       "        vertical-align: top;\n",
       "    }\n",
       "\n",
       "    .dataframe thead th {\n",
       "        text-align: right;\n",
       "    }\n",
       "</style>\n",
       "<table border=\"1\" class=\"dataframe\">\n",
       "  <thead>\n",
       "    <tr style=\"text-align: right;\">\n",
       "      <th></th>\n",
       "      <th>Open</th>\n",
       "      <th>High</th>\n",
       "      <th>Low</th>\n",
       "      <th>Close</th>\n",
       "      <th>Volume</th>\n",
       "      <th>Market Cap</th>\n",
       "    </tr>\n",
       "  </thead>\n",
       "  <tbody>\n",
       "    <tr>\n",
       "      <th>count</th>\n",
       "      <td>1592.000000</td>\n",
       "      <td>1592.000000</td>\n",
       "      <td>1592.000000</td>\n",
       "      <td>1592.000000</td>\n",
       "      <td>1.349000e+03</td>\n",
       "      <td>1.592000e+03</td>\n",
       "    </tr>\n",
       "    <tr>\n",
       "      <th>mean</th>\n",
       "      <td>658.283649</td>\n",
       "      <td>676.271727</td>\n",
       "      <td>641.050616</td>\n",
       "      <td>660.837795</td>\n",
       "      <td>2.009098e+08</td>\n",
       "      <td>9.964862e+09</td>\n",
       "    </tr>\n",
       "    <tr>\n",
       "      <th>std</th>\n",
       "      <td>723.653014</td>\n",
       "      <td>749.473657</td>\n",
       "      <td>699.635365</td>\n",
       "      <td>729.447612</td>\n",
       "      <td>4.654899e+08</td>\n",
       "      <td>1.209521e+10</td>\n",
       "    </tr>\n",
       "    <tr>\n",
       "      <th>min</th>\n",
       "      <td>68.500000</td>\n",
       "      <td>74.560000</td>\n",
       "      <td>65.530000</td>\n",
       "      <td>68.430000</td>\n",
       "      <td>2.857830e+06</td>\n",
       "      <td>7.792550e+08</td>\n",
       "    </tr>\n",
       "    <tr>\n",
       "      <th>25%</th>\n",
       "      <td>258.350000</td>\n",
       "      <td>263.930000</td>\n",
       "      <td>253.177500</td>\n",
       "      <td>258.592500</td>\n",
       "      <td>2.099780e+07</td>\n",
       "      <td>3.648115e+09</td>\n",
       "    </tr>\n",
       "    <tr>\n",
       "      <th>50%</th>\n",
       "      <td>444.885000</td>\n",
       "      <td>450.605000</td>\n",
       "      <td>437.180000</td>\n",
       "      <td>444.705000</td>\n",
       "      <td>4.690500e+07</td>\n",
       "      <td>6.449795e+09</td>\n",
       "    </tr>\n",
       "    <tr>\n",
       "      <th>75%</th>\n",
       "      <td>680.187500</td>\n",
       "      <td>703.960000</td>\n",
       "      <td>660.775000</td>\n",
       "      <td>682.142500</td>\n",
       "      <td>9.922380e+07</td>\n",
       "      <td>1.021785e+10</td>\n",
       "    </tr>\n",
       "    <tr>\n",
       "      <th>max</th>\n",
       "      <td>4901.420000</td>\n",
       "      <td>4975.040000</td>\n",
       "      <td>4678.530000</td>\n",
       "      <td>4892.010000</td>\n",
       "      <td>3.764240e+09</td>\n",
       "      <td>8.106060e+10</td>\n",
       "    </tr>\n",
       "  </tbody>\n",
       "</table>\n",
       "</div>"
      ],
      "text/plain": [
       "              Open         High          Low        Close        Volume  \\\n",
       "count  1592.000000  1592.000000  1592.000000  1592.000000  1.349000e+03   \n",
       "mean    658.283649   676.271727   641.050616   660.837795  2.009098e+08   \n",
       "std     723.653014   749.473657   699.635365   729.447612  4.654899e+08   \n",
       "min      68.500000    74.560000    65.530000    68.430000  2.857830e+06   \n",
       "25%     258.350000   263.930000   253.177500   258.592500  2.099780e+07   \n",
       "50%     444.885000   450.605000   437.180000   444.705000  4.690500e+07   \n",
       "75%     680.187500   703.960000   660.775000   682.142500  9.922380e+07   \n",
       "max    4901.420000  4975.040000  4678.530000  4892.010000  3.764240e+09   \n",
       "\n",
       "         Market Cap  \n",
       "count  1.592000e+03  \n",
       "mean   9.964862e+09  \n",
       "std    1.209521e+10  \n",
       "min    7.792550e+08  \n",
       "25%    3.648115e+09  \n",
       "50%    6.449795e+09  \n",
       "75%    1.021785e+10  \n",
       "max    8.106060e+10  "
      ]
     },
     "execution_count": 78,
     "metadata": {},
     "output_type": "execute_result"
    }
   ],
   "source": [
    "# Convert string to float in volume\n",
    "df.Volume = df.Volume.astype('float64')\n",
    "df.describe()"
   ]
  },
  {
   "cell_type": "code",
   "execution_count": 79,
   "metadata": {},
   "outputs": [
    {
     "data": {
      "image/png": "[encoded data removed]",
      "text/plain": [
       "<Figure size 432x288 with 1 Axes>"
      ]
     },
     "metadata": {
      "needs_background": "light"
     },
     "output_type": "display_data"
    },
    {
     "data": {
      "image/png": "[encoded data removed]",
      "text/plain": [
       "<Figure size 432x288 with 1 Axes>"
      ]
     },
     "metadata": {
      "needs_background": "light"
     },
     "output_type": "display_data"
    },
    {
     "data": {
      "image/png": "[encoded data removed]",
      "text/plain": [
       "<Figure size 432x288 with 1 Axes>"
      ]
     },
     "metadata": {
      "needs_background": "light"
     },
     "output_type": "display_data"
    },
    {
     "data": {
      "image/png": "[encoded data removed]",
      "text/plain": [
       "<Figure size 432x288 with 1 Axes>"
      ]
     },
     "metadata": {
      "needs_background": "light"
     },
     "output_type": "display_data"
    },
    {
     "data": {
      "image/png": "[encoded data removed]",
      "text/plain": [
       "<Figure size 432x288 with 1 Axes>"
      ]
     },
     "metadata": {
      "needs_background": "light"
     },
     "output_type": "display_data"
    }
   ],
   "source": [
    "import matplotlib.pyplot as plt\n",
    "\n",
    "def plot_data(xdata, ydata, ylabel): \n",
    "    plt.title('Volume vs ' + ylabel)\n",
    "    plt.scatter(xdata,ydata,marker='.',color='red')\n",
    "    plt.xlabel('Volume')\n",
    "    plt.ylabel(ylabel)\n",
    "    plt.show()\n",
    "\n",
    "new_df = df.dropna(subset=['Volume'])\n",
    "plot_data(new_df['Volume'],new_df['Open'], 'Open')\n",
    "plot_data(new_df['Volume'],new_df['High'], 'High')\n",
    "plot_data(new_df['Volume'],new_df['Low'], 'Low')\n",
    "plot_data(new_df['Volume'],new_df['Close'], 'Close')\n",
    "plot_data(new_df['Volume'],new_df['Market Cap'], 'Market Cap')"
   ]
  },
  {
   "cell_type": "code",
   "execution_count": 80,
   "metadata": {},
   "outputs": [
    {
     "data": {
      "text/html": [
       "<div>\n",
       "<style scoped>\n",
       "    .dataframe tbody tr th:only-of-type {\n",
       "        vertical-align: middle;\n",
       "    }\n",
       "\n",
       "    .dataframe tbody tr th {\n",
       "        vertical-align: top;\n",
       "    }\n",
       "\n",
       "    .dataframe thead th {\n",
       "        text-align: right;\n",
       "    }\n",
       "</style>\n",
       "<table border=\"1\" class=\"dataframe\">\n",
       "  <thead>\n",
       "    <tr style=\"text-align: right;\">\n",
       "      <th></th>\n",
       "      <th>Date</th>\n",
       "      <th>Open</th>\n",
       "      <th>High</th>\n",
       "      <th>Low</th>\n",
       "      <th>Close</th>\n",
       "      <th>Volume</th>\n",
       "      <th>Market Cap</th>\n",
       "    </tr>\n",
       "  </thead>\n",
       "  <tbody>\n",
       "    <tr>\n",
       "      <th>0</th>\n",
       "      <td>Sep 05, 2017</td>\n",
       "      <td>4228.29</td>\n",
       "      <td>4427.84</td>\n",
       "      <td>3998.11</td>\n",
       "      <td>4376.53</td>\n",
       "      <td>2.697970e+09</td>\n",
       "      <td>69954400000</td>\n",
       "    </tr>\n",
       "    <tr>\n",
       "      <th>1</th>\n",
       "      <td>Sep 04, 2017</td>\n",
       "      <td>4591.63</td>\n",
       "      <td>4591.63</td>\n",
       "      <td>4108.40</td>\n",
       "      <td>4236.31</td>\n",
       "      <td>2.987330e+09</td>\n",
       "      <td>75955500000</td>\n",
       "    </tr>\n",
       "    <tr>\n",
       "      <th>2</th>\n",
       "      <td>Sep 03, 2017</td>\n",
       "      <td>4585.27</td>\n",
       "      <td>4714.08</td>\n",
       "      <td>4417.59</td>\n",
       "      <td>4582.96</td>\n",
       "      <td>1.933190e+09</td>\n",
       "      <td>75841700000</td>\n",
       "    </tr>\n",
       "    <tr>\n",
       "      <th>3</th>\n",
       "      <td>Sep 02, 2017</td>\n",
       "      <td>4901.42</td>\n",
       "      <td>4975.04</td>\n",
       "      <td>4469.24</td>\n",
       "      <td>4578.77</td>\n",
       "      <td>2.722140e+09</td>\n",
       "      <td>81060600000</td>\n",
       "    </tr>\n",
       "    <tr>\n",
       "      <th>4</th>\n",
       "      <td>Sep 01, 2017</td>\n",
       "      <td>4701.76</td>\n",
       "      <td>4892.01</td>\n",
       "      <td>4678.53</td>\n",
       "      <td>4892.01</td>\n",
       "      <td>2.599080e+09</td>\n",
       "      <td>77748400000</td>\n",
       "    </tr>\n",
       "  </tbody>\n",
       "</table>\n",
       "</div>"
      ],
      "text/plain": [
       "           Date     Open     High      Low    Close        Volume   Market Cap\n",
       "0  Sep 05, 2017  4228.29  4427.84  3998.11  4376.53  2.697970e+09  69954400000\n",
       "1  Sep 04, 2017  4591.63  4591.63  4108.40  4236.31  2.987330e+09  75955500000\n",
       "2  Sep 03, 2017  4585.27  4714.08  4417.59  4582.96  1.933190e+09  75841700000\n",
       "3  Sep 02, 2017  4901.42  4975.04  4469.24  4578.77  2.722140e+09  81060600000\n",
       "4  Sep 01, 2017  4701.76  4892.01  4678.53  4892.01  2.599080e+09  77748400000"
      ]
     },
     "execution_count": 80,
     "metadata": {},
     "output_type": "execute_result"
    }
   ],
   "source": [
    "# Fill missing data using mean\n",
    "df.fillna(df.Volume.mean())\n",
    "df.head()"
   ]
  },
  {
   "cell_type": "code",
   "execution_count": null,
   "metadata": {},
   "outputs": [],
   "source": []
  }
 ],
 "metadata": {
  "kernelspec": {
   "display_name": "Python 3",
   "language": "python",
   "name": "python3"
  },
  "language_info": {
   "codemirror_mode": {
    "name": "ipython",
    "version": 3
   },
   "file_extension": ".py",
   "mimetype": "text/x-python",
   "name": "python",
   "nbconvert_exporter": "python",
   "pygments_lexer": "ipython3",
   "version": "3.7.1"
  }
 },
 "nbformat": 4,
 "nbformat_minor": 2
}
